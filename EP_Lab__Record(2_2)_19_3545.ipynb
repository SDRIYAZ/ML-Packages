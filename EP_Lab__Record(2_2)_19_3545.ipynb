{
  "nbformat": 4,
  "nbformat_minor": 0,
  "metadata": {
    "colab": {
      "name": "EP_Lab_ Record(2-2) 19_3545.ipynb",
      "provenance": [],
      "collapsed_sections": [
        "XLgEau2I8xT4",
        "pGhd15wQCBCy",
        "tivkbfQiDRj-",
        "_m3qzdWaDyXB",
        "dZh1VvYcGC6Y",
        "7DliLMSXMJsu",
        "wIpugZZpu4V7",
        "iX2Yg7BwvG0K"
      ],
      "toc_visible": true,
      "authorship_tag": "ABX9TyPIQjFk6axwWVccZ85eocfw",
      "include_colab_link": true
    },
    "kernelspec": {
      "name": "python3",
      "display_name": "Python 3"
    },
    "language_info": {
      "name": "python"
    }
  },
  "cells": [
    {
      "cell_type": "markdown",
      "metadata": {
        "id": "view-in-github",
        "colab_type": "text"
      },
      "source": [
        "<a href=\"https://colab.research.google.com/github/SDRIYAZ/ML-Packages/blob/main/EP_Lab__Record(2_2)_19_3545.ipynb\" target=\"_parent\"><img src=\"https://colab.research.google.com/assets/colab-badge.svg\" alt=\"Open In Colab\"/></a>"
      ]
    },
    {
      "cell_type": "markdown",
      "metadata": {
        "id": "8FvmGxU05dBv"
      },
      "source": [
        "#Excercise-1"
      ]
    },
    {
      "cell_type": "code",
      "metadata": {
        "colab": {
          "base_uri": "https://localhost:8080/"
        },
        "id": "BMdviV_r2sn_",
        "outputId": "b6271f30-750f-4393-96da-99e68eb4ac36"
      },
      "source": [
        "#b) Write a program to implement basic data types\n",
        "a = 10\n",
        "print(a, \"is of type\", type(a))\n",
        "a = 5.0\n",
        "print(a, \"is of type\", type(a))\n",
        "a = 6+2j\n",
        "print(a, \"is complex number?\", isinstance(1+2j,complex))\n"
      ],
      "execution_count": null,
      "outputs": [
        {
          "output_type": "stream",
          "text": [
            "10 is of type <class 'int'>\n",
            "5.0 is of type <class 'float'>\n",
            "(6+2j) is complex number? True\n"
          ],
          "name": "stdout"
        }
      ]
    },
    {
      "cell_type": "code",
      "metadata": {
        "id": "80Vi-mRQ20d6",
        "colab": {
          "base_uri": "https://localhost:8080/"
        },
        "outputId": "5f739824-c814-447e-c66f-5f93425b229d"
      },
      "source": [
        "#c) Write a program to demonstrate operators and expressions\n",
        "##1)\tProgram to implement Arithmetic operators\n",
        "x = 20\n",
        "y = 8\n",
        "print('x + y =',x+y)\n",
        "print('x - y =',x-y)\n",
        "print('x * y =',x*y)\n",
        "print('x / y =',x/y)\n",
        "print('x // y =',x//y)\n",
        "print('x ** y =', x**y)\n"
      ],
      "execution_count": null,
      "outputs": [
        {
          "output_type": "stream",
          "text": [
            "x + y = 28\n",
            "x - y = 12\n",
            "x * y = 160\n",
            "x / y = 2.5\n",
            "x // y = 2\n",
            "x ** y = 25600000000\n"
          ],
          "name": "stdout"
        }
      ]
    },
    {
      "cell_type": "code",
      "metadata": {
        "colab": {
          "base_uri": "https://localhost:8080/"
        },
        "id": "aBrjxsk156XW",
        "outputId": "3f92082f-f72e-4084-af1e-c8b6bb4b2610"
      },
      "source": [
        "##2) Program to implement Comparison Operators\n",
        "x = 10\n",
        "y = 20\n",
        "print('x > y  is',x>y)\n",
        "print('x < y  is',x<y)\n",
        "print('x == y is',x==y)\n",
        "print('x != y is',x!=y)\n"
      ],
      "execution_count": null,
      "outputs": [
        {
          "output_type": "stream",
          "text": [
            "x > y  is False\n",
            "x < y  is True\n",
            "x == y is False\n",
            "x != y is True\n"
          ],
          "name": "stdout"
        }
      ]
    },
    {
      "cell_type": "code",
      "metadata": {
        "colab": {
          "base_uri": "https://localhost:8080/"
        },
        "id": "eRBNMUj46Y1P",
        "outputId": "849dec9b-cbb8-4220-8710-f526bc4df14d"
      },
      "source": [
        "##3) Program to implement Logical Operators\n",
        "x = True\n",
        "y = False\n",
        "print('x and y is',x and y)\n",
        "print('x or y is',x or y)\n",
        "print('not x is',not x)\t\n"
      ],
      "execution_count": null,
      "outputs": [
        {
          "output_type": "stream",
          "text": [
            "x and y is False\n",
            "x or y is True\n",
            "not x is False\n"
          ],
          "name": "stdout"
        }
      ]
    },
    {
      "cell_type": "code",
      "metadata": {
        "colab": {
          "base_uri": "https://localhost:8080/"
        },
        "id": "vhpCxY-J6oTe",
        "outputId": "8ae18f2e-fd32-41aa-e5bb-d3569e744ca7"
      },
      "source": [
        "##4) Program to implement Identity operators\n",
        "x1 = 5\n",
        "y1 = 5\n",
        "x2 = 'Hey'\n",
        "y2 = 'Hey'\n",
        "x3 = [4,5,6]\n",
        "y3 = [4,5,6]\n",
        "print(x1 is not y1)\n",
        "print(x2 is y2)\n",
        "print(x3 is y3)\n"
      ],
      "execution_count": null,
      "outputs": [
        {
          "output_type": "stream",
          "text": [
            "False\n",
            "True\n",
            "False\n"
          ],
          "name": "stdout"
        }
      ]
    },
    {
      "cell_type": "code",
      "metadata": {
        "colab": {
          "base_uri": "https://localhost:8080/"
        },
        "id": "0o5kw2J2637A",
        "outputId": "10bcdd84-9f9d-48a0-dcef-a985747ec635"
      },
      "source": [
        "##5) Program to implement Membership operators\n",
        "x = 'Hello world'\n",
        "y = {1:'a',2:'b'}\n",
        "print('H' in x)\n",
        "print('hello' not in x)\n",
        "print(1 in y)\n",
        "print('a' in y)\n"
      ],
      "execution_count": null,
      "outputs": [
        {
          "output_type": "stream",
          "text": [
            "True\n",
            "True\n",
            "True\n",
            "False\n"
          ],
          "name": "stdout"
        }
      ]
    },
    {
      "cell_type": "code",
      "metadata": {
        "colab": {
          "base_uri": "https://localhost:8080/"
        },
        "id": "PN9CSanR7EKo",
        "outputId": "2eae6d1f-5b4f-414f-ebd0-1acd1f3621b5"
      },
      "source": [
        "#d)\tParameter passing techniques\n",
        "\n",
        "##1)\tProgram to implement functions\n",
        "def myFun():\n",
        "    print('This is my python function example.')\n",
        "    print('End of MyFun definition.')\n",
        "print('Function Example Program:')\n",
        "myFun()\n",
        "print('Program Ends..')\n"
      ],
      "execution_count": null,
      "outputs": [
        {
          "output_type": "stream",
          "text": [
            "Function Example Program:\n",
            "This is my python function example.\n",
            "End of MyFun definition.\n",
            "Program Ends..\n"
          ],
          "name": "stdout"
        }
      ]
    },
    {
      "cell_type": "code",
      "metadata": {
        "colab": {
          "base_uri": "https://localhost:8080/"
        },
        "id": "NpjnqJQi7rsC",
        "outputId": "239c2786-b1da-4572-ef7f-72f8df7ec765"
      },
      "source": [
        "##2)\tProgram to implement Required arguments\n",
        "def keyarg(name, age):\n",
        "    print(\"Name = \" , name)\n",
        "    print(\"Age = \", age )\n",
        "keyarg(\"Riyaz\", 20)\n"
      ],
      "execution_count": null,
      "outputs": [
        {
          "output_type": "stream",
          "text": [
            "Name =  Riyaz\n",
            "Age =  20\n"
          ],
          "name": "stdout"
        }
      ]
    },
    {
      "cell_type": "code",
      "metadata": {
        "colab": {
          "base_uri": "https://localhost:8080/"
        },
        "id": "QemPmg868Hsk",
        "outputId": "06b816e9-d5dc-4c9f-d41f-67396ecd899e"
      },
      "source": [
        "##3)\tProgram to implement Keyword arguments\n",
        "def keyarg(name, age):\n",
        "    print(\"name = \" , name)\n",
        "    print(\"age = \", age )\n",
        "keyarg(age=20, name=\"Riyaz\")\n"
      ],
      "execution_count": null,
      "outputs": [
        {
          "output_type": "stream",
          "text": [
            "name =  Riyaz\n",
            "age =  20\n"
          ],
          "name": "stdout"
        }
      ]
    },
    {
      "cell_type": "code",
      "metadata": {
        "colab": {
          "base_uri": "https://localhost:8080/"
        },
        "id": "8rROeoVG8RYP",
        "outputId": "e3a47f6e-7709-404d-cac4-3ea629c7920e"
      },
      "source": [
        "##4)\tProgram to implement Default arguments\n",
        "def defaultarg(name, age=18):\n",
        "    print(\"name = \" , name)\n",
        "    print(\"age = \", age )\n",
        "defaultarg (name= \"Riyaz\", age=20)\n",
        "defaultarg (name=\"Aisha\")\n"
      ],
      "execution_count": null,
      "outputs": [
        {
          "output_type": "stream",
          "text": [
            "name =  Riyaz\n",
            "age =  20\n",
            "name =  Aisha\n",
            "age =  18\n"
          ],
          "name": "stdout"
        }
      ]
    },
    {
      "cell_type": "code",
      "metadata": {
        "colab": {
          "base_uri": "https://localhost:8080/"
        },
        "id": "YzkI-t648cjl",
        "outputId": "0af3f458-05a4-40cf-bf08-832601aa2bd1"
      },
      "source": [
        "##5)\tProgram to implement Variable-length arguments\n",
        "def vararg(name, *sub):\n",
        "    print(\"name = \", name)\n",
        "    print(\"sub = \", sub)\n",
        "vararg('Riyaz', 'Python')\n",
        "vararg('Aisha)', 'Python', 'Data Structure')\n"
      ],
      "execution_count": null,
      "outputs": [
        {
          "output_type": "stream",
          "text": [
            "name =  Riyaz\n",
            "sub =  ('Python',)\n",
            "name =  Aisha)\n",
            "sub =  ('Python', 'Data Structure')\n"
          ],
          "name": "stdout"
        }
      ]
    },
    {
      "cell_type": "markdown",
      "metadata": {
        "id": "XLgEau2I8xT4"
      },
      "source": [
        "#Excercise-2"
      ]
    },
    {
      "cell_type": "code",
      "metadata": {
        "colab": {
          "base_uri": "https://localhost:8080/"
        },
        "id": "_ZjmakR08nom",
        "outputId": "743c4088-23c8-4b17-d201-bcce77788a66"
      },
      "source": [
        "##3) Program to implement Built-in Functions\n",
        "print('Absolute of -10.589 = ', abs(-10.589))\n",
        "print(\"Binary Equalent of 16\", bin(16))\n",
        "print(\"Quotient and remainder of 10/5 = \" , divmod(10,5))\n",
        "print(\"float value of 10 = \", float(20))\n",
        "print(\"int value of 10.2 =\", int(20.5))\n",
        "print(\"Maximum of 10,20,30 = \", max(10,20,30))\n",
        "print(\"Minimum of 10,20,30 = \", min(10,20,30))\n",
        "print(\"2 power 4 = \", pow(3,5))\n",
        "import math\n",
        "print(\"Square root of 25 = \" ,math.sqrt(25))\n",
        "\n"
      ],
      "execution_count": null,
      "outputs": [
        {
          "output_type": "stream",
          "text": [
            "Absolute of -10.589 =  10.589\n",
            "Binary Equalent of 16 0b10000\n",
            "Quotient and remainder of 10/5 =  (2, 0)\n",
            "float value of 10 =  20.0\n",
            "int value of 10.2 = 20\n",
            "Maximum of 10,20,30 =  30\n",
            "Minimum of 10,20,30 =  10\n",
            "2 power 4 =  243\n",
            "Square root of 25 =  5.0\n"
          ],
          "name": "stdout"
        }
      ]
    },
    {
      "cell_type": "code",
      "metadata": {
        "colab": {
          "base_uri": "https://localhost:8080/"
        },
        "id": "-bAZfSj39tou",
        "outputId": "dd241fcf-5b08-4271-a427-2ea2ace87569"
      },
      "source": [
        "#b)Write a program to implement \n",
        "    #i. List\t\tii. Tuple \tiii. Dictionaries\n",
        "\n",
        "##1) Implement Stack Data Structure using List Data Type.\n",
        "stack=[]\n",
        "print(\"Stack Implementation\")\n",
        "while(1):\n",
        "    op=int(input(\"1.Push 2.Pop 3.Display 4.Exit \\nEnter your choice: \"))\n",
        "    if(op==1):\n",
        "        n=input(\"enter a value:\")\n",
        "        stack.append(n)\n",
        "    elif(op==2):\n",
        "        print(\"\\npoped element is \",stack[-1])\n",
        "        stack.pop()\n",
        "    elif(op==3):\n",
        "        for index,i in enumerate(stack):\n",
        "            print(i,\"is at index of \",index )\n",
        "    elif(op==4):\n",
        "        break\n",
        "    else:\n",
        "        print(\"Wrong Option\")\n",
        "\n"
      ],
      "execution_count": null,
      "outputs": [
        {
          "output_type": "stream",
          "text": [
            "Stack Implementation\n",
            "1.Push 2.Pop 3.Display 4.Exit \n",
            "Enter your choice: 1\n",
            "enter a value:10\n",
            "1.Push 2.Pop 3.Display 4.Exit \n",
            "Enter your choice: 2\n",
            "\n",
            "poped element is  10\n",
            "1.Push 2.Pop 3.Display 4.Exit \n",
            "Enter your choice: 5\n",
            "Wrong Option\n",
            "1.Push 2.Pop 3.Display 4.Exit \n",
            "Enter your choice: 3\n",
            "1.Push 2.Pop 3.Display 4.Exit \n",
            "Enter your choice: 4\n"
          ],
          "name": "stdout"
        }
      ]
    },
    {
      "cell_type": "code",
      "metadata": {
        "colab": {
          "base_uri": "https://localhost:8080/"
        },
        "id": "CKEHecyq-W8A",
        "outputId": "53430b1f-5ed9-408a-8dc6-24b2ffdaf204"
      },
      "source": [
        "##2) Program to Implement Tuples\n",
        "\n",
        "# vowels tuple\n",
        "vowels = ('a', 'e', 'i', 'o', 'i', 'o', 'e', 'i', 'u')\n",
        "\n",
        "# count element 'i'\n",
        "count = vowels.count('i')\n",
        "\n",
        "# print count\n",
        "print('The count of i is:', count)\n",
        "\n",
        "# count element 'p'\n",
        "count = vowels.count('p')\n",
        "\n",
        "# print count\n",
        "print('The count of p is:', count)\n",
        "\n",
        "#index of element 'a'\n",
        "print('Index of element a in tuple is:',vowels.index('a'))\n"
      ],
      "execution_count": null,
      "outputs": [
        {
          "output_type": "stream",
          "text": [
            "The count of i is: 3\n",
            "The count of p is: 0\n",
            "Index of element a in tuple is: 0\n"
          ],
          "name": "stdout"
        }
      ]
    },
    {
      "cell_type": "code",
      "metadata": {
        "colab": {
          "base_uri": "https://localhost:8080/"
        },
        "id": "DO6RoyP_-lNP",
        "outputId": "239f0590-c019-4aa0-9f91-8a52984e7b34"
      },
      "source": [
        "##3) Program to implement Dictionaries\n",
        "\n",
        "my_dict = {'name':'Riyaz', 'age': 16}\n",
        "print('Dictionary = ' ,my_dict)\n",
        "print('Name = ' , my_dict['name'])\n",
        "print('Age = ' , my_dict.get('age'))\n",
        "\n",
        "# update value\n",
        "my_dict['age'] = 18\n",
        "print('Dictionary after upadte is : ', my_dict)\n",
        "\n",
        "# add item\n",
        "my_dict['address'] = 'Hyderabad'  \n",
        "print('Dictionary after adding addres is : ',my_dict)\n",
        "\n",
        "# remove a particular item\n",
        "my_dict.pop('age')\n",
        "print('Dictionary after removing age is : ',my_dict)\n",
        "\n",
        "# remove all items\n",
        "my_dict.clear()\n",
        "print(\"Dictionary after removing all items : \",my_dict)\n",
        "\n"
      ],
      "execution_count": null,
      "outputs": [
        {
          "output_type": "stream",
          "text": [
            "Dictionary =  {'name': 'Riyaz', 'age': 16}\n",
            "Name =  Riyaz\n",
            "Age =  16\n",
            "Dictionary after upadte is :  {'name': 'Riyaz', 'age': 18}\n",
            "Dictionary after adding addres is :  {'name': 'Riyaz', 'age': 18, 'address': 'Hyderabad'}\n",
            "Dictionary after removing age is :  {'name': 'Riyaz', 'address': 'Hyderabad'}\n",
            "Dictionary after removing all items :  {}\n"
          ],
          "name": "stdout"
        }
      ]
    },
    {
      "cell_type": "code",
      "metadata": {
        "colab": {
          "base_uri": "https://localhost:8080/"
        },
        "id": "rxMim4BS-z0Z",
        "outputId": "c2b063e6-f24f-435a-e0f1-2f796981d06c"
      },
      "source": [
        "##c) Programs on Stings and String Operations \n",
        "##1.\tProgram to implement Traversing a String\n",
        "s1=\"Eeswar\"\n",
        "index=0\n",
        "for i in s1:\n",
        "    print(\"s1[\",index,\"]=\",i)\n",
        "    index+=1\n"
      ],
      "execution_count": null,
      "outputs": [
        {
          "output_type": "stream",
          "text": [
            "s1[ 0 ]= E\n",
            "s1[ 1 ]= e\n",
            "s1[ 2 ]= s\n",
            "s1[ 3 ]= w\n",
            "s1[ 4 ]= a\n",
            "s1[ 5 ]= r\n"
          ],
          "name": "stdout"
        }
      ]
    },
    {
      "cell_type": "code",
      "metadata": {
        "colab": {
          "base_uri": "https://localhost:8080/"
        },
        "id": "MocJGLjO_D_r",
        "outputId": "ee50637c-13f5-4f92-940f-d419a7518087"
      },
      "source": [
        "##2.\tImplementation of Slice Operator\n",
        "s1=\"Riyazaisha\"\t\t\t\n",
        "print(s1)\t\t\t\t\t\n",
        "print(\"s1[0:5]=\", s1[0:5])\t\t\n",
        "print(\"s1[5:]=\", s1[5:])\t\t\n",
        "print(\"s1[:5]=\",s1[:5])\t\t\n",
        "print(\"s1[:]=\",s1[:])\t\t\n",
        "\n",
        "\n",
        "##3.\tImplementation of  Stride in Slicing Strings:\n",
        "\n",
        "s1=\"Riyazaisha\"\n",
        "print(s1)\t\t\t\t\t\t\t\n",
        "print(\"s1[0:5] = \",s1[0:5])\t\t\t\n",
        "print(\"s1[0:5:1] = \",s1[0:5:1])\t\t\n",
        "print(\"s1[0:5:2] = \",s1[0:5:2])\t\t\n",
        "print(\"s1[0:20:3] = \",s1[0:20:3])\t\n",
        "\n"
      ],
      "execution_count": null,
      "outputs": [
        {
          "output_type": "stream",
          "text": [
            "Riyazaisha\n",
            "s1[0:5]= Riyaz\n",
            "s1[5:]= aisha\n",
            "s1[:5]= Riyaz\n",
            "s1[:]= Riyazaisha\n",
            "Riyazaisha\n",
            "s1[0:5] =  Riyaz\n",
            "s1[0:5:1] =  Riyaz\n",
            "s1[0:5:2] =  Ryz\n",
            "s1[0:20:3] =  Raia\n"
          ],
          "name": "stdout"
        }
      ]
    },
    {
      "cell_type": "code",
      "metadata": {
        "colab": {
          "base_uri": "https://localhost:8080/"
        },
        "id": "D84dnIUK_ZO4",
        "outputId": "bf225646-68c0-4729-b75e-8e9cba5c9117"
      },
      "source": [
        "##4.\tImplementation of Concatenating String: \n",
        "s1=\"Riyaz\"\n",
        "s2=\"Aisha\"\n",
        "s3=s1+s2\n",
        "print(\"Concatenated String is :\", s3)\t\n",
        "\n"
      ],
      "execution_count": null,
      "outputs": [
        {
          "output_type": "stream",
          "text": [
            "Concatenated String is : RiyazAisha\n"
          ],
          "name": "stdout"
        }
      ]
    },
    {
      "cell_type": "code",
      "metadata": {
        "colab": {
          "base_uri": "https://localhost:8080/"
        },
        "id": "wQE5kfMWAGoV",
        "outputId": "4b058db8-80e0-4fd1-b412-d738fab7a4b4"
      },
      "source": [
        "##5.\tImplementation of Multiplying a String with a number:\n",
        "s1=\"Riyaz \"\n",
        "print(s1*4)\t\t\n"
      ],
      "execution_count": null,
      "outputs": [
        {
          "output_type": "stream",
          "text": [
            "Riyaz Riyaz Riyaz Riyaz \n"
          ],
          "name": "stdout"
        }
      ]
    },
    {
      "cell_type": "code",
      "metadata": {
        "colab": {
          "base_uri": "https://localhost:8080/"
        },
        "id": "Y-hhvDH9ANVv",
        "outputId": "2a97ab37-b57e-402a-81eb-9adb942fbc3b"
      },
      "source": [
        "##6.\tImplementation of Appending a String:\n",
        "s1=\"Hello \"\n",
        "s2=input(\"enter your name:\")\n",
        "s1+=s2\n",
        "s1+=\".. Welcome\"\n",
        "print(s1)\n"
      ],
      "execution_count": null,
      "outputs": [
        {
          "output_type": "stream",
          "text": [
            "enter your name:Riyaz\n",
            "Hello Riyaz.. Welcome\n"
          ],
          "name": "stdout"
        }
      ]
    },
    {
      "cell_type": "code",
      "metadata": {
        "colab": {
          "base_uri": "https://localhost:8080/"
        },
        "id": "b_VkzbjuATjX",
        "outputId": "ac5c0367-2a93-467d-f8ad-36af9a61ddc2"
      },
      "source": [
        "#d)\tPrograms on Regular Expressions\n",
        "\n",
        "##1.\tImplementation of  match() Function \n",
        " \n",
        "#Program to accept a 10 digit mobile number \n",
        "import re\n",
        "line=input(\"Enter a Mobile number:\")\n",
        "\n",
        "#mobile number starts with 6,7,8,9\n",
        "matchObj = re.match('([6-9]\\d{9})', line) \n",
        "if matchObj:\n",
        "    if matchObj.group()==line:\n",
        "        print(matchObj.group())\n",
        "        print (\"Matched!!\")\n",
        "    else:\n",
        "        print (\"Not matched!!\")\n",
        "else:\n",
        "   print (\"Not matched!!\")\n"
      ],
      "execution_count": null,
      "outputs": [
        {
          "output_type": "stream",
          "text": [
            "Enter a Mobile number:8978368769\n",
            "8978368769\n",
            "Matched!!\n"
          ],
          "name": "stdout"
        }
      ]
    },
    {
      "cell_type": "code",
      "metadata": {
        "colab": {
          "base_uri": "https://localhost:8080/"
        },
        "id": "NZe6Cb2HAv12",
        "outputId": "318986d2-7774-44c2-cf21-ad2f0f9abb25"
      },
      "source": [
        "##2.\tImplementation of The search() Function \n",
        "import re\n",
        "str = \"VJIT Hyderabad\"\n",
        "x = re.search(\"Hyderabad\", str)\t\t\n",
        "print(x)\t\n"
      ],
      "execution_count": null,
      "outputs": [
        {
          "output_type": "stream",
          "text": [
            "<re.Match object; span=(5, 14), match='Hyderabad'>\n"
          ],
          "name": "stdout"
        }
      ]
    },
    {
      "cell_type": "code",
      "metadata": {
        "colab": {
          "base_uri": "https://localhost:8080/"
        },
        "id": "d72kYbhsBW0s",
        "outputId": "f3cab7de-8375-45c6-a3f4-2eb9ed803d62"
      },
      "source": [
        "##3.\tImplementation of The findall() and split() Functions\n",
        "\n",
        "import re\n",
        "str = \"AIE Dept VJIT\"\n",
        "x = re.findall(\"AIE\", str)\n",
        "print(x)\t\t\t\t\n",
        "x=re.split(\"AIE\",str)\n",
        "print(x)\t\t\t\t\n",
        "\n"
      ],
      "execution_count": null,
      "outputs": [
        {
          "output_type": "stream",
          "text": [
            "['AIE']\n",
            "['', ' Dept VJIT']\n"
          ],
          "name": "stdout"
        }
      ]
    },
    {
      "cell_type": "code",
      "metadata": {
        "colab": {
          "base_uri": "https://localhost:8080/"
        },
        "id": "u3AqOuaIBmv2",
        "outputId": "01801a52-f87c-4c39-9723-fb7d149f56e1"
      },
      "source": [
        "##4.\tProgram to implement The sub() function\n",
        "\n",
        "import re\n",
        "s1=\"Mumbai is the Best city in India.\"\n",
        "s2=re.sub(\"Mumbai\",\"Hyderabad\",s1)\n",
        "print(s2)\t\t\t\t\t\t\n",
        "s1=\"Mumbai is the Best city in India. Delhi Delhi\"\n",
        "s2=re.sub(\"Mumbai\",\"Hyderabad\",s1,2)\t\n",
        "print(s2) \t\t\t\t\n",
        "\n"
      ],
      "execution_count": null,
      "outputs": [
        {
          "output_type": "stream",
          "text": [
            "Hyderabad is the Best city in India.\n",
            "Hyderabad is the Best city in India. Delhi Delhi\n"
          ],
          "name": "stdout"
        }
      ]
    },
    {
      "cell_type": "markdown",
      "metadata": {
        "id": "pGhd15wQCBCy"
      },
      "source": [
        "#Excercise-3"
      ]
    },
    {
      "cell_type": "code",
      "metadata": {
        "colab": {
          "base_uri": "https://localhost:8080/"
        },
        "id": "oa3vN9QrB6si",
        "outputId": "e5b9e2fb-60fd-4eae-845f-7f9a7d6ade61"
      },
      "source": [
        "#a)\tWrite Programs to implement Classes and Objects\n",
        "\n",
        "##1)\tBasic Program on Class and Object\n",
        "class Train:\n",
        "    # class attributes\n",
        "    name=input(\"Enter Train Name: \")\n",
        "    no=input(\"Enter Train Number: \")\n",
        "    price=int(input(\"Enter Price: \"))\n",
        "    \n",
        "    # class methods\n",
        "    def disp(self):\n",
        "        print(\"inside the class method..\")\n",
        "    def status(self,source,destination):\n",
        "        print(\"Train starts from \",source,\" and ends at \",destination)\n",
        "        \n",
        "# Creating an object for Train Class        \n",
        "T1=Train()\n",
        "\n",
        "# Accessing variables\n",
        "print(\"T1 Name: \",T1.name)\n",
        "print(\"T1 no: \",T1.no)\n",
        "print(\"price: \",T1.price)\n",
        "\n",
        "# Calling a Class methods\n",
        "T1.disp()\n",
        "T1.status('Secunderabad','Vishakapatnam')\n"
      ],
      "execution_count": null,
      "outputs": [
        {
          "output_type": "stream",
          "text": [
            "Enter Train Name: konark\n",
            "Enter Train Number: 07205\n",
            "Enter Price: 456\n",
            "T1 Name:  konark\n",
            "T1 no:  07205\n",
            "price:  456\n",
            "inside the class method..\n",
            "Train starts from  Secunderabad  and ends at  Vishakapatnam\n"
          ],
          "name": "stdout"
        }
      ]
    },
    {
      "cell_type": "code",
      "metadata": {
        "colab": {
          "base_uri": "https://localhost:8080/"
        },
        "id": "4yT-ir72CW6g",
        "outputId": "f2a541f0-4773-4bdd-f009-46b5153fef80"
      },
      "source": [
        "##2)\tWrite a Python program that reads student details: rollno, name and marks in six subjects and computes average marks. Use classes and objects.\n",
        "\n",
        "class Student:\n",
        "    def __init__(self,r,n,m):\n",
        "        print(\"roll no = \", r)\n",
        "        print(\"name = \" ,n)\n",
        "        tot=0\n",
        "        for i in range(len(m)):\n",
        "            print(m[i])\n",
        "            tot=tot+m[i]\n",
        "        print(\"total= \", tot)\n",
        "        avg=tot/6\n",
        "        print(\"average= \",avg)\n",
        "        \n",
        "roll=input(\"enter roll : \")\n",
        "name=input(\"enter name : \")\n",
        "marks=[]\n",
        "print(\"enter marks : \")\n",
        "for i in range(1,7):\n",
        "    marks.append(int(input()))\n",
        "print(marks)\n",
        "\n",
        "s1=Student(roll,name,marks)\n",
        "\n"
      ],
      "execution_count": null,
      "outputs": [
        {
          "output_type": "stream",
          "text": [
            "enter roll : 3545\n",
            "enter name : Riyaz\n",
            "enter marks : \n",
            "60000\n",
            "55\n",
            "52\n",
            "85\n",
            "98\n",
            "65\n",
            "[60000, 55, 52, 85, 98, 65]\n",
            "roll no =  3545\n",
            "name =  Riyaz\n",
            "60000\n",
            "55\n",
            "52\n",
            "85\n",
            "98\n",
            "65\n",
            "total=  60355\n",
            "average=  10059.166666666666\n"
          ],
          "name": "stdout"
        }
      ]
    },
    {
      "cell_type": "code",
      "metadata": {
        "colab": {
          "base_uri": "https://localhost:8080/"
        },
        "id": "JjHVhxZxClqu",
        "outputId": "bf3e95f9-5fd6-4cff-f0e2-758c74fe90f1"
      },
      "source": [
        "##b) Write a Program to implement Static and Instance methods\n",
        "class Shape:\n",
        "    def rectArea(self,l,b):\n",
        "        return(l*b)\n",
        "    @classmethod\n",
        "    def sqArea(cls,s):\n",
        "        return(s*s)\n",
        "    @staticmethod\n",
        "    def CircleArea(r):\n",
        "        return(3.14*r*r)\n",
        "s=Shape()        \n",
        "print(\"Area of Rectangle = \",s.rectArea(2,4))\n",
        "#calling a class method\n",
        "print(\"Area of Square = \",Shape.sqArea(3))\n",
        "#calling a static method\n",
        "print(\"Area of Circle = \",Shape.CircleArea(2))      \n",
        "\n"
      ],
      "execution_count": null,
      "outputs": [
        {
          "output_type": "stream",
          "text": [
            "Area of Rectangle =  8\n",
            "Area of Square =  9\n",
            "Area of Circle =  12.56\n"
          ],
          "name": "stdout"
        }
      ]
    },
    {
      "cell_type": "code",
      "metadata": {
        "colab": {
          "base_uri": "https://localhost:8080/"
        },
        "id": "2AuH9m6LDBMe",
        "outputId": "8ecb6659-6cdd-47fc-d360-c6e09d2bf2df"
      },
      "source": [
        "##c)\tProgram to implement Abstract Classes.\n",
        "import math\n",
        "class Shape:\t\t#Abstract Class\n",
        "    def calculateArea(self):\n",
        "        raise NotImplementedError()\n",
        "        \n",
        "class Circle(Shape):\n",
        "    def __init__(self,r):\n",
        "        self.radius=r\n",
        "    def calculateArea(self):\n",
        "        area = math.pi * math.pow(self.radius,2)\n",
        "        print(\"Area of circle = \",area)\n",
        "        \n",
        "class Traingle(Shape):\n",
        "    def __init__(self,h,b):\n",
        "        self.height=h\n",
        "        self.base=b\n",
        "    def calculateArea(self):\n",
        "        area = (self.height * self.base)/2\n",
        "        print(\"Area of Traingle = \",area)\n",
        "\n",
        "class Rectangle(Shape):\n",
        "    def __init__(self,l,w):\n",
        "        self.lenghth=l\n",
        "        self.width=w\n",
        "    def calculateArea(self):\n",
        "        area = self.lenghth * self.width\n",
        "        print(\"Area of Rectangle = \",area)    \n",
        "\n",
        "c1=Circle(2)\n",
        "t1=Traingle(5,3)\n",
        "r1=Rectangle(2,4)\n",
        "\n",
        "c1.calculateArea()\n",
        "t1.calculateArea()\n",
        "r1.calculateArea()\n"
      ],
      "execution_count": null,
      "outputs": [
        {
          "output_type": "stream",
          "text": [
            "Area of circle =  12.566370614359172\n",
            "Area of Traingle =  7.5\n",
            "Area of Rectangle =  8\n"
          ],
          "name": "stdout"
        }
      ]
    },
    {
      "cell_type": "markdown",
      "metadata": {
        "id": "tivkbfQiDRj-"
      },
      "source": [
        "#Exercise-4"
      ]
    },
    {
      "cell_type": "code",
      "metadata": {
        "colab": {
          "base_uri": "https://localhost:8080/"
        },
        "id": "HQVePFLWDNs6",
        "outputId": "61eb6722-86e7-42a8-86ea-2512eb6aa257"
      },
      "source": [
        "#a)\tWrite a program to compute distance between two points taking input from the user (Pythagorean Theorem)\n",
        "import math \n",
        "  \n",
        "# Function to calculate distance \n",
        "def distance(x1 , y1 , x2 , y2): \n",
        "    dis= math.sqrt(math.pow(x2 - x1, 2) + math.pow(y2 - y1, 2) * 1.0) \n",
        "    return dis\n",
        "  \n",
        "#Code \n",
        "x1=int(input(\"enter x1: \"))\n",
        "y1=int(input(\"enter y1: \"))\n",
        "x2=int(input(\"enter x2: \"))\n",
        "y2=int(input(\"enter y2: \"))\n",
        "dis=distance(x1,y1,x2,y2)\n",
        "print(\"distance=\",dis)\n"
      ],
      "execution_count": null,
      "outputs": [
        {
          "output_type": "stream",
          "text": [
            "enter x1: 54\n",
            "enter y1: 65\n",
            "enter x2: 25\n",
            "enter y2: 89\n",
            "distance= 37.64306044943742\n"
          ],
          "name": "stdout"
        }
      ]
    },
    {
      "cell_type": "code",
      "metadata": {
        "colab": {
          "base_uri": "https://localhost:8080/"
        },
        "id": "gxGSvzX4DdYn",
        "outputId": "5831a39e-f95d-4281-ee6f-f3cad84de9d7"
      },
      "source": [
        "## b) Write a program to convert a given decimal number to other base systems \n",
        "\n",
        "def binarynum(num):\n",
        "    binnum=bin(num)\n",
        "    print(num,\" in binary is \",binnum)\n",
        "    \n",
        "def octnum(num):\n",
        "    octnum=oct(num)\n",
        "    print(num,\" in octal is \",octnum)\n",
        "    \n",
        "def hexnum(num):\n",
        "    hexnum=hex(num)\n",
        "    print(num,\" in Hexal decimal is \",hexnum)\n",
        "    \n",
        "num=int(input(\"enter a decimal number : \"))\n",
        "binarynum(num)\n",
        "octnum(num)\n",
        "hexnum(num)\n"
      ],
      "execution_count": null,
      "outputs": [
        {
          "output_type": "stream",
          "text": [
            "enter a decimal number : 10\n",
            "10  in binary is  0b1010\n",
            "10  in octal is  0o12\n",
            "10  in Hexal decimal is  0xa\n"
          ],
          "name": "stdout"
        }
      ]
    },
    {
      "cell_type": "markdown",
      "metadata": {
        "id": "_m3qzdWaDyXB"
      },
      "source": [
        "#Exercise-5"
      ]
    },
    {
      "cell_type": "code",
      "metadata": {
        "colab": {
          "base_uri": "https://localhost:8080/"
        },
        "id": "C6Pts-blDoKp",
        "outputId": "a8e61d23-5754-4c40-93b8-22d9eadf1899"
      },
      "source": [
        "#a)\tWrite a program to implement Inheritance\n",
        "\n",
        "##1)\tProgram to implement Single Inheritance\n",
        "class Bank:  \n",
        "    def getroi(self):  \n",
        "        return 10;  \n",
        "class SBI(Bank):  \n",
        "    def getroi(self):  \n",
        "        return 7;  \n",
        "  \n",
        "class ICICI(Bank):  \n",
        "    def getroi(self):  \n",
        "        return 8;  \n",
        "b1 = Bank()  \n",
        "b2 = SBI()  \n",
        "b3 = ICICI()  \n",
        "print(\"Bank Rate of interest:\",b1.getroi())\n",
        "print(\"SBI Rate of interest:\",b2.getroi()) \n",
        "print(\"ICICI Rate of interest:\",b3.getroi())\n"
      ],
      "execution_count": null,
      "outputs": [
        {
          "output_type": "stream",
          "text": [
            "Bank Rate of interest: 10\n",
            "SBI Rate of interest: 7\n",
            "ICICI Rate of interest: 8\n"
          ],
          "name": "stdout"
        }
      ]
    },
    {
      "cell_type": "code",
      "metadata": {
        "colab": {
          "base_uri": "https://localhost:8080/"
        },
        "id": "DJqTtenhD61p",
        "outputId": "328d0045-b8dd-4d83-a0e6-09d0a20fb549"
      },
      "source": [
        "##2)\t Program to implement multiple inheritance\n",
        "class Area:\n",
        "    def getArea(length,breadth):\n",
        "        a=length*breadth\n",
        "        return(a)\n",
        "class Perimeter:\n",
        "    def getPerimeter(length,breadth):\n",
        "        p=2*(length+breadth)\n",
        "        return(p)\n",
        "class Rectangle(Area,Perimeter):\n",
        "    def __init__(self,l,b):\n",
        "        self.length=l\n",
        "        self.breadth=b\n",
        "    def area(self):\n",
        "        area= Area.getArea(self.length,self.breadth)\n",
        "        print(\"Area of Rectangle= \",area)\n",
        "    def perimeter(self):\n",
        "        perimeter=Perimeter.getPerimeter(self.length,self.breadth)\n",
        "        print(\"Perimeter of Rectangle= \",perimeter)\n",
        "\n",
        "r1=Rectangle(8,4)\n",
        "r1.area()\n",
        "r1.perimeter()\n"
      ],
      "execution_count": null,
      "outputs": [
        {
          "output_type": "stream",
          "text": [
            "Area of Rectangle=  32\n",
            "Perimeter of Rectangle=  24\n"
          ],
          "name": "stdout"
        }
      ]
    },
    {
      "cell_type": "code",
      "metadata": {
        "colab": {
          "base_uri": "https://localhost:8080/"
        },
        "id": "Ouw_w5q0EFgV",
        "outputId": "42e6e59b-ee49-420b-e817-523aaf295bc8"
      },
      "source": [
        "##3)\tProgram to implement Multilevel Inheritance\n",
        "class Car:\n",
        "    def vehicleType(self):\n",
        "        print(\"VehicleType : car\")\n",
        "class Suziki(Car):\n",
        "    def brand(self):\n",
        "        print(\"Brand : Tata\")\n",
        "    def speed(self):\n",
        "        print(\"Max Speed : 120 KMPH\")\n",
        "class SwiftDezire(Suziki):\n",
        "    def speed(self):\n",
        "        print(\"Max Speed : 200 KMPH\")\n",
        "        \n",
        "obj1=SwiftDezire()\n",
        "obj1.vehicleType()\n",
        "obj1.brand()\n",
        "obj1.speed()\n",
        "\n",
        "obj2=Suziki()\n",
        "obj2.vehicleType()\n",
        "obj2.brand()\n",
        "obj2.speed()\n"
      ],
      "execution_count": null,
      "outputs": [
        {
          "output_type": "stream",
          "text": [
            "VehicleType : car\n",
            "Brand : Tata\n",
            "Max Speed : 200 KMPH\n",
            "VehicleType : car\n",
            "Brand : Tata\n",
            "Max Speed : 120 KMPH\n"
          ],
          "name": "stdout"
        }
      ]
    },
    {
      "cell_type": "code",
      "metadata": {
        "colab": {
          "base_uri": "https://localhost:8080/"
        },
        "id": "lQysaxY-ENYD",
        "outputId": "f049ec54-d549-4591-c6bb-c55c6322a950"
      },
      "source": [
        "##4)\t Program to implement Multi-path Inheritance\n",
        "\n",
        "class Student:\n",
        "    def __init__(self,n):\n",
        "        self.name=n\n",
        "    def getName(self):\n",
        "        print(\"Name : \",self.name)\n",
        "        \n",
        "class Branch(Student):\n",
        "    def getBranch(self, dept):\n",
        "        print(\"Branch : \", dept)\n",
        "        \n",
        "class Score(Student):\n",
        "    def getScore(self,avg):\n",
        "        print(\"Academic Score : \", avg)\n",
        "\n",
        "class Result(Branch,Score):\n",
        "    def getResult(self):\n",
        "        print('Result'.center(20,'*'))\n",
        "        self.getName()\n",
        "        self.getBranch('AIE')\n",
        "        self.getScore(65)\n",
        "\n",
        "r=Result(\"Riyaz\")        \n",
        "r.getResult()\n"
      ],
      "execution_count": null,
      "outputs": [
        {
          "output_type": "stream",
          "text": [
            "*******Result*******\n",
            "Name :  Riyaz\n",
            "Branch :  AIE\n",
            "Academic Score :  65\n"
          ],
          "name": "stdout"
        }
      ]
    },
    {
      "cell_type": "code",
      "metadata": {
        "colab": {
          "base_uri": "https://localhost:8080/"
        },
        "id": "TbjcqkiUEb1V",
        "outputId": "d357f87d-d805-4fc3-974c-ccbdbb497fe9"
      },
      "source": [
        "##b)\tWrite a program to implement Polymorphism\n",
        "class Parent:        \n",
        "   def myMethod(self):\n",
        "      print('Calling parent method')\n",
        "\n",
        "class Child(Parent):\n",
        "   def myMethod(self):\n",
        "      print('Calling child method')\n",
        "\n",
        "c = Child()         \n",
        "c.myMethod()        \n"
      ],
      "execution_count": null,
      "outputs": [
        {
          "output_type": "stream",
          "text": [
            "Calling child method\n"
          ],
          "name": "stdout"
        }
      ]
    },
    {
      "cell_type": "code",
      "metadata": {
        "id": "I5etDaQuEnCd"
      },
      "source": [
        "#a)\tWrite a program to implement Files \n",
        "##1)\tProgram to implement file attributes\n",
        "\n",
        "file=open(\"Sample1.txt\",\"r\")\n",
        "print(\"Name of the file:\",file.name)\n",
        "print(\"File open status:\",file.closed)\n",
        "print(\"File opened mode:\",file.mode)\n",
        "print(\"Content in the file:\")\n",
        "print(file.read())\n",
        "file.close()\n",
        "print(\"File open status:\",file.closed)\n",
        "\n"
      ],
      "execution_count": null,
      "outputs": []
    },
    {
      "cell_type": "code",
      "metadata": {
        "colab": {
          "base_uri": "https://localhost:8080/"
        },
        "id": "7-hMAfQ2ExkM",
        "outputId": "2cb1ecde-3898-47b0-d6d1-4a23bb067dd2"
      },
      "source": [
        "##2)\tProgram to implement file operations\n",
        "import os\n",
        "f1=open(\"text2.txt\",\"w\")\n",
        "f1.write(\"Welcome to python class\")\n",
        "f1.close()\n",
        "print(\"New file \\\"text2.txt\\\"is created in the path.\")\n",
        "f1=open(\"text2.txt\",\"a\")\n",
        "f1.write(\" Happy Learning\")\n",
        "f1.close()\n",
        "f1=open(\"text2.txt\",\"r\")\n",
        "print(\"Filepointer position when it was opened: \", f1.tell())\n",
        "f1.seek(3)\n",
        "print(\"Filepointer position after seek(): \", f1.tell())\n",
        "print(\"Contents in file: \" , f1.read())\n",
        "print(\"Filepointer position after read(): \", f1.tell())\n",
        "f1.close()\n",
        "os.rename(\"text2.txt\",\"text3.txt\")\n",
        "os.remove(\"text3.txt\")\n"
      ],
      "execution_count": null,
      "outputs": [
        {
          "output_type": "stream",
          "text": [
            "New file \"text2.txt\"is created in the path.\n",
            "Filepointer position when it was opened:  0\n",
            "Filepointer position after seek():  3\n",
            "Contents in file:  come to python class Happy Learning\n",
            "Filepointer position after read():  38\n"
          ],
          "name": "stdout"
        }
      ]
    },
    {
      "cell_type": "code",
      "metadata": {
        "colab": {
          "base_uri": "https://localhost:8080/"
        },
        "id": "ckXMzZbNFDNR",
        "outputId": "4c81da69-4974-49d5-9bf6-0e9d020499d6"
      },
      "source": [
        "##b) Write a program to Exception Handling.\n",
        "try:\n",
        "    num=int(input(\"Enter numerator: \"))\n",
        "    den=int(input(\"enter denominator: \"))\n",
        "    q=num/den\n",
        "    print(\"Qutioent= \",q)\n",
        "except ZeroDivisionError:\n",
        "    print(\"Denominator is zero\")\n",
        "except ValueError:\n",
        "    print(\"Please eneter only digits\")\n",
        "finally:\n",
        "    print(\"this is finally block. this will be executed all the time..\");\n"
      ],
      "execution_count": null,
      "outputs": [
        {
          "output_type": "stream",
          "text": [
            "Enter numerator: 20\n",
            "enter denominator: 0\n",
            "Denominator is zero\n",
            "this is finally block. this will be executed all the time..\n"
          ],
          "name": "stdout"
        }
      ]
    },
    {
      "cell_type": "code",
      "metadata": {
        "id": "9o1tLMCgFOTQ"
      },
      "source": [
        ""
      ],
      "execution_count": null,
      "outputs": []
    },
    {
      "cell_type": "markdown",
      "metadata": {
        "id": "nhVuDWL4F_u8"
      },
      "source": [
        "#Packages"
      ]
    },
    {
      "cell_type": "markdown",
      "metadata": {
        "id": "dZh1VvYcGC6Y"
      },
      "source": [
        "##Numpy"
      ]
    },
    {
      "cell_type": "code",
      "metadata": {
        "id": "rZQuT9PYGB9Y"
      },
      "source": [
        "import numpy as np\n"
      ],
      "execution_count": null,
      "outputs": []
    },
    {
      "cell_type": "code",
      "metadata": {
        "id": "2P-vj3BYGI9i"
      },
      "source": [
        "a=[1,2,3,4]"
      ],
      "execution_count": null,
      "outputs": []
    },
    {
      "cell_type": "code",
      "metadata": {
        "id": "dU2I8zI9GK96"
      },
      "source": [
        "arr=np.array(a)"
      ],
      "execution_count": null,
      "outputs": []
    },
    {
      "cell_type": "code",
      "metadata": {
        "colab": {
          "base_uri": "https://localhost:8080/"
        },
        "id": "azkCA9acGNK1",
        "outputId": "0de87d9d-611f-4a10-e5aa-5715656bccca"
      },
      "source": [
        "arr"
      ],
      "execution_count": null,
      "outputs": [
        {
          "output_type": "execute_result",
          "data": {
            "text/plain": [
              "array([1, 2, 3, 4])"
            ]
          },
          "metadata": {
            "tags": []
          },
          "execution_count": 26
        }
      ]
    },
    {
      "cell_type": "code",
      "metadata": {
        "colab": {
          "base_uri": "https://localhost:8080/"
        },
        "id": "LOJrCyQFGN_A",
        "outputId": "bc6fcc1c-e0af-454a-ea88-33f616d480e8"
      },
      "source": [
        "type(arr)"
      ],
      "execution_count": null,
      "outputs": [
        {
          "output_type": "execute_result",
          "data": {
            "text/plain": [
              "numpy.ndarray"
            ]
          },
          "metadata": {
            "tags": []
          },
          "execution_count": 27
        }
      ]
    },
    {
      "cell_type": "code",
      "metadata": {
        "colab": {
          "base_uri": "https://localhost:8080/"
        },
        "id": "MIENw02cGPSO",
        "outputId": "069be86c-c685-46ba-fa5d-9728b2393bb4"
      },
      "source": [
        "arr.ndim"
      ],
      "execution_count": null,
      "outputs": [
        {
          "output_type": "execute_result",
          "data": {
            "text/plain": [
              "1"
            ]
          },
          "metadata": {
            "tags": []
          },
          "execution_count": 28
        }
      ]
    },
    {
      "cell_type": "code",
      "metadata": {
        "colab": {
          "base_uri": "https://localhost:8080/"
        },
        "id": "ztZMVD_UGROk",
        "outputId": "7e6fd591-f2b2-49d3-b4b0-da5d6712cc69"
      },
      "source": [
        "arr.nbytes"
      ],
      "execution_count": null,
      "outputs": [
        {
          "output_type": "execute_result",
          "data": {
            "text/plain": [
              "32"
            ]
          },
          "metadata": {
            "tags": []
          },
          "execution_count": 29
        }
      ]
    },
    {
      "cell_type": "code",
      "metadata": {
        "colab": {
          "base_uri": "https://localhost:8080/"
        },
        "id": "sSBig7QaGYZ8",
        "outputId": "aaf8c0a4-9a30-4dc8-8e32-cc8ae1222660"
      },
      "source": [
        "arr.shape"
      ],
      "execution_count": null,
      "outputs": [
        {
          "output_type": "execute_result",
          "data": {
            "text/plain": [
              "(4,)"
            ]
          },
          "metadata": {
            "tags": []
          },
          "execution_count": 30
        }
      ]
    },
    {
      "cell_type": "code",
      "metadata": {
        "id": "q4g8Rq7ZGZtg"
      },
      "source": [
        "b=([2,2,4,5,6,8],[5,8,7,4,9,7])"
      ],
      "execution_count": null,
      "outputs": []
    },
    {
      "cell_type": "code",
      "metadata": {
        "id": "wm21rdF2GgDx"
      },
      "source": [
        "arr=np.array(b)"
      ],
      "execution_count": null,
      "outputs": []
    },
    {
      "cell_type": "code",
      "metadata": {
        "colab": {
          "base_uri": "https://localhost:8080/"
        },
        "id": "56XCwjDgGnh0",
        "outputId": "c7edc581-6471-4e2e-dffe-70d3fa7c792b"
      },
      "source": [
        "arr"
      ],
      "execution_count": null,
      "outputs": [
        {
          "output_type": "execute_result",
          "data": {
            "text/plain": [
              "array([[2, 2, 4, 5, 6, 8],\n",
              "       [5, 8, 7, 4, 9, 7]])"
            ]
          },
          "metadata": {
            "tags": []
          },
          "execution_count": 33
        }
      ]
    },
    {
      "cell_type": "code",
      "metadata": {
        "colab": {
          "base_uri": "https://localhost:8080/"
        },
        "id": "uqsavKMCGwqL",
        "outputId": "40ecd1e8-f812-4aa6-c3c1-4c310779e72f"
      },
      "source": [
        "arr.argmax()"
      ],
      "execution_count": null,
      "outputs": [
        {
          "output_type": "execute_result",
          "data": {
            "text/plain": [
              "10"
            ]
          },
          "metadata": {
            "tags": []
          },
          "execution_count": 34
        }
      ]
    },
    {
      "cell_type": "code",
      "metadata": {
        "colab": {
          "base_uri": "https://localhost:8080/"
        },
        "id": "Eq0jmQUDGopu",
        "outputId": "e9f034cc-3324-44aa-8deb-8fdae050c25f"
      },
      "source": [
        "arr.dot(3)"
      ],
      "execution_count": null,
      "outputs": [
        {
          "output_type": "execute_result",
          "data": {
            "text/plain": [
              "array([[ 6,  6, 12, 15, 18, 24],\n",
              "       [15, 24, 21, 12, 27, 21]])"
            ]
          },
          "metadata": {
            "tags": []
          },
          "execution_count": 35
        }
      ]
    },
    {
      "cell_type": "code",
      "metadata": {
        "colab": {
          "base_uri": "https://localhost:8080/"
        },
        "id": "lXbHgDVzGuRk",
        "outputId": "e3864f63-ee6d-427e-9db7-22339c49ee5a"
      },
      "source": [
        "arr.argmin()"
      ],
      "execution_count": null,
      "outputs": [
        {
          "output_type": "execute_result",
          "data": {
            "text/plain": [
              "0"
            ]
          },
          "metadata": {
            "tags": []
          },
          "execution_count": 36
        }
      ]
    },
    {
      "cell_type": "code",
      "metadata": {
        "colab": {
          "base_uri": "https://localhost:8080/"
        },
        "id": "QFP3mMtdG6ns",
        "outputId": "3ce41b2d-acc5-4310-b68b-cf992ecfbb42"
      },
      "source": [
        "arr.diagonal()"
      ],
      "execution_count": null,
      "outputs": [
        {
          "output_type": "execute_result",
          "data": {
            "text/plain": [
              "array([2, 8])"
            ]
          },
          "metadata": {
            "tags": []
          },
          "execution_count": 37
        }
      ]
    },
    {
      "cell_type": "code",
      "metadata": {
        "colab": {
          "base_uri": "https://localhost:8080/"
        },
        "id": "ompARpPBHBbQ",
        "outputId": "48fb0388-fbea-49ae-bf9e-0b98e0c1b739"
      },
      "source": [
        "arr.sum()"
      ],
      "execution_count": null,
      "outputs": [
        {
          "output_type": "execute_result",
          "data": {
            "text/plain": [
              "67"
            ]
          },
          "metadata": {
            "tags": []
          },
          "execution_count": 38
        }
      ]
    },
    {
      "cell_type": "code",
      "metadata": {
        "id": "zr1vP_fHG3qR"
      },
      "source": [
        "riyaz=np.array([20,54,65,78,98,78,45])"
      ],
      "execution_count": null,
      "outputs": []
    },
    {
      "cell_type": "code",
      "metadata": {
        "id": "INTx663ZHJA4"
      },
      "source": [
        "riyaz.sort()"
      ],
      "execution_count": null,
      "outputs": []
    },
    {
      "cell_type": "code",
      "metadata": {
        "colab": {
          "base_uri": "https://localhost:8080/"
        },
        "id": "ADC3nlCdHKxp",
        "outputId": "59a06ba8-215f-4495-e25c-3ac20aa00d4d"
      },
      "source": [
        "riyaz"
      ],
      "execution_count": null,
      "outputs": [
        {
          "output_type": "execute_result",
          "data": {
            "text/plain": [
              "array([20, 45, 54, 65, 78, 78, 98])"
            ]
          },
          "metadata": {
            "tags": []
          },
          "execution_count": 41
        }
      ]
    },
    {
      "cell_type": "code",
      "metadata": {
        "colab": {
          "base_uri": "https://localhost:8080/"
        },
        "id": "1uKrZaQSHLnm",
        "outputId": "8f06f7ad-d637-4b7f-a8ff-210304e648ce"
      },
      "source": [
        "arr.std()"
      ],
      "execution_count": null,
      "outputs": [
        {
          "output_type": "execute_result",
          "data": {
            "text/plain": [
              "2.2157893000513886"
            ]
          },
          "metadata": {
            "tags": []
          },
          "execution_count": 42
        }
      ]
    },
    {
      "cell_type": "code",
      "metadata": {
        "colab": {
          "base_uri": "https://localhost:8080/"
        },
        "id": "BjmlldEcHQa2",
        "outputId": "38a9cca1-4e12-482c-c959-c7ba2c7bd83e"
      },
      "source": [
        "riyaz.strides"
      ],
      "execution_count": null,
      "outputs": [
        {
          "output_type": "execute_result",
          "data": {
            "text/plain": [
              "(8,)"
            ]
          },
          "metadata": {
            "tags": []
          },
          "execution_count": 43
        }
      ]
    },
    {
      "cell_type": "code",
      "metadata": {
        "colab": {
          "base_uri": "https://localhost:8080/"
        },
        "id": "wYIspIIeHNCZ",
        "outputId": "8428473d-84be-4570-dc25-e20956b39c51"
      },
      "source": [
        "riyaz.max()"
      ],
      "execution_count": null,
      "outputs": [
        {
          "output_type": "execute_result",
          "data": {
            "text/plain": [
              "98"
            ]
          },
          "metadata": {
            "tags": []
          },
          "execution_count": 44
        }
      ]
    },
    {
      "cell_type": "code",
      "metadata": {
        "colab": {
          "base_uri": "https://localhost:8080/"
        },
        "id": "D8puq1OhHUww",
        "outputId": "9e7764c9-6120-4f3a-bf68-a6c98db46071"
      },
      "source": [
        "riyaz.min()"
      ],
      "execution_count": null,
      "outputs": [
        {
          "output_type": "execute_result",
          "data": {
            "text/plain": [
              "20"
            ]
          },
          "metadata": {
            "tags": []
          },
          "execution_count": 45
        }
      ]
    },
    {
      "cell_type": "code",
      "metadata": {
        "colab": {
          "base_uri": "https://localhost:8080/"
        },
        "id": "GvUU_KigHWZo",
        "outputId": "06d1a21a-3716-47d7-a219-e784efd2afb5"
      },
      "source": [
        "riyaz.mean()"
      ],
      "execution_count": null,
      "outputs": [
        {
          "output_type": "execute_result",
          "data": {
            "text/plain": [
              "62.57142857142857"
            ]
          },
          "metadata": {
            "tags": []
          },
          "execution_count": 46
        }
      ]
    },
    {
      "cell_type": "code",
      "metadata": {
        "id": "aw21bQxUHXoq"
      },
      "source": [
        "a1=[1,2,3,4]\n",
        "a2=[5,6,7,8]\n",
        "a3=[7,8,9,4]"
      ],
      "execution_count": null,
      "outputs": []
    },
    {
      "cell_type": "code",
      "metadata": {
        "id": "W2LfMvfoHq39"
      },
      "source": [
        "mat=np.array([a1,a2,a3])"
      ],
      "execution_count": null,
      "outputs": []
    },
    {
      "cell_type": "code",
      "metadata": {
        "colab": {
          "base_uri": "https://localhost:8080/"
        },
        "id": "L0mAc59YH1Ro",
        "outputId": "fe217f17-c92a-4505-b173-6e9c51abd4f8"
      },
      "source": [
        "mat.ndim"
      ],
      "execution_count": null,
      "outputs": [
        {
          "output_type": "execute_result",
          "data": {
            "text/plain": [
              "2"
            ]
          },
          "metadata": {
            "tags": []
          },
          "execution_count": 49
        }
      ]
    },
    {
      "cell_type": "code",
      "metadata": {
        "colab": {
          "base_uri": "https://localhost:8080/"
        },
        "id": "vrWWCm8CH3zD",
        "outputId": "5e90034a-63e9-4669-e1c4-1b9636fbe8c3"
      },
      "source": [
        "mat.shape"
      ],
      "execution_count": null,
      "outputs": [
        {
          "output_type": "execute_result",
          "data": {
            "text/plain": [
              "(3, 4)"
            ]
          },
          "metadata": {
            "tags": []
          },
          "execution_count": 50
        }
      ]
    },
    {
      "cell_type": "code",
      "metadata": {
        "colab": {
          "base_uri": "https://localhost:8080/"
        },
        "id": "yI6LFc3IH5Jx",
        "outputId": "5f0d07eb-eb6f-4560-f442-d96703531226"
      },
      "source": [
        "mat.mean()"
      ],
      "execution_count": null,
      "outputs": [
        {
          "output_type": "execute_result",
          "data": {
            "text/plain": [
              "5.333333333333333"
            ]
          },
          "metadata": {
            "tags": []
          },
          "execution_count": 51
        }
      ]
    },
    {
      "cell_type": "code",
      "metadata": {
        "colab": {
          "base_uri": "https://localhost:8080/"
        },
        "id": "hcJpFwp2H69s",
        "outputId": "12657ffc-a08f-4212-ab35-47e9f26be7a3"
      },
      "source": [
        "mat.sum()"
      ],
      "execution_count": null,
      "outputs": [
        {
          "output_type": "execute_result",
          "data": {
            "text/plain": [
              "64"
            ]
          },
          "metadata": {
            "tags": []
          },
          "execution_count": 52
        }
      ]
    },
    {
      "cell_type": "code",
      "metadata": {
        "colab": {
          "base_uri": "https://localhost:8080/"
        },
        "id": "BQhqukPTH8Kz",
        "outputId": "0d49001e-b2a4-4ba4-8476-a65815749a19"
      },
      "source": [
        "mat"
      ],
      "execution_count": null,
      "outputs": [
        {
          "output_type": "execute_result",
          "data": {
            "text/plain": [
              "array([[1, 2, 3, 4],\n",
              "       [5, 6, 7, 8],\n",
              "       [7, 8, 9, 4]])"
            ]
          },
          "metadata": {
            "tags": []
          },
          "execution_count": 53
        }
      ]
    },
    {
      "cell_type": "code",
      "metadata": {
        "colab": {
          "base_uri": "https://localhost:8080/"
        },
        "id": "O3XUsRjvIB22",
        "outputId": "20f4c6b3-ad1f-469f-8be9-45bfa0b0dab9"
      },
      "source": [
        "mat.reshape(12,)"
      ],
      "execution_count": null,
      "outputs": [
        {
          "output_type": "execute_result",
          "data": {
            "text/plain": [
              "array([1, 2, 3, 4, 5, 6, 7, 8, 7, 8, 9, 4])"
            ]
          },
          "metadata": {
            "tags": []
          },
          "execution_count": 54
        }
      ]
    },
    {
      "cell_type": "code",
      "metadata": {
        "colab": {
          "base_uri": "https://localhost:8080/"
        },
        "id": "VPwwL1uUIE0B",
        "outputId": "12fac3a9-7873-432b-fdb2-c6675c29bd68"
      },
      "source": [
        "mat.reshape(1,12)"
      ],
      "execution_count": null,
      "outputs": [
        {
          "output_type": "execute_result",
          "data": {
            "text/plain": [
              "array([[1, 2, 3, 4, 5, 6, 7, 8, 7, 8, 9, 4]])"
            ]
          },
          "metadata": {
            "tags": []
          },
          "execution_count": 55
        }
      ]
    },
    {
      "cell_type": "code",
      "metadata": {
        "id": "7KtDCmWyIHAT"
      },
      "source": [
        "add=np.array([\n",
        "              [1,2,3,4],\n",
        "              [5,6,7,8],\n",
        "              [9,10,11,12],\n",
        "              [13,14,15,16],\n",
        "              [17,18,19,20],\n",
        "              [21,22,23,24]\n",
        "\n",
        "])"
      ],
      "execution_count": null,
      "outputs": []
    },
    {
      "cell_type": "code",
      "metadata": {
        "colab": {
          "base_uri": "https://localhost:8080/"
        },
        "id": "mc89ZlpwI-d4",
        "outputId": "a9dfba8d-a7fe-4f84-ba3f-fc5567a8e550"
      },
      "source": [
        "add"
      ],
      "execution_count": null,
      "outputs": [
        {
          "output_type": "execute_result",
          "data": {
            "text/plain": [
              "array([[ 1,  2,  3,  4],\n",
              "       [ 5,  6,  7,  8],\n",
              "       [ 9, 10, 11, 12],\n",
              "       [13, 14, 15, 16],\n",
              "       [17, 18, 19, 20],\n",
              "       [21, 22, 23, 24]])"
            ]
          },
          "metadata": {
            "tags": []
          },
          "execution_count": 57
        }
      ]
    },
    {
      "cell_type": "code",
      "metadata": {
        "colab": {
          "base_uri": "https://localhost:8080/"
        },
        "id": "_en1ZSpKI_MF",
        "outputId": "e3621304-a3a0-4906-b444-88f178b1d080"
      },
      "source": [
        "arr.reshape(6,2)"
      ],
      "execution_count": null,
      "outputs": [
        {
          "output_type": "execute_result",
          "data": {
            "text/plain": [
              "array([[2, 2],\n",
              "       [4, 5],\n",
              "       [6, 8],\n",
              "       [5, 8],\n",
              "       [7, 4],\n",
              "       [9, 7]])"
            ]
          },
          "metadata": {
            "tags": []
          },
          "execution_count": 58
        }
      ]
    },
    {
      "cell_type": "code",
      "metadata": {
        "colab": {
          "base_uri": "https://localhost:8080/"
        },
        "id": "awAvx_bsJIAE",
        "outputId": "156faee6-b99a-4c38-da3b-1dd445b993a9"
      },
      "source": [
        "add.reshape(1,-1)"
      ],
      "execution_count": null,
      "outputs": [
        {
          "output_type": "execute_result",
          "data": {
            "text/plain": [
              "array([[ 1,  2,  3,  4,  5,  6,  7,  8,  9, 10, 11, 12, 13, 14, 15, 16,\n",
              "        17, 18, 19, 20, 21, 22, 23, 24]])"
            ]
          },
          "metadata": {
            "tags": []
          },
          "execution_count": 59
        }
      ]
    },
    {
      "cell_type": "code",
      "metadata": {
        "colab": {
          "base_uri": "https://localhost:8080/"
        },
        "id": "R1V7CjInJPbO",
        "outputId": "66a16b14-6905-4ce6-ad8e-4d4e65c7d3ee"
      },
      "source": [
        "np.arange(1,25).reshape(6,4)"
      ],
      "execution_count": null,
      "outputs": [
        {
          "output_type": "execute_result",
          "data": {
            "text/plain": [
              "array([[ 1,  2,  3,  4],\n",
              "       [ 5,  6,  7,  8],\n",
              "       [ 9, 10, 11, 12],\n",
              "       [13, 14, 15, 16],\n",
              "       [17, 18, 19, 20],\n",
              "       [21, 22, 23, 24]])"
            ]
          },
          "metadata": {
            "tags": []
          },
          "execution_count": 60
        }
      ]
    },
    {
      "cell_type": "code",
      "metadata": {
        "colab": {
          "base_uri": "https://localhost:8080/"
        },
        "id": "i-8MmCYTJU8s",
        "outputId": "93c59a46-f7b0-4e63-e7f4-8897923261af"
      },
      "source": [
        "add.sum(axis=0)"
      ],
      "execution_count": null,
      "outputs": [
        {
          "output_type": "execute_result",
          "data": {
            "text/plain": [
              "array([66, 72, 78, 84])"
            ]
          },
          "metadata": {
            "tags": []
          },
          "execution_count": 61
        }
      ]
    },
    {
      "cell_type": "code",
      "metadata": {
        "colab": {
          "base_uri": "https://localhost:8080/"
        },
        "id": "Ws4oaX-3Ja0K",
        "outputId": "431d87bb-68a1-4e6e-adc8-a5d2557a87c1"
      },
      "source": [
        "add.sum()"
      ],
      "execution_count": null,
      "outputs": [
        {
          "output_type": "execute_result",
          "data": {
            "text/plain": [
              "300"
            ]
          },
          "metadata": {
            "tags": []
          },
          "execution_count": 62
        }
      ]
    },
    {
      "cell_type": "code",
      "metadata": {
        "colab": {
          "base_uri": "https://localhost:8080/"
        },
        "id": "kOYQE_SIJbzf",
        "outputId": "8d8081bc-80b8-4efc-f135-b6f99c75d5d0"
      },
      "source": [
        "add.sum(axis=1)"
      ],
      "execution_count": null,
      "outputs": [
        {
          "output_type": "execute_result",
          "data": {
            "text/plain": [
              "array([10, 26, 42, 58, 74, 90])"
            ]
          },
          "metadata": {
            "tags": []
          },
          "execution_count": 63
        }
      ]
    },
    {
      "cell_type": "code",
      "metadata": {
        "colab": {
          "base_uri": "https://localhost:8080/"
        },
        "id": "OyZTURIaJd2R",
        "outputId": "ce2561dc-0502-4000-a7c3-6ca29c34f09c"
      },
      "source": [
        "add.flatten()"
      ],
      "execution_count": null,
      "outputs": [
        {
          "output_type": "execute_result",
          "data": {
            "text/plain": [
              "array([ 1,  2,  3,  4,  5,  6,  7,  8,  9, 10, 11, 12, 13, 14, 15, 16, 17,\n",
              "       18, 19, 20, 21, 22, 23, 24])"
            ]
          },
          "metadata": {
            "tags": []
          },
          "execution_count": 64
        }
      ]
    },
    {
      "cell_type": "code",
      "metadata": {
        "id": "3mYEMCv8JojF"
      },
      "source": [
        "a=np.zeros(100).reshape(10,10)"
      ],
      "execution_count": null,
      "outputs": []
    },
    {
      "cell_type": "code",
      "metadata": {
        "colab": {
          "base_uri": "https://localhost:8080/"
        },
        "id": "-yEgtcBIJtSe",
        "outputId": "c2fae401-6f77-4863-f9b6-4e8057fb44a4"
      },
      "source": [
        "a"
      ],
      "execution_count": null,
      "outputs": [
        {
          "output_type": "execute_result",
          "data": {
            "text/plain": [
              "array([[0., 0., 0., 0., 0., 0., 0., 0., 0., 0.],\n",
              "       [0., 0., 0., 0., 0., 0., 0., 0., 0., 0.],\n",
              "       [0., 0., 0., 0., 0., 0., 0., 0., 0., 0.],\n",
              "       [0., 0., 0., 0., 0., 0., 0., 0., 0., 0.],\n",
              "       [0., 0., 0., 0., 0., 0., 0., 0., 0., 0.],\n",
              "       [0., 0., 0., 0., 0., 0., 0., 0., 0., 0.],\n",
              "       [0., 0., 0., 0., 0., 0., 0., 0., 0., 0.],\n",
              "       [0., 0., 0., 0., 0., 0., 0., 0., 0., 0.],\n",
              "       [0., 0., 0., 0., 0., 0., 0., 0., 0., 0.],\n",
              "       [0., 0., 0., 0., 0., 0., 0., 0., 0., 0.]])"
            ]
          },
          "metadata": {
            "tags": []
          },
          "execution_count": 66
        }
      ]
    },
    {
      "cell_type": "code",
      "metadata": {
        "id": "mO7nY4mfJv69"
      },
      "source": [
        "b=np.ones(100).reshape(10,10)"
      ],
      "execution_count": null,
      "outputs": []
    },
    {
      "cell_type": "code",
      "metadata": {
        "id": "xWKYnvbgJ0Sj"
      },
      "source": [
        "a=np.ones_like(100)"
      ],
      "execution_count": null,
      "outputs": []
    },
    {
      "cell_type": "code",
      "metadata": {
        "colab": {
          "base_uri": "https://localhost:8080/"
        },
        "id": "neGKsxVJJ5Y2",
        "outputId": "3336c260-79f5-4cec-8da2-517ecb635552"
      },
      "source": [
        "a"
      ],
      "execution_count": null,
      "outputs": [
        {
          "output_type": "execute_result",
          "data": {
            "text/plain": [
              "array(1)"
            ]
          },
          "metadata": {
            "tags": []
          },
          "execution_count": 69
        }
      ]
    },
    {
      "cell_type": "code",
      "metadata": {
        "id": "w5rlTomWJ52E"
      },
      "source": [
        "a=np.eye(10)"
      ],
      "execution_count": null,
      "outputs": []
    },
    {
      "cell_type": "code",
      "metadata": {
        "colab": {
          "base_uri": "https://localhost:8080/"
        },
        "id": "78bNO_D9J_Z1",
        "outputId": "8efa60ea-0030-45bf-8d1e-63805e3b7740"
      },
      "source": [
        "a"
      ],
      "execution_count": null,
      "outputs": [
        {
          "output_type": "execute_result",
          "data": {
            "text/plain": [
              "array([[1., 0., 0., 0., 0., 0., 0., 0., 0., 0.],\n",
              "       [0., 1., 0., 0., 0., 0., 0., 0., 0., 0.],\n",
              "       [0., 0., 1., 0., 0., 0., 0., 0., 0., 0.],\n",
              "       [0., 0., 0., 1., 0., 0., 0., 0., 0., 0.],\n",
              "       [0., 0., 0., 0., 1., 0., 0., 0., 0., 0.],\n",
              "       [0., 0., 0., 0., 0., 1., 0., 0., 0., 0.],\n",
              "       [0., 0., 0., 0., 0., 0., 1., 0., 0., 0.],\n",
              "       [0., 0., 0., 0., 0., 0., 0., 1., 0., 0.],\n",
              "       [0., 0., 0., 0., 0., 0., 0., 0., 1., 0.],\n",
              "       [0., 0., 0., 0., 0., 0., 0., 0., 0., 1.]])"
            ]
          },
          "metadata": {
            "tags": []
          },
          "execution_count": 71
        }
      ]
    },
    {
      "cell_type": "code",
      "metadata": {
        "id": "lIUw5U8_KDsX"
      },
      "source": [
        "a=np.identity(10)"
      ],
      "execution_count": null,
      "outputs": []
    },
    {
      "cell_type": "code",
      "metadata": {
        "colab": {
          "base_uri": "https://localhost:8080/"
        },
        "id": "Kt2W5ZW1KBFr",
        "outputId": "d22d3dfe-2b9b-4135-f6af-b37f6ecea233"
      },
      "source": [
        "a"
      ],
      "execution_count": null,
      "outputs": [
        {
          "output_type": "execute_result",
          "data": {
            "text/plain": [
              "array([[1., 0., 0., 0., 0., 0., 0., 0., 0., 0.],\n",
              "       [0., 1., 0., 0., 0., 0., 0., 0., 0., 0.],\n",
              "       [0., 0., 1., 0., 0., 0., 0., 0., 0., 0.],\n",
              "       [0., 0., 0., 1., 0., 0., 0., 0., 0., 0.],\n",
              "       [0., 0., 0., 0., 1., 0., 0., 0., 0., 0.],\n",
              "       [0., 0., 0., 0., 0., 1., 0., 0., 0., 0.],\n",
              "       [0., 0., 0., 0., 0., 0., 1., 0., 0., 0.],\n",
              "       [0., 0., 0., 0., 0., 0., 0., 1., 0., 0.],\n",
              "       [0., 0., 0., 0., 0., 0., 0., 0., 1., 0.],\n",
              "       [0., 0., 0., 0., 0., 0., 0., 0., 0., 1.]])"
            ]
          },
          "metadata": {
            "tags": []
          },
          "execution_count": 73
        }
      ]
    },
    {
      "cell_type": "code",
      "metadata": {
        "id": "a7BofioFKJ5I"
      },
      "source": [
        "a=np.empty((10,2))"
      ],
      "execution_count": null,
      "outputs": []
    },
    {
      "cell_type": "code",
      "metadata": {
        "colab": {
          "base_uri": "https://localhost:8080/"
        },
        "id": "3rH51Hm4KHJy",
        "outputId": "2a3bcc51-f46c-4e90-89b1-4b36cae7a653"
      },
      "source": [
        "a"
      ],
      "execution_count": null,
      "outputs": [
        {
          "output_type": "execute_result",
          "data": {
            "text/plain": [
              "array([[4.64392869e-310, 1.73771270e+097],\n",
              "       [9.82157975e+252, 8.89489936e+252],\n",
              "       [6.01346954e-154, 6.01347002e-154],\n",
              "       [6.01347002e-154, 7.49877502e+247],\n",
              "       [6.96742172e+252, 6.72775467e+199],\n",
              "       [1.19490107e+190, 5.08200698e+233],\n",
              "       [1.53336497e-094, 6.01347002e-154],\n",
              "       [6.01347002e-154, 6.01347002e-154],\n",
              "       [1.88556770e+122, 4.96820036e+180],\n",
              "       [6.80600993e+212, 8.73449626e-313]])"
            ]
          },
          "metadata": {
            "tags": []
          },
          "execution_count": 75
        }
      ]
    },
    {
      "cell_type": "code",
      "metadata": {
        "colab": {
          "base_uri": "https://localhost:8080/"
        },
        "id": "WpLo3reLKO2K",
        "outputId": "d9ecc7f2-8e77-47bb-aed5-c6b4f327c98e"
      },
      "source": [
        "np.eye(4,k=1)"
      ],
      "execution_count": null,
      "outputs": [
        {
          "output_type": "execute_result",
          "data": {
            "text/plain": [
              "array([[0., 1., 0., 0.],\n",
              "       [0., 0., 1., 0.],\n",
              "       [0., 0., 0., 1.],\n",
              "       [0., 0., 0., 0.]])"
            ]
          },
          "metadata": {
            "tags": []
          },
          "execution_count": 76
        }
      ]
    },
    {
      "cell_type": "code",
      "metadata": {
        "colab": {
          "base_uri": "https://localhost:8080/"
        },
        "id": "Yq8pvfMTKWtL",
        "outputId": "9a62fef2-d032-49ae-8012-e31d28679b4f"
      },
      "source": [
        "arr+10 #Broadcasting"
      ],
      "execution_count": null,
      "outputs": [
        {
          "output_type": "execute_result",
          "data": {
            "text/plain": [
              "array([[12, 12, 14, 15, 16, 18],\n",
              "       [15, 18, 17, 14, 19, 17]])"
            ]
          },
          "metadata": {
            "tags": []
          },
          "execution_count": 77
        }
      ]
    },
    {
      "cell_type": "code",
      "metadata": {
        "colab": {
          "base_uri": "https://localhost:8080/"
        },
        "id": "s6hqyawCKYV6",
        "outputId": "e28c33e6-b3b0-41e0-bfe2-e0ffc7326b0b"
      },
      "source": [
        "arr1=np.arange(1,10).reshape(3,3)\n",
        "arr1"
      ],
      "execution_count": null,
      "outputs": [
        {
          "output_type": "execute_result",
          "data": {
            "text/plain": [
              "array([[1, 2, 3],\n",
              "       [4, 5, 6],\n",
              "       [7, 8, 9]])"
            ]
          },
          "metadata": {
            "tags": []
          },
          "execution_count": 78
        }
      ]
    },
    {
      "cell_type": "code",
      "metadata": {
        "id": "n_vFme6zKoyp"
      },
      "source": [
        "arr2=np.arange(1,10).reshape(3,3)"
      ],
      "execution_count": null,
      "outputs": []
    },
    {
      "cell_type": "code",
      "metadata": {
        "colab": {
          "base_uri": "https://localhost:8080/"
        },
        "id": "avkxXyISKrS3",
        "outputId": "d9b72c73-92a5-4a42-cb1d-a2126ec5b0d8"
      },
      "source": [
        "arr2"
      ],
      "execution_count": null,
      "outputs": [
        {
          "output_type": "execute_result",
          "data": {
            "text/plain": [
              "array([[1, 2, 3],\n",
              "       [4, 5, 6],\n",
              "       [7, 8, 9]])"
            ]
          },
          "metadata": {
            "tags": []
          },
          "execution_count": 80
        }
      ]
    },
    {
      "cell_type": "code",
      "metadata": {
        "colab": {
          "base_uri": "https://localhost:8080/"
        },
        "id": "O4rsCpEbKsp_",
        "outputId": "952b44e0-7894-4f9d-bfa9-62b1e6505129"
      },
      "source": [
        "arr1+arr2"
      ],
      "execution_count": null,
      "outputs": [
        {
          "output_type": "execute_result",
          "data": {
            "text/plain": [
              "array([[ 2,  4,  6],\n",
              "       [ 8, 10, 12],\n",
              "       [14, 16, 18]])"
            ]
          },
          "metadata": {
            "tags": []
          },
          "execution_count": 81
        }
      ]
    },
    {
      "cell_type": "code",
      "metadata": {
        "colab": {
          "base_uri": "https://localhost:8080/"
        },
        "id": "0Kd3ZhFYKul7",
        "outputId": "7d1bee50-ced6-45d7-e3da-7868bcb95ab3"
      },
      "source": [
        "arr1-arr2"
      ],
      "execution_count": null,
      "outputs": [
        {
          "output_type": "execute_result",
          "data": {
            "text/plain": [
              "array([[0, 0, 0],\n",
              "       [0, 0, 0],\n",
              "       [0, 0, 0]])"
            ]
          },
          "metadata": {
            "tags": []
          },
          "execution_count": 82
        }
      ]
    },
    {
      "cell_type": "code",
      "metadata": {
        "colab": {
          "base_uri": "https://localhost:8080/"
        },
        "id": "Q83xGI03Kvzo",
        "outputId": "2c9d091c-97b5-4a45-8253-08e121e5fd0f"
      },
      "source": [
        "np.dot(arr1,arr2)"
      ],
      "execution_count": null,
      "outputs": [
        {
          "output_type": "execute_result",
          "data": {
            "text/plain": [
              "array([[ 30,  36,  42],\n",
              "       [ 66,  81,  96],\n",
              "       [102, 126, 150]])"
            ]
          },
          "metadata": {
            "tags": []
          },
          "execution_count": 83
        }
      ]
    },
    {
      "cell_type": "code",
      "metadata": {
        "colab": {
          "base_uri": "https://localhost:8080/"
        },
        "id": "pi7Tx6Q5K135",
        "outputId": "a859890e-b64f-4dca-b568-0d3b233408af"
      },
      "source": [
        "arr1"
      ],
      "execution_count": null,
      "outputs": [
        {
          "output_type": "execute_result",
          "data": {
            "text/plain": [
              "array([[1, 2, 3],\n",
              "       [4, 5, 6],\n",
              "       [7, 8, 9]])"
            ]
          },
          "metadata": {
            "tags": []
          },
          "execution_count": 84
        }
      ]
    },
    {
      "cell_type": "code",
      "metadata": {
        "id": "L0DSNuSiK6OW"
      },
      "source": [
        "c=np.array([1,2,3])"
      ],
      "execution_count": null,
      "outputs": []
    },
    {
      "cell_type": "code",
      "metadata": {
        "colab": {
          "base_uri": "https://localhost:8080/"
        },
        "id": "xXMW8N6DLBi4",
        "outputId": "cdf7c2db-e6e2-4a82-f396-cd9d150e061e"
      },
      "source": [
        "arr1+c"
      ],
      "execution_count": null,
      "outputs": [
        {
          "output_type": "execute_result",
          "data": {
            "text/plain": [
              "array([[ 2,  4,  6],\n",
              "       [ 5,  7,  9],\n",
              "       [ 8, 10, 12]])"
            ]
          },
          "metadata": {
            "tags": []
          },
          "execution_count": 86
        }
      ]
    },
    {
      "cell_type": "code",
      "metadata": {
        "colab": {
          "base_uri": "https://localhost:8080/"
        },
        "id": "q0ALAuo3LCaq",
        "outputId": "789838e3-4239-4b9b-d9ad-9eab89e89b79"
      },
      "source": [
        "arr1*c"
      ],
      "execution_count": null,
      "outputs": [
        {
          "output_type": "execute_result",
          "data": {
            "text/plain": [
              "array([[ 1,  4,  9],\n",
              "       [ 4, 10, 18],\n",
              "       [ 7, 16, 27]])"
            ]
          },
          "metadata": {
            "tags": []
          },
          "execution_count": 87
        }
      ]
    },
    {
      "cell_type": "code",
      "metadata": {
        "colab": {
          "base_uri": "https://localhost:8080/"
        },
        "id": "PqoiStOGLE6S",
        "outputId": "4e245216-c80d-4f06-c7e4-a5799381a4ff"
      },
      "source": [
        "arr1*arr2"
      ],
      "execution_count": null,
      "outputs": [
        {
          "output_type": "execute_result",
          "data": {
            "text/plain": [
              "array([[ 1,  4,  9],\n",
              "       [16, 25, 36],\n",
              "       [49, 64, 81]])"
            ]
          },
          "metadata": {
            "tags": []
          },
          "execution_count": 88
        }
      ]
    },
    {
      "cell_type": "code",
      "metadata": {
        "colab": {
          "base_uri": "https://localhost:8080/"
        },
        "id": "h0ITLCbTLHMY",
        "outputId": "946931e2-cd4d-47d1-a32a-10c58429ff61"
      },
      "source": [
        "arr1>5"
      ],
      "execution_count": null,
      "outputs": [
        {
          "output_type": "execute_result",
          "data": {
            "text/plain": [
              "array([[False, False, False],\n",
              "       [False, False,  True],\n",
              "       [ True,  True,  True]])"
            ]
          },
          "metadata": {
            "tags": []
          },
          "execution_count": 89
        }
      ]
    },
    {
      "cell_type": "code",
      "metadata": {
        "id": "Tv1bsnklLLmy"
      },
      "source": [
        "arr1=np.linspace(1,10)"
      ],
      "execution_count": null,
      "outputs": []
    },
    {
      "cell_type": "code",
      "metadata": {
        "colab": {
          "base_uri": "https://localhost:8080/"
        },
        "id": "BlUCoOneLO3a",
        "outputId": "0053099f-f304-4c8e-c762-bb086691d8e6"
      },
      "source": [
        "arr1"
      ],
      "execution_count": null,
      "outputs": [
        {
          "output_type": "execute_result",
          "data": {
            "text/plain": [
              "array([ 1.        ,  1.18367347,  1.36734694,  1.55102041,  1.73469388,\n",
              "        1.91836735,  2.10204082,  2.28571429,  2.46938776,  2.65306122,\n",
              "        2.83673469,  3.02040816,  3.20408163,  3.3877551 ,  3.57142857,\n",
              "        3.75510204,  3.93877551,  4.12244898,  4.30612245,  4.48979592,\n",
              "        4.67346939,  4.85714286,  5.04081633,  5.2244898 ,  5.40816327,\n",
              "        5.59183673,  5.7755102 ,  5.95918367,  6.14285714,  6.32653061,\n",
              "        6.51020408,  6.69387755,  6.87755102,  7.06122449,  7.24489796,\n",
              "        7.42857143,  7.6122449 ,  7.79591837,  7.97959184,  8.16326531,\n",
              "        8.34693878,  8.53061224,  8.71428571,  8.89795918,  9.08163265,\n",
              "        9.26530612,  9.44897959,  9.63265306,  9.81632653, 10.        ])"
            ]
          },
          "metadata": {
            "tags": []
          },
          "execution_count": 91
        }
      ]
    },
    {
      "cell_type": "code",
      "metadata": {
        "id": "l8_GkbHdLPk0"
      },
      "source": [
        "arr1=np.linspace(1,10,5)"
      ],
      "execution_count": null,
      "outputs": []
    },
    {
      "cell_type": "code",
      "metadata": {
        "colab": {
          "base_uri": "https://localhost:8080/"
        },
        "id": "bV3udQO9Lb0w",
        "outputId": "7dbae6be-f340-46af-f508-ce5b79eb1444"
      },
      "source": [
        "arr1"
      ],
      "execution_count": null,
      "outputs": [
        {
          "output_type": "execute_result",
          "data": {
            "text/plain": [
              "array([ 1.  ,  3.25,  5.5 ,  7.75, 10.  ])"
            ]
          },
          "metadata": {
            "tags": []
          },
          "execution_count": 93
        }
      ]
    },
    {
      "cell_type": "code",
      "metadata": {
        "id": "t6PWtSp8Lci5"
      },
      "source": [
        "arr=np.arange(1,37).reshape(6,6)"
      ],
      "execution_count": null,
      "outputs": []
    },
    {
      "cell_type": "code",
      "metadata": {
        "colab": {
          "base_uri": "https://localhost:8080/"
        },
        "id": "yqihCKWaLiH6",
        "outputId": "56359480-aa3f-462f-8a27-3b0b148ea1d7"
      },
      "source": [
        "arr"
      ],
      "execution_count": null,
      "outputs": [
        {
          "output_type": "execute_result",
          "data": {
            "text/plain": [
              "array([[ 1,  2,  3,  4,  5,  6],\n",
              "       [ 7,  8,  9, 10, 11, 12],\n",
              "       [13, 14, 15, 16, 17, 18],\n",
              "       [19, 20, 21, 22, 23, 24],\n",
              "       [25, 26, 27, 28, 29, 30],\n",
              "       [31, 32, 33, 34, 35, 36]])"
            ]
          },
          "metadata": {
            "tags": []
          },
          "execution_count": 95
        }
      ]
    },
    {
      "cell_type": "code",
      "metadata": {
        "colab": {
          "base_uri": "https://localhost:8080/"
        },
        "id": "cPi33utVLkzI",
        "outputId": "8ebaf709-48db-48b5-b2c7-097d3c17ffc5"
      },
      "source": [
        "arr[0:3,0:7]"
      ],
      "execution_count": null,
      "outputs": [
        {
          "output_type": "execute_result",
          "data": {
            "text/plain": [
              "array([[ 1,  2,  3,  4,  5,  6],\n",
              "       [ 7,  8,  9, 10, 11, 12],\n",
              "       [13, 14, 15, 16, 17, 18]])"
            ]
          },
          "metadata": {
            "tags": []
          },
          "execution_count": 96
        }
      ]
    },
    {
      "cell_type": "code",
      "metadata": {
        "colab": {
          "base_uri": "https://localhost:8080/"
        },
        "id": "-JeHTiD0LjDS",
        "outputId": "530323bc-03e4-4c06-9eb6-8c59341cfc8b"
      },
      "source": [
        "arr[ :,0:3]"
      ],
      "execution_count": null,
      "outputs": [
        {
          "output_type": "execute_result",
          "data": {
            "text/plain": [
              "array([[ 1,  2,  3],\n",
              "       [ 7,  8,  9],\n",
              "       [13, 14, 15],\n",
              "       [19, 20, 21],\n",
              "       [25, 26, 27],\n",
              "       [31, 32, 33]])"
            ]
          },
          "metadata": {
            "tags": []
          },
          "execution_count": 97
        }
      ]
    },
    {
      "cell_type": "code",
      "metadata": {
        "colab": {
          "base_uri": "https://localhost:8080/"
        },
        "id": "zFg_NDoWLvPN",
        "outputId": "1ffd19b0-a232-4eaf-82c3-5ea841bbfba3"
      },
      "source": [
        "arr[:,0::2]"
      ],
      "execution_count": null,
      "outputs": [
        {
          "output_type": "execute_result",
          "data": {
            "text/plain": [
              "array([[ 1,  3,  5],\n",
              "       [ 7,  9, 11],\n",
              "       [13, 15, 17],\n",
              "       [19, 21, 23],\n",
              "       [25, 27, 29],\n",
              "       [31, 33, 35]])"
            ]
          },
          "metadata": {
            "tags": []
          },
          "execution_count": 98
        }
      ]
    },
    {
      "cell_type": "code",
      "metadata": {
        "colab": {
          "base_uri": "https://localhost:8080/"
        },
        "id": "bmTYCfEGLs_O",
        "outputId": "067b6555-f3c9-4f0c-d8fc-0d34d0b7347d"
      },
      "source": [
        "arr[0::2,:]"
      ],
      "execution_count": null,
      "outputs": [
        {
          "output_type": "execute_result",
          "data": {
            "text/plain": [
              "array([[ 1,  2,  3,  4,  5,  6],\n",
              "       [13, 14, 15, 16, 17, 18],\n",
              "       [25, 26, 27, 28, 29, 30]])"
            ]
          },
          "metadata": {
            "tags": []
          },
          "execution_count": 99
        }
      ]
    },
    {
      "cell_type": "code",
      "metadata": {
        "id": "6AuRnonDMBON"
      },
      "source": [
        "arr[:,0::2]=0"
      ],
      "execution_count": null,
      "outputs": []
    },
    {
      "cell_type": "code",
      "metadata": {
        "id": "bTApu8A8L1Ps"
      },
      "source": [
        "arr[:,0::2]=0"
      ],
      "execution_count": null,
      "outputs": []
    },
    {
      "cell_type": "code",
      "metadata": {
        "colab": {
          "base_uri": "https://localhost:8080/"
        },
        "id": "wAD23HCML4pJ",
        "outputId": "967cc271-e648-430d-c725-0b9faf4765ac"
      },
      "source": [
        "arr"
      ],
      "execution_count": null,
      "outputs": [
        {
          "output_type": "execute_result",
          "data": {
            "text/plain": [
              "array([[ 0,  2,  0,  4,  0,  6],\n",
              "       [ 0,  8,  0, 10,  0, 12],\n",
              "       [ 0, 14,  0, 16,  0, 18],\n",
              "       [ 0, 20,  0, 22,  0, 24],\n",
              "       [ 0, 26,  0, 28,  0, 30],\n",
              "       [ 0, 32,  0, 34,  0, 36]])"
            ]
          },
          "metadata": {
            "tags": []
          },
          "execution_count": 102
        }
      ]
    },
    {
      "cell_type": "code",
      "metadata": {
        "id": "GQ0yjREExJIQ"
      },
      "source": [
        "import numpy as np\n",
        "arr1 = np.arange(1,37).reshape(6,6)"
      ],
      "execution_count": null,
      "outputs": []
    },
    {
      "cell_type": "code",
      "metadata": {
        "colab": {
          "base_uri": "https://localhost:8080/"
        },
        "id": "r044at3exT4P",
        "outputId": "55afb794-2886-4d36-83c6-8054c5d54b09"
      },
      "source": [
        "arr1"
      ],
      "execution_count": null,
      "outputs": [
        {
          "output_type": "execute_result",
          "data": {
            "text/plain": [
              "array([[ 1,  2,  3,  4,  5,  6],\n",
              "       [ 7,  8,  9, 10, 11, 12],\n",
              "       [13, 14, 15, 16, 17, 18],\n",
              "       [19, 20, 21, 22, 23, 24],\n",
              "       [25, 26, 27, 28, 29, 30],\n",
              "       [31, 32, 33, 34, 35, 36]])"
            ]
          },
          "metadata": {
            "tags": []
          },
          "execution_count": 104
        }
      ]
    },
    {
      "cell_type": "markdown",
      "metadata": {
        "id": "7DliLMSXMJsu"
      },
      "source": [
        "##Pandas"
      ]
    },
    {
      "cell_type": "code",
      "metadata": {
        "id": "xBzxgOhmMHPK"
      },
      "source": [
        "import numpy as np\n",
        "import pandas as pd"
      ],
      "execution_count": null,
      "outputs": []
    },
    {
      "cell_type": "code",
      "metadata": {
        "id": "Xo3jD00pMrQD"
      },
      "source": [
        "df = pd.DataFrame([\n",
        "                   (\"dhana\",10,20,30),\n",
        "                   (\"anushik\",20,43,23),\n",
        "                   (\"riyaz\",23,18,49),\n",
        "                  \n",
        "],columns=['name','phy','mat','che'])\n",
        "df.to_csv(\"data.csv\")"
      ],
      "execution_count": null,
      "outputs": []
    },
    {
      "cell_type": "code",
      "metadata": {
        "colab": {
          "base_uri": "https://localhost:8080/",
          "height": 142
        },
        "id": "D6eMyicCMtXc",
        "outputId": "c9363ae9-4f72-474e-9cd9-fccdc8e9d31c"
      },
      "source": [
        "df"
      ],
      "execution_count": null,
      "outputs": [
        {
          "output_type": "execute_result",
          "data": {
            "text/html": [
              "<div>\n",
              "<style scoped>\n",
              "    .dataframe tbody tr th:only-of-type {\n",
              "        vertical-align: middle;\n",
              "    }\n",
              "\n",
              "    .dataframe tbody tr th {\n",
              "        vertical-align: top;\n",
              "    }\n",
              "\n",
              "    .dataframe thead th {\n",
              "        text-align: right;\n",
              "    }\n",
              "</style>\n",
              "<table border=\"1\" class=\"dataframe\">\n",
              "  <thead>\n",
              "    <tr style=\"text-align: right;\">\n",
              "      <th></th>\n",
              "      <th>name</th>\n",
              "      <th>phy</th>\n",
              "      <th>mat</th>\n",
              "      <th>che</th>\n",
              "    </tr>\n",
              "  </thead>\n",
              "  <tbody>\n",
              "    <tr>\n",
              "      <th>0</th>\n",
              "      <td>dhana</td>\n",
              "      <td>10</td>\n",
              "      <td>20</td>\n",
              "      <td>30</td>\n",
              "    </tr>\n",
              "    <tr>\n",
              "      <th>1</th>\n",
              "      <td>anushik</td>\n",
              "      <td>20</td>\n",
              "      <td>43</td>\n",
              "      <td>23</td>\n",
              "    </tr>\n",
              "    <tr>\n",
              "      <th>2</th>\n",
              "      <td>riyaz</td>\n",
              "      <td>23</td>\n",
              "      <td>18</td>\n",
              "      <td>49</td>\n",
              "    </tr>\n",
              "  </tbody>\n",
              "</table>\n",
              "</div>"
            ],
            "text/plain": [
              "      name  phy  mat  che\n",
              "0    dhana   10   20   30\n",
              "1  anushik   20   43   23\n",
              "2    riyaz   23   18   49"
            ]
          },
          "metadata": {
            "tags": []
          },
          "execution_count": 3
        }
      ]
    },
    {
      "cell_type": "code",
      "metadata": {
        "id": "k4X7Atk0MuEE"
      },
      "source": [
        "ds=pd.DataFrame(np.arange(1,21).reshape(10,2))"
      ],
      "execution_count": null,
      "outputs": []
    },
    {
      "cell_type": "code",
      "metadata": {
        "colab": {
          "base_uri": "https://localhost:8080/",
          "height": 359
        },
        "id": "KaEjA10FMw5a",
        "outputId": "da2f561d-0747-4860-aecd-dd6058200c04"
      },
      "source": [
        "ds"
      ],
      "execution_count": null,
      "outputs": [
        {
          "output_type": "execute_result",
          "data": {
            "text/html": [
              "<div>\n",
              "<style scoped>\n",
              "    .dataframe tbody tr th:only-of-type {\n",
              "        vertical-align: middle;\n",
              "    }\n",
              "\n",
              "    .dataframe tbody tr th {\n",
              "        vertical-align: top;\n",
              "    }\n",
              "\n",
              "    .dataframe thead th {\n",
              "        text-align: right;\n",
              "    }\n",
              "</style>\n",
              "<table border=\"1\" class=\"dataframe\">\n",
              "  <thead>\n",
              "    <tr style=\"text-align: right;\">\n",
              "      <th></th>\n",
              "      <th>0</th>\n",
              "      <th>1</th>\n",
              "    </tr>\n",
              "  </thead>\n",
              "  <tbody>\n",
              "    <tr>\n",
              "      <th>0</th>\n",
              "      <td>1</td>\n",
              "      <td>2</td>\n",
              "    </tr>\n",
              "    <tr>\n",
              "      <th>1</th>\n",
              "      <td>3</td>\n",
              "      <td>4</td>\n",
              "    </tr>\n",
              "    <tr>\n",
              "      <th>2</th>\n",
              "      <td>5</td>\n",
              "      <td>6</td>\n",
              "    </tr>\n",
              "    <tr>\n",
              "      <th>3</th>\n",
              "      <td>7</td>\n",
              "      <td>8</td>\n",
              "    </tr>\n",
              "    <tr>\n",
              "      <th>4</th>\n",
              "      <td>9</td>\n",
              "      <td>10</td>\n",
              "    </tr>\n",
              "    <tr>\n",
              "      <th>5</th>\n",
              "      <td>11</td>\n",
              "      <td>12</td>\n",
              "    </tr>\n",
              "    <tr>\n",
              "      <th>6</th>\n",
              "      <td>13</td>\n",
              "      <td>14</td>\n",
              "    </tr>\n",
              "    <tr>\n",
              "      <th>7</th>\n",
              "      <td>15</td>\n",
              "      <td>16</td>\n",
              "    </tr>\n",
              "    <tr>\n",
              "      <th>8</th>\n",
              "      <td>17</td>\n",
              "      <td>18</td>\n",
              "    </tr>\n",
              "    <tr>\n",
              "      <th>9</th>\n",
              "      <td>19</td>\n",
              "      <td>20</td>\n",
              "    </tr>\n",
              "  </tbody>\n",
              "</table>\n",
              "</div>"
            ],
            "text/plain": [
              "    0   1\n",
              "0   1   2\n",
              "1   3   4\n",
              "2   5   6\n",
              "3   7   8\n",
              "4   9  10\n",
              "5  11  12\n",
              "6  13  14\n",
              "7  15  16\n",
              "8  17  18\n",
              "9  19  20"
            ]
          },
          "metadata": {
            "tags": []
          },
          "execution_count": 5
        }
      ]
    },
    {
      "cell_type": "code",
      "metadata": {
        "id": "-2KcfoxlMxpk"
      },
      "source": [
        "nxt=np.arange(1,31).reshape(10,3)"
      ],
      "execution_count": null,
      "outputs": []
    },
    {
      "cell_type": "code",
      "metadata": {
        "colab": {
          "base_uri": "https://localhost:8080/"
        },
        "id": "jEtCQpqTM05g",
        "outputId": "1467ab98-0052-463a-fc7f-7888de8cf442"
      },
      "source": [
        "nxt"
      ],
      "execution_count": null,
      "outputs": [
        {
          "output_type": "execute_result",
          "data": {
            "text/plain": [
              "array([[ 1,  2,  3],\n",
              "       [ 4,  5,  6],\n",
              "       [ 7,  8,  9],\n",
              "       [10, 11, 12],\n",
              "       [13, 14, 15],\n",
              "       [16, 17, 18],\n",
              "       [19, 20, 21],\n",
              "       [22, 23, 24],\n",
              "       [25, 26, 27],\n",
              "       [28, 29, 30]])"
            ]
          },
          "metadata": {
            "tags": []
          },
          "execution_count": 7
        }
      ]
    },
    {
      "cell_type": "code",
      "metadata": {
        "id": "NyI9RJlNM1ku"
      },
      "source": [
        "ds=pd.DataFrame(nxt,index=[\"name\",\"riy\",\"mat\",\"mjr\",\"hyr\",\"hfy\",\"nfhfh\",\"hfyfy\",\"hfhyfy\",\"hfhfy\"],columns=[\"phy\",\"che\",\"mat\"])"
      ],
      "execution_count": null,
      "outputs": []
    },
    {
      "cell_type": "code",
      "metadata": {
        "colab": {
          "base_uri": "https://localhost:8080/",
          "height": 359
        },
        "id": "8-oqUKHoM5Dp",
        "outputId": "373dbb31-72ef-4440-8e73-6f003a00f465"
      },
      "source": [
        "ds"
      ],
      "execution_count": null,
      "outputs": [
        {
          "output_type": "execute_result",
          "data": {
            "text/html": [
              "<div>\n",
              "<style scoped>\n",
              "    .dataframe tbody tr th:only-of-type {\n",
              "        vertical-align: middle;\n",
              "    }\n",
              "\n",
              "    .dataframe tbody tr th {\n",
              "        vertical-align: top;\n",
              "    }\n",
              "\n",
              "    .dataframe thead th {\n",
              "        text-align: right;\n",
              "    }\n",
              "</style>\n",
              "<table border=\"1\" class=\"dataframe\">\n",
              "  <thead>\n",
              "    <tr style=\"text-align: right;\">\n",
              "      <th></th>\n",
              "      <th>phy</th>\n",
              "      <th>che</th>\n",
              "      <th>mat</th>\n",
              "    </tr>\n",
              "  </thead>\n",
              "  <tbody>\n",
              "    <tr>\n",
              "      <th>name</th>\n",
              "      <td>1</td>\n",
              "      <td>2</td>\n",
              "      <td>3</td>\n",
              "    </tr>\n",
              "    <tr>\n",
              "      <th>riy</th>\n",
              "      <td>4</td>\n",
              "      <td>5</td>\n",
              "      <td>6</td>\n",
              "    </tr>\n",
              "    <tr>\n",
              "      <th>mat</th>\n",
              "      <td>7</td>\n",
              "      <td>8</td>\n",
              "      <td>9</td>\n",
              "    </tr>\n",
              "    <tr>\n",
              "      <th>mjr</th>\n",
              "      <td>10</td>\n",
              "      <td>11</td>\n",
              "      <td>12</td>\n",
              "    </tr>\n",
              "    <tr>\n",
              "      <th>hyr</th>\n",
              "      <td>13</td>\n",
              "      <td>14</td>\n",
              "      <td>15</td>\n",
              "    </tr>\n",
              "    <tr>\n",
              "      <th>hfy</th>\n",
              "      <td>16</td>\n",
              "      <td>17</td>\n",
              "      <td>18</td>\n",
              "    </tr>\n",
              "    <tr>\n",
              "      <th>nfhfh</th>\n",
              "      <td>19</td>\n",
              "      <td>20</td>\n",
              "      <td>21</td>\n",
              "    </tr>\n",
              "    <tr>\n",
              "      <th>hfyfy</th>\n",
              "      <td>22</td>\n",
              "      <td>23</td>\n",
              "      <td>24</td>\n",
              "    </tr>\n",
              "    <tr>\n",
              "      <th>hfhyfy</th>\n",
              "      <td>25</td>\n",
              "      <td>26</td>\n",
              "      <td>27</td>\n",
              "    </tr>\n",
              "    <tr>\n",
              "      <th>hfhfy</th>\n",
              "      <td>28</td>\n",
              "      <td>29</td>\n",
              "      <td>30</td>\n",
              "    </tr>\n",
              "  </tbody>\n",
              "</table>\n",
              "</div>"
            ],
            "text/plain": [
              "        phy  che  mat\n",
              "name      1    2    3\n",
              "riy       4    5    6\n",
              "mat       7    8    9\n",
              "mjr      10   11   12\n",
              "hyr      13   14   15\n",
              "hfy      16   17   18\n",
              "nfhfh    19   20   21\n",
              "hfyfy    22   23   24\n",
              "hfhyfy   25   26   27\n",
              "hfhfy    28   29   30"
            ]
          },
          "metadata": {
            "tags": []
          },
          "execution_count": 9
        }
      ]
    },
    {
      "cell_type": "code",
      "metadata": {
        "id": "ImB1r0Z8M6C2"
      },
      "source": [
        "cd=(np.arange(1,10).reshape(3,3))"
      ],
      "execution_count": null,
      "outputs": []
    },
    {
      "cell_type": "code",
      "metadata": {
        "id": "YRZRTEr0M9DT"
      },
      "source": [
        "mp=[\"hemu\",\"dhana\",\"surya\"]\n",
        "cb=[\"mat\",\"phy\",\"pps\"]"
      ],
      "execution_count": null,
      "outputs": []
    },
    {
      "cell_type": "code",
      "metadata": {
        "id": "uo54fg0TM_FW"
      },
      "source": [
        "cbn=pd.DataFrame(cd,index=mp,columns=cb)"
      ],
      "execution_count": null,
      "outputs": []
    },
    {
      "cell_type": "code",
      "metadata": {
        "colab": {
          "base_uri": "https://localhost:8080/",
          "height": 142
        },
        "id": "YQYX994vNAZA",
        "outputId": "b6b3df54-e119-4861-c506-5cb8eb26e979"
      },
      "source": [
        "cbn"
      ],
      "execution_count": null,
      "outputs": [
        {
          "output_type": "execute_result",
          "data": {
            "text/html": [
              "<div>\n",
              "<style scoped>\n",
              "    .dataframe tbody tr th:only-of-type {\n",
              "        vertical-align: middle;\n",
              "    }\n",
              "\n",
              "    .dataframe tbody tr th {\n",
              "        vertical-align: top;\n",
              "    }\n",
              "\n",
              "    .dataframe thead th {\n",
              "        text-align: right;\n",
              "    }\n",
              "</style>\n",
              "<table border=\"1\" class=\"dataframe\">\n",
              "  <thead>\n",
              "    <tr style=\"text-align: right;\">\n",
              "      <th></th>\n",
              "      <th>mat</th>\n",
              "      <th>phy</th>\n",
              "      <th>pps</th>\n",
              "    </tr>\n",
              "  </thead>\n",
              "  <tbody>\n",
              "    <tr>\n",
              "      <th>hemu</th>\n",
              "      <td>1</td>\n",
              "      <td>2</td>\n",
              "      <td>3</td>\n",
              "    </tr>\n",
              "    <tr>\n",
              "      <th>dhana</th>\n",
              "      <td>4</td>\n",
              "      <td>5</td>\n",
              "      <td>6</td>\n",
              "    </tr>\n",
              "    <tr>\n",
              "      <th>surya</th>\n",
              "      <td>7</td>\n",
              "      <td>8</td>\n",
              "      <td>9</td>\n",
              "    </tr>\n",
              "  </tbody>\n",
              "</table>\n",
              "</div>"
            ],
            "text/plain": [
              "       mat  phy  pps\n",
              "hemu     1    2    3\n",
              "dhana    4    5    6\n",
              "surya    7    8    9"
            ]
          },
          "metadata": {
            "tags": []
          },
          "execution_count": 13
        }
      ]
    },
    {
      "cell_type": "code",
      "metadata": {
        "id": "E-6_I5AmNCD-"
      },
      "source": [
        "cbn.to_csv(\"Teach.csv\")"
      ],
      "execution_count": null,
      "outputs": []
    },
    {
      "cell_type": "code",
      "metadata": {
        "colab": {
          "base_uri": "https://localhost:8080/"
        },
        "id": "dcElE8PtNHcA",
        "outputId": "c2bab043-23eb-4c21-8809-bb485d829c20"
      },
      "source": [
        "cbn.mat"
      ],
      "execution_count": null,
      "outputs": [
        {
          "output_type": "execute_result",
          "data": {
            "text/plain": [
              "hemu     1\n",
              "dhana    4\n",
              "surya    7\n",
              "Name: mat, dtype: int64"
            ]
          },
          "metadata": {
            "tags": []
          },
          "execution_count": 15
        }
      ]
    },
    {
      "cell_type": "code",
      "metadata": {
        "colab": {
          "base_uri": "https://localhost:8080/"
        },
        "id": "t2y-fVatNIkV",
        "outputId": "6787a056-1170-49df-ea0d-796cc99b3925"
      },
      "source": [
        "cbn.mat[1]"
      ],
      "execution_count": null,
      "outputs": [
        {
          "output_type": "execute_result",
          "data": {
            "text/plain": [
              "4"
            ]
          },
          "metadata": {
            "tags": []
          },
          "execution_count": 16
        }
      ]
    },
    {
      "cell_type": "code",
      "metadata": {
        "colab": {
          "base_uri": "https://localhost:8080/",
          "height": 80
        },
        "id": "zk37DEaiNKR8",
        "outputId": "6c4b921d-4a56-42f2-ccad-8704f2f5c1be"
      },
      "source": [
        "cbn.loc[[\"hemu\"]]"
      ],
      "execution_count": null,
      "outputs": [
        {
          "output_type": "execute_result",
          "data": {
            "text/html": [
              "<div>\n",
              "<style scoped>\n",
              "    .dataframe tbody tr th:only-of-type {\n",
              "        vertical-align: middle;\n",
              "    }\n",
              "\n",
              "    .dataframe tbody tr th {\n",
              "        vertical-align: top;\n",
              "    }\n",
              "\n",
              "    .dataframe thead th {\n",
              "        text-align: right;\n",
              "    }\n",
              "</style>\n",
              "<table border=\"1\" class=\"dataframe\">\n",
              "  <thead>\n",
              "    <tr style=\"text-align: right;\">\n",
              "      <th></th>\n",
              "      <th>mat</th>\n",
              "      <th>phy</th>\n",
              "      <th>pps</th>\n",
              "    </tr>\n",
              "  </thead>\n",
              "  <tbody>\n",
              "    <tr>\n",
              "      <th>hemu</th>\n",
              "      <td>1</td>\n",
              "      <td>2</td>\n",
              "      <td>3</td>\n",
              "    </tr>\n",
              "  </tbody>\n",
              "</table>\n",
              "</div>"
            ],
            "text/plain": [
              "      mat  phy  pps\n",
              "hemu    1    2    3"
            ]
          },
          "metadata": {
            "tags": []
          },
          "execution_count": 17
        }
      ]
    },
    {
      "cell_type": "code",
      "metadata": {
        "colab": {
          "base_uri": "https://localhost:8080/",
          "height": 142
        },
        "id": "PQYxbCHnNMrS",
        "outputId": "d7bbbe79-1c8f-4d5a-f90a-275f96637788"
      },
      "source": [
        "cbn"
      ],
      "execution_count": null,
      "outputs": [
        {
          "output_type": "execute_result",
          "data": {
            "text/html": [
              "<div>\n",
              "<style scoped>\n",
              "    .dataframe tbody tr th:only-of-type {\n",
              "        vertical-align: middle;\n",
              "    }\n",
              "\n",
              "    .dataframe tbody tr th {\n",
              "        vertical-align: top;\n",
              "    }\n",
              "\n",
              "    .dataframe thead th {\n",
              "        text-align: right;\n",
              "    }\n",
              "</style>\n",
              "<table border=\"1\" class=\"dataframe\">\n",
              "  <thead>\n",
              "    <tr style=\"text-align: right;\">\n",
              "      <th></th>\n",
              "      <th>mat</th>\n",
              "      <th>phy</th>\n",
              "      <th>pps</th>\n",
              "    </tr>\n",
              "  </thead>\n",
              "  <tbody>\n",
              "    <tr>\n",
              "      <th>hemu</th>\n",
              "      <td>1</td>\n",
              "      <td>2</td>\n",
              "      <td>3</td>\n",
              "    </tr>\n",
              "    <tr>\n",
              "      <th>dhana</th>\n",
              "      <td>4</td>\n",
              "      <td>5</td>\n",
              "      <td>6</td>\n",
              "    </tr>\n",
              "    <tr>\n",
              "      <th>surya</th>\n",
              "      <td>7</td>\n",
              "      <td>8</td>\n",
              "      <td>9</td>\n",
              "    </tr>\n",
              "  </tbody>\n",
              "</table>\n",
              "</div>"
            ],
            "text/plain": [
              "       mat  phy  pps\n",
              "hemu     1    2    3\n",
              "dhana    4    5    6\n",
              "surya    7    8    9"
            ]
          },
          "metadata": {
            "tags": []
          },
          "execution_count": 18
        }
      ]
    },
    {
      "cell_type": "code",
      "metadata": {
        "id": "tq6PJe4TNN9y"
      },
      "source": [
        "cbn.mat.loc[\"hemu=\"]=10"
      ],
      "execution_count": null,
      "outputs": []
    },
    {
      "cell_type": "code",
      "metadata": {
        "colab": {
          "base_uri": "https://localhost:8080/"
        },
        "id": "LMJzIBAHNSbp",
        "outputId": "b419cadf-873c-41be-ab11-1fa4b7ea60bf"
      },
      "source": [
        "cbn.mat.surya"
      ],
      "execution_count": null,
      "outputs": [
        {
          "output_type": "execute_result",
          "data": {
            "text/plain": [
              "7"
            ]
          },
          "metadata": {
            "tags": []
          },
          "execution_count": 20
        }
      ]
    },
    {
      "cell_type": "code",
      "metadata": {
        "colab": {
          "base_uri": "https://localhost:8080/",
          "height": 142
        },
        "id": "fqqeP_LyNUtx",
        "outputId": "61a39eeb-bb1b-4c19-d5a7-68bf42db6470"
      },
      "source": [
        "cbn.iloc[:,:]"
      ],
      "execution_count": null,
      "outputs": [
        {
          "output_type": "execute_result",
          "data": {
            "text/html": [
              "<div>\n",
              "<style scoped>\n",
              "    .dataframe tbody tr th:only-of-type {\n",
              "        vertical-align: middle;\n",
              "    }\n",
              "\n",
              "    .dataframe tbody tr th {\n",
              "        vertical-align: top;\n",
              "    }\n",
              "\n",
              "    .dataframe thead th {\n",
              "        text-align: right;\n",
              "    }\n",
              "</style>\n",
              "<table border=\"1\" class=\"dataframe\">\n",
              "  <thead>\n",
              "    <tr style=\"text-align: right;\">\n",
              "      <th></th>\n",
              "      <th>mat</th>\n",
              "      <th>phy</th>\n",
              "      <th>pps</th>\n",
              "    </tr>\n",
              "  </thead>\n",
              "  <tbody>\n",
              "    <tr>\n",
              "      <th>hemu</th>\n",
              "      <td>1</td>\n",
              "      <td>2</td>\n",
              "      <td>3</td>\n",
              "    </tr>\n",
              "    <tr>\n",
              "      <th>dhana</th>\n",
              "      <td>4</td>\n",
              "      <td>5</td>\n",
              "      <td>6</td>\n",
              "    </tr>\n",
              "    <tr>\n",
              "      <th>surya</th>\n",
              "      <td>7</td>\n",
              "      <td>8</td>\n",
              "      <td>9</td>\n",
              "    </tr>\n",
              "  </tbody>\n",
              "</table>\n",
              "</div>"
            ],
            "text/plain": [
              "       mat  phy  pps\n",
              "hemu     1    2    3\n",
              "dhana    4    5    6\n",
              "surya    7    8    9"
            ]
          },
          "metadata": {
            "tags": []
          },
          "execution_count": 21
        }
      ]
    },
    {
      "cell_type": "code",
      "metadata": {
        "colab": {
          "base_uri": "https://localhost:8080/",
          "height": 80
        },
        "id": "_NovfV1oNe57",
        "outputId": "e476745f-31cb-4554-b877-cf29b4ec9eab"
      },
      "source": [
        "cbn.iloc[-1:,:]"
      ],
      "execution_count": null,
      "outputs": [
        {
          "output_type": "execute_result",
          "data": {
            "text/html": [
              "<div>\n",
              "<style scoped>\n",
              "    .dataframe tbody tr th:only-of-type {\n",
              "        vertical-align: middle;\n",
              "    }\n",
              "\n",
              "    .dataframe tbody tr th {\n",
              "        vertical-align: top;\n",
              "    }\n",
              "\n",
              "    .dataframe thead th {\n",
              "        text-align: right;\n",
              "    }\n",
              "</style>\n",
              "<table border=\"1\" class=\"dataframe\">\n",
              "  <thead>\n",
              "    <tr style=\"text-align: right;\">\n",
              "      <th></th>\n",
              "      <th>mat</th>\n",
              "      <th>phy</th>\n",
              "      <th>pps</th>\n",
              "    </tr>\n",
              "  </thead>\n",
              "  <tbody>\n",
              "    <tr>\n",
              "      <th>surya</th>\n",
              "      <td>7</td>\n",
              "      <td>8</td>\n",
              "      <td>9</td>\n",
              "    </tr>\n",
              "  </tbody>\n",
              "</table>\n",
              "</div>"
            ],
            "text/plain": [
              "       mat  phy  pps\n",
              "surya    7    8    9"
            ]
          },
          "metadata": {
            "tags": []
          },
          "execution_count": 22
        }
      ]
    },
    {
      "cell_type": "markdown",
      "metadata": {
        "id": "wIpugZZpu4V7"
      },
      "source": [
        "##Matplotlib\n"
      ]
    },
    {
      "cell_type": "code",
      "metadata": {
        "id": "2x_Tq2e3Nimp"
      },
      "source": [
        "import matplotlib.pyplot as plt\n",
        "import numpy as np"
      ],
      "execution_count": null,
      "outputs": []
    },
    {
      "cell_type": "code",
      "metadata": {
        "colab": {
          "base_uri": "https://localhost:8080/",
          "height": 282
        },
        "id": "yOEMLx3rNmon",
        "outputId": "d1a8b7c0-62cb-4412-afc0-7f8fd48dfc85"
      },
      "source": [
        "x=[1,2,3,4,5,6]\n",
        "a=[1,2,3,4,5,6]\n",
        "plt.plot(x,a)"
      ],
      "execution_count": null,
      "outputs": [
        {
          "output_type": "execute_result",
          "data": {
            "text/plain": [
              "[<matplotlib.lines.Line2D at 0x7f8775d1c5d0>]"
            ]
          },
          "metadata": {
            "tags": []
          },
          "execution_count": 167
        },
        {
          "output_type": "display_data",
          "data": {
            "image/png": "[encoded data removed]",
            "text/plain": [
              "<Figure size 432x288 with 1 Axes>"
            ]
          },
          "metadata": {
            "tags": [],
            "needs_background": "light"
          }
        }
      ]
    },
    {
      "cell_type": "code",
      "metadata": {
        "colab": {
          "base_uri": "https://localhost:8080/",
          "height": 282
        },
        "id": "vI3-L_ReNux2",
        "outputId": "fe9be4a3-cd17-4e55-84cb-16a8a6b9ae56"
      },
      "source": [
        "x=[1,2,3,4,5,]\n",
        "a=[2,4,6,8,10]\n",
        "plt.plot(x,a)"
      ],
      "execution_count": null,
      "outputs": [
        {
          "output_type": "execute_result",
          "data": {
            "text/plain": [
              "[<matplotlib.lines.Line2D at 0x7f8775764a50>]"
            ]
          },
          "metadata": {
            "tags": []
          },
          "execution_count": 168
        },
        {
          "output_type": "display_data",
          "data": {
            "image/png": "[encoded data removed]",
            "text/plain": [
              "<Figure size 432x288 with 1 Axes>"
            ]
          },
          "metadata": {
            "tags": [],
            "needs_background": "light"
          }
        }
      ]
    },
    {
      "cell_type": "code",
      "metadata": {
        "colab": {
          "base_uri": "https://localhost:8080/",
          "height": 282
        },
        "id": "9xS86pReNyw6",
        "outputId": "0b431c39-a503-4624-b9af-0112b0c70bfc"
      },
      "source": [
        "x=[1,2,3,4,5,]\n",
        "a=[2,4,6,8,10]\n",
        "plt.plot(x,a)\n"
      ],
      "execution_count": null,
      "outputs": [
        {
          "output_type": "execute_result",
          "data": {
            "text/plain": [
              "[<matplotlib.lines.Line2D at 0x7f87756f85d0>]"
            ]
          },
          "metadata": {
            "tags": []
          },
          "execution_count": 169
        },
        {
          "output_type": "display_data",
          "data": {
            "image/png": "[encoded data removed]",
            "text/plain": [
              "<Figure size 432x288 with 1 Axes>"
            ]
          },
          "metadata": {
            "tags": [],
            "needs_background": "light"
          }
        }
      ]
    },
    {
      "cell_type": "code",
      "metadata": {
        "id": "Yn3YHr0VN4sv"
      },
      "source": [
        "s=np.random.randint(1,30,5)\n",
        "v=np.random.randint(1,30,5)"
      ],
      "execution_count": null,
      "outputs": []
    },
    {
      "cell_type": "code",
      "metadata": {
        "colab": {
          "base_uri": "https://localhost:8080/"
        },
        "id": "nNeDrnFfN_0U",
        "outputId": "f22c6c89-5f15-4281-d917-69ee6bc492b6"
      },
      "source": [
        "s,v"
      ],
      "execution_count": null,
      "outputs": [
        {
          "output_type": "execute_result",
          "data": {
            "text/plain": [
              "(array([14, 18, 24, 15, 13]), array([ 8, 10, 10,  9, 26]))"
            ]
          },
          "metadata": {
            "tags": []
          },
          "execution_count": 171
        }
      ]
    },
    {
      "cell_type": "code",
      "metadata": {
        "colab": {
          "base_uri": "https://localhost:8080/",
          "height": 282
        },
        "id": "c4Tnh9d1ODju",
        "outputId": "4e267a68-73fd-4fd1-91b7-201f466ebc89"
      },
      "source": [
        "plt.plot(s,v)"
      ],
      "execution_count": null,
      "outputs": [
        {
          "output_type": "execute_result",
          "data": {
            "text/plain": [
              "[<matplotlib.lines.Line2D at 0x7f8775637e50>]"
            ]
          },
          "metadata": {
            "tags": []
          },
          "execution_count": 173
        },
        {
          "output_type": "display_data",
          "data": {
            "image/png": "[encoded data removed]",
            "text/plain": [
              "<Figure size 432x288 with 1 Axes>"
            ]
          },
          "metadata": {
            "tags": [],
            "needs_background": "light"
          }
        }
      ]
    },
    {
      "cell_type": "code",
      "metadata": {
        "colab": {
          "base_uri": "https://localhost:8080/",
          "height": 282
        },
        "id": "qfSLKbsaOGD7",
        "outputId": "60eabfd6-0d0a-4390-d0e9-a161842c333d"
      },
      "source": [
        "plt.scatter(s,v)"
      ],
      "execution_count": null,
      "outputs": [
        {
          "output_type": "execute_result",
          "data": {
            "text/plain": [
              "<matplotlib.collections.PathCollection at 0x7f87755ad7d0>"
            ]
          },
          "metadata": {
            "tags": []
          },
          "execution_count": 174
        },
        {
          "output_type": "display_data",
          "data": {
            "image/png": "[encoded data removed]",
            "text/plain": [
              "<Figure size 432x288 with 1 Axes>"
            ]
          },
          "metadata": {
            "tags": [],
            "needs_background": "light"
          }
        }
      ]
    },
    {
      "cell_type": "code",
      "metadata": {
        "colab": {
          "base_uri": "https://localhost:8080/",
          "height": 312
        },
        "id": "1WCGALKnOLRN",
        "outputId": "66eb410b-3ec0-4766-f707-62b21525d794"
      },
      "source": [
        "x=[1,2,3,4,5,]\n",
        "a=[2,4,6,8,10]\n",
        "plt.title(\"This is graph\")\n",
        "plt.xlabel(\"Height\")\n",
        "plt.ylabel(\"Weight\")\n",
        "plt.plot(x,a)"
      ],
      "execution_count": null,
      "outputs": [
        {
          "output_type": "execute_result",
          "data": {
            "text/plain": [
              "[<matplotlib.lines.Line2D at 0x7f8775524590>]"
            ]
          },
          "metadata": {
            "tags": []
          },
          "execution_count": 175
        },
        {
          "output_type": "display_data",
          "data": {
            "image/png": "[encoded data removed]",
            "text/plain": [
              "<Figure size 432x288 with 1 Axes>"
            ]
          },
          "metadata": {
            "tags": [],
            "needs_background": "light"
          }
        }
      ]
    },
    {
      "cell_type": "code",
      "metadata": {
        "colab": {
          "base_uri": "https://localhost:8080/",
          "height": 299
        },
        "id": "7RmQueeOOOMp",
        "outputId": "98ecdf2b-f480-45da-e79b-3e1ddcfdfbae"
      },
      "source": [
        "x=[1,2,3,4,5,]\n",
        "a=[1,2,3,4,5]\n",
        "c=[1,2,3,4,5]\n",
        "#plt.title(\"This is graph\")\n",
        "#plt.xlabel(\"Height\")\n",
        "#plt.y.;abel(\"Weight\")\n",
        "plt.plot(x,a,c)"
      ],
      "execution_count": null,
      "outputs": [
        {
          "output_type": "execute_result",
          "data": {
            "text/plain": [
              "[<matplotlib.lines.Line2D at 0x7f87752d6cd0>,\n",
              " <matplotlib.lines.Line2D at 0x7f87752d6c10>]"
            ]
          },
          "metadata": {
            "tags": []
          },
          "execution_count": 180
        },
        {
          "output_type": "display_data",
          "data": {
            "image/png": "[encoded data removed]",
            "text/plain": [
              "<Figure size 432x288 with 1 Axes>"
            ]
          },
          "metadata": {
            "tags": [],
            "needs_background": "light"
          }
        }
      ]
    },
    {
      "cell_type": "code",
      "metadata": {
        "colab": {
          "base_uri": "https://localhost:8080/",
          "height": 312
        },
        "id": "HehtWd3vORQ_",
        "outputId": "af712779-d79e-48f5-cfbf-885896d7a828"
      },
      "source": [
        "x=np.array([2,4,5,7,8,6])\n",
        "a=np.array([2,4,6,8,10,9])\n",
        "plt.title(\"This is graph\")\n",
        "plt.xlabel(\"Height\")\n",
        "plt.ylabel(\"Weight\")\n",
        "plt.plot(x,a,'o--r')\n"
      ],
      "execution_count": null,
      "outputs": [
        {
          "output_type": "execute_result",
          "data": {
            "text/plain": [
              "[<matplotlib.lines.Line2D at 0x7f8774fe7590>]"
            ]
          },
          "metadata": {
            "tags": []
          },
          "execution_count": 181
        },
        {
          "output_type": "display_data",
          "data": {
            "image/png": "[encoded data removed]",
            "text/plain": [
              "<Figure size 432x288 with 1 Axes>"
            ]
          },
          "metadata": {
            "tags": [],
            "needs_background": "light"
          }
        }
      ]
    },
    {
      "cell_type": "code",
      "metadata": {
        "colab": {
          "base_uri": "https://localhost:8080/",
          "height": 265
        },
        "id": "kroG-7BpOaDB",
        "outputId": "f80de0dd-04f4-43af-ec9c-2443f505e14f"
      },
      "source": [
        "x=np.array([2,4,5,7,8,6])\n",
        "a=np.array([2,4,6,8,10,9])\n",
        "v=np.array([8,9,7,4,5,6])\n",
        "plt.scatter(x,a)\n",
        "plt.scatter(x,v)\n",
        "plt.grid()"
      ],
      "execution_count": null,
      "outputs": [
        {
          "output_type": "display_data",
          "data": {
            "image/png": "[encoded data removed]",
            "text/plain": [
              "<Figure size 432x288 with 1 Axes>"
            ]
          },
          "metadata": {
            "tags": [],
            "needs_background": "light"
          }
        }
      ]
    },
    {
      "cell_type": "code",
      "metadata": {
        "colab": {
          "base_uri": "https://localhost:8080/",
          "height": 265
        },
        "id": "wzLFyGbUTII8",
        "outputId": "de3d3d84-bf5c-431f-95ec-79dd874252bd"
      },
      "source": [
        "x=np.array([2,4,5,7,8,6])\n",
        "a=np.array([2,4,6,8,10,9])\n",
        "v=np.array([8,9,7,4,5,6])\n",
        "plt.scatter(x,a)\n",
        "plt.scatter(x,v)\n",
        "plt.grid(axis='x',color='r',linestyle='-')\n",
        "plt.grid(axis='y',color='b',linestyle='-')"
      ],
      "execution_count": null,
      "outputs": [
        {
          "output_type": "display_data",
          "data": {
            "image/png": "[encoded data removed]",
            "text/plain": [
              "<Figure size 432x288 with 1 Axes>"
            ]
          },
          "metadata": {
            "tags": [],
            "needs_background": "light"
          }
        }
      ]
    },
    {
      "cell_type": "code",
      "metadata": {
        "colab": {
          "base_uri": "https://localhost:8080/",
          "height": 265
        },
        "id": "ryKSJkGYTMWJ",
        "outputId": "9319be43-de2c-4d51-e940-ae691771e547"
      },
      "source": [
        "x=np.array([2,4,5,7,8,6])\n",
        "a=np.array([2,4,6,8,10,9])\n",
        "v=np.array([8,9,7,4,5,6])\n",
        "plt.scatter(x,a)\n",
        "plt.scatter(x,v)\n",
        "plt.plot(x,a)\n",
        "plt.plot(x,v)\n",
        "plt.grid(axis='x',color='r',linestyle='-')\n",
        "plt.grid(axis='y',color='b',linestyle='-')"
      ],
      "execution_count": null,
      "outputs": [
        {
          "output_type": "display_data",
          "data": {
            "image/png": "[encoded data removed]",
            "text/plain": [
              "<Figure size 432x288 with 1 Axes>"
            ]
          },
          "metadata": {
            "tags": [],
            "needs_background": "light"
          }
        }
      ]
    },
    {
      "cell_type": "code",
      "metadata": {
        "colab": {
          "base_uri": "https://localhost:8080/",
          "height": 282
        },
        "id": "R7c1Ue1-TQhx",
        "outputId": "ba277c03-390a-4669-94f8-58fc8b6f14f3"
      },
      "source": [
        "x=np.array([2,4,5,7,8,6])\n",
        "a=np.array([2,4,6,8,10,9])\n",
        "plt.bar(x,a)"
      ],
      "execution_count": null,
      "outputs": [
        {
          "output_type": "execute_result",
          "data": {
            "text/plain": [
              "<BarContainer object of 6 artists>"
            ]
          },
          "metadata": {
            "tags": []
          },
          "execution_count": 185
        },
        {
          "output_type": "display_data",
          "data": {
            "image/png": "[encoded data removed]",
            "text/plain": [
              "<Figure size 432x288 with 1 Axes>"
            ]
          },
          "metadata": {
            "tags": [],
            "needs_background": "light"
          }
        }
      ]
    },
    {
      "cell_type": "code",
      "metadata": {
        "colab": {
          "base_uri": "https://localhost:8080/",
          "height": 265
        },
        "id": "83LLWr5kTUE0",
        "outputId": "3890d247-f93b-42b6-e14a-7c16857530d4"
      },
      "source": [
        "import math\n",
        "x=np.linspace(0,2*math.pi,100)\n",
        "y=np.sin(x)\n",
        "plt.plot(x,y)\n",
        "plt.grid()"
      ],
      "execution_count": null,
      "outputs": [
        {
          "output_type": "display_data",
          "data": {
            "image/png": "[encoded data removed]",
            "text/plain": [
              "<Figure size 432x288 with 1 Axes>"
            ]
          },
          "metadata": {
            "tags": [],
            "needs_background": "light"
          }
        }
      ]
    },
    {
      "cell_type": "code",
      "metadata": {
        "colab": {
          "base_uri": "https://localhost:8080/",
          "height": 312
        },
        "id": "WFA5BKtHTY_J",
        "outputId": "ee9336e9-09ce-4877-8500-6f486c6ee7c3"
      },
      "source": [
        "k= np.arange(0, 10, 0.1);\n",
        "\n",
        "amplitude   = np.sin(k)\n",
        "\n",
        "plt.plot(k, amplitude)\n",
        "\n",
        "plt.title('Sine wave')\n",
        "\n",
        "plt.xlabel('k')\n",
        "\n",
        "plt.ylabel('Amplitude = sin(k)')\n",
        "\n",
        "plt.axhline(y=0, color='k')\n",
        "plt.axvline(x=2*np.pi)"
      ],
      "execution_count": null,
      "outputs": [
        {
          "output_type": "execute_result",
          "data": {
            "text/plain": [
              "<matplotlib.lines.Line2D at 0x7f8774fe7450>"
            ]
          },
          "metadata": {
            "tags": []
          },
          "execution_count": 192
        },
        {
          "output_type": "display_data",
          "data": {
            "image/png": "[encoded data removed]",
            "text/plain": [
              "<Figure size 432x288 with 1 Axes>"
            ]
          },
          "metadata": {
            "tags": [],
            "needs_background": "light"
          }
        }
      ]
    },
    {
      "cell_type": "code",
      "metadata": {
        "colab": {
          "base_uri": "https://localhost:8080/",
          "height": 368
        },
        "id": "UkZfINMmTdQ0",
        "outputId": "b2cd55e4-bb0e-43af-fcbd-a97e4d3df746"
      },
      "source": [
        "plt.pie([1,2,1],[0.5,0.5,0.5],colors=['red','black','pink'])\n"
      ],
      "execution_count": null,
      "outputs": [
        {
          "output_type": "execute_result",
          "data": {
            "text/plain": [
              "([<matplotlib.patches.Wedge at 0x7f876ccc8b50>,\n",
              "  <matplotlib.patches.Wedge at 0x7f8774d5cf90>,\n",
              "  <matplotlib.patches.Wedge at 0x7f876ccd5450>],\n",
              " [Text(1.1313708498984762, 1.131370849898476, ''),\n",
              "  Text(-1.6, 1.9594348786357652e-16, ''),\n",
              "  Text(1.1313708498984758, -1.1313708498984765, '')])"
            ]
          },
          "metadata": {
            "tags": []
          },
          "execution_count": 193
        },
        {
          "output_type": "display_data",
          "data": {
            "image/png": "[encoded data removed]",
            "text/plain": [
              "<Figure size 432x288 with 1 Axes>"
            ]
          },
          "metadata": {
            "tags": []
          }
        }
      ]
    },
    {
      "cell_type": "code",
      "metadata": {
        "id": "7B7XYY-3xkuU"
      },
      "source": [
        "import numpy as np\n",
        "import matplotlib.pyplot as plt\n",
        "arr1 = np.arange(1,37).reshape(6,6)"
      ],
      "execution_count": null,
      "outputs": []
    },
    {
      "cell_type": "code",
      "metadata": {
        "colab": {
          "base_uri": "https://localhost:8080/"
        },
        "id": "B7-sGAWexteO",
        "outputId": "d8bbf51c-c5d7-4eaa-d282-35a1bb7b5e89"
      },
      "source": [
        "arr1"
      ],
      "execution_count": null,
      "outputs": [
        {
          "output_type": "execute_result",
          "data": {
            "text/plain": [
              "array([[ 1,  2,  3,  4,  5,  6],\n",
              "       [ 7,  8,  9, 10, 11, 12],\n",
              "       [13, 14, 15, 16, 17, 18],\n",
              "       [19, 20, 21, 22, 23, 24],\n",
              "       [25, 26, 27, 28, 29, 30],\n",
              "       [31, 32, 33, 34, 35, 36]])"
            ]
          },
          "metadata": {
            "tags": []
          },
          "execution_count": 6
        }
      ]
    },
    {
      "cell_type": "code",
      "metadata": {
        "colab": {
          "base_uri": "https://localhost:8080/"
        },
        "id": "dwUgg5QfxvhW",
        "outputId": "2de5334c-c3a6-42fb-ed7c-791742c06958"
      },
      "source": [
        "plt.plot(arr1)"
      ],
      "execution_count": null,
      "outputs": [
        {
          "output_type": "execute_result",
          "data": {
            "text/plain": [
              "[<matplotlib.lines.Line2D at 0x7ff417f90550>,\n",
              " <matplotlib.lines.Line2D at 0x7ff417e9b950>,\n",
              " <matplotlib.lines.Line2D at 0x7ff417e9bb10>,\n",
              " <matplotlib.lines.Line2D at 0x7ff417e9bcd0>,\n",
              " <matplotlib.lines.Line2D at 0x7ff417e9be90>,\n",
              " <matplotlib.lines.Line2D at 0x7ff417ea7090>]"
            ]
          },
          "metadata": {
            "tags": []
          },
          "execution_count": 8
        },
        {
          "output_type": "display_data",
          "data": {
            "image/png": "[encoded data removed]",
            "text/plain": [
              "<Figure size 432x288 with 1 Axes>"
            ]
          },
          "metadata": {
            "tags": [],
            "needs_background": "light"
          }
        }
      ]
    },
    {
      "cell_type": "code",
      "metadata": {
        "colab": {
          "base_uri": "https://localhost:8080/"
        },
        "id": "zTan97jpx544",
        "outputId": "a4449bca-74e4-4e73-8a79-4cb2c72b07b7"
      },
      "source": [
        "plt.matshow(arr1)"
      ],
      "execution_count": null,
      "outputs": [
        {
          "output_type": "execute_result",
          "data": {
            "text/plain": [
              "<matplotlib.image.AxesImage at 0x7ff417fb8610>"
            ]
          },
          "metadata": {
            "tags": []
          },
          "execution_count": 9
        },
        {
          "output_type": "display_data",
          "data": {
            "image/png": "[encoded data removed]",
            "text/plain": [
              "<Figure size 288x288 with 1 Axes>"
            ]
          },
          "metadata": {
            "tags": [],
            "needs_background": "light"
          }
        }
      ]
    },
    {
      "cell_type": "code",
      "metadata": {
        "id": "GLjYr_NSx-kW"
      },
      "source": [
        "arr= np.ones((10,10))*1"
      ],
      "execution_count": null,
      "outputs": []
    },
    {
      "cell_type": "code",
      "metadata": {
        "colab": {
          "base_uri": "https://localhost:8080/"
        },
        "id": "KYBxJDc_yIsJ",
        "outputId": "f99a8c76-0afa-497a-ad5e-f55afea5b757"
      },
      "source": [
        "plt.matshow(arr)"
      ],
      "execution_count": null,
      "outputs": [
        {
          "output_type": "execute_result",
          "data": {
            "text/plain": [
              "<matplotlib.image.AxesImage at 0x7ff4179d7790>"
            ]
          },
          "metadata": {
            "tags": []
          },
          "execution_count": 12
        },
        {
          "output_type": "display_data",
          "data": {
            "image/png": "[encoded data removed]",
            "text/plain": [
              "<Figure size 288x288 with 1 Axes>"
            ]
          },
          "metadata": {
            "tags": [],
            "needs_background": "light"
          }
        }
      ]
    },
    {
      "cell_type": "code",
      "metadata": {
        "id": "q6t390BnyNMt"
      },
      "source": [
        "arr2 = np.arange(10).reshape(1,10)"
      ],
      "execution_count": null,
      "outputs": []
    },
    {
      "cell_type": "code",
      "metadata": {
        "colab": {
          "base_uri": "https://localhost:8080/"
        },
        "id": "Gh84-bnGyRw5",
        "outputId": "95df8e84-db31-438a-cac7-e631324b7206"
      },
      "source": [
        "arr2"
      ],
      "execution_count": null,
      "outputs": [
        {
          "output_type": "execute_result",
          "data": {
            "text/plain": [
              "array([[0, 1, 2, 3, 4, 5, 6, 7, 8, 9]])"
            ]
          },
          "metadata": {
            "tags": []
          },
          "execution_count": 14
        }
      ]
    },
    {
      "cell_type": "code",
      "metadata": {
        "colab": {
          "base_uri": "https://localhost:8080/"
        },
        "id": "DHw5tS1EyVmA",
        "outputId": "db2042c1-4bcf-4d6d-9696-0909fde5c9d9"
      },
      "source": [
        "plt.matshow(arr)"
      ],
      "execution_count": null,
      "outputs": [
        {
          "output_type": "execute_result",
          "data": {
            "text/plain": [
              "<matplotlib.image.AxesImage at 0x7ff4178e61d0>"
            ]
          },
          "metadata": {
            "tags": []
          },
          "execution_count": 15
        },
        {
          "output_type": "display_data",
          "data": {
            "image/png": "[encoded data removed]",
            "text/plain": [
              "<Figure size 288x288 with 1 Axes>"
            ]
          },
          "metadata": {
            "tags": [],
            "needs_background": "light"
          }
        }
      ]
    },
    {
      "cell_type": "code",
      "metadata": {
        "id": "JPk-bfnTyf2b"
      },
      "source": [
        "arr0= np.zeros((5,5))"
      ],
      "execution_count": null,
      "outputs": []
    },
    {
      "cell_type": "code",
      "metadata": {
        "colab": {
          "base_uri": "https://localhost:8080/"
        },
        "id": "xW1QJpKuytKL",
        "outputId": "f58a9ae2-be36-41c5-eb54-9f120d806dcf"
      },
      "source": [
        "arr0"
      ],
      "execution_count": null,
      "outputs": [
        {
          "output_type": "execute_result",
          "data": {
            "text/plain": [
              "array([[0., 0., 0., 0., 0.],\n",
              "       [0., 0., 0., 0., 0.],\n",
              "       [0., 0., 0., 0., 0.],\n",
              "       [0., 0., 0., 0., 0.],\n",
              "       [0., 0., 0., 0., 0.]])"
            ]
          },
          "metadata": {
            "tags": []
          },
          "execution_count": 19
        }
      ]
    },
    {
      "cell_type": "code",
      "metadata": {
        "id": "pFcorwYsyxF9"
      },
      "source": [
        "arr0[::2,::2]=1"
      ],
      "execution_count": null,
      "outputs": []
    },
    {
      "cell_type": "code",
      "metadata": {
        "colab": {
          "base_uri": "https://localhost:8080/"
        },
        "id": "fjqg0Gawy8U2",
        "outputId": "d00cd9e4-c0ab-4352-ba4e-c9380c37c7f2"
      },
      "source": [
        "arr0"
      ],
      "execution_count": null,
      "outputs": [
        {
          "output_type": "execute_result",
          "data": {
            "text/plain": [
              "array([[1., 0., 1., 0., 1.],\n",
              "       [0., 0., 0., 0., 0.],\n",
              "       [1., 0., 1., 0., 1.],\n",
              "       [0., 0., 0., 0., 0.],\n",
              "       [1., 0., 1., 0., 1.]])"
            ]
          },
          "metadata": {
            "tags": []
          },
          "execution_count": 21
        }
      ]
    },
    {
      "cell_type": "code",
      "metadata": {
        "id": "FdUIBnwNzESl"
      },
      "source": [
        "arr0[1::2,1::2]=1"
      ],
      "execution_count": null,
      "outputs": []
    },
    {
      "cell_type": "code",
      "metadata": {
        "colab": {
          "base_uri": "https://localhost:8080/"
        },
        "id": "Zq3t_Yw_zJi6",
        "outputId": "87a7e033-9450-439e-cbfe-998e4e5e9d78"
      },
      "source": [
        "arr0"
      ],
      "execution_count": null,
      "outputs": [
        {
          "output_type": "execute_result",
          "data": {
            "text/plain": [
              "array([[1., 0., 1., 0., 1.],\n",
              "       [0., 1., 0., 1., 0.],\n",
              "       [1., 0., 1., 0., 1.],\n",
              "       [0., 1., 0., 1., 0.],\n",
              "       [1., 0., 1., 0., 1.]])"
            ]
          },
          "metadata": {
            "tags": []
          },
          "execution_count": 24
        }
      ]
    },
    {
      "cell_type": "code",
      "metadata": {
        "colab": {
          "base_uri": "https://localhost:8080/"
        },
        "id": "u1niswQjzNcc",
        "outputId": "1237c9b0-0b6e-4302-f27a-95a0b094637e"
      },
      "source": [
        "plt.imshow(arr0,cmap='gray')"
      ],
      "execution_count": null,
      "outputs": [
        {
          "output_type": "execute_result",
          "data": {
            "text/plain": [
              "<matplotlib.image.AxesImage at 0x7ff417727250>"
            ]
          },
          "metadata": {
            "tags": []
          },
          "execution_count": 25
        },
        {
          "output_type": "display_data",
          "data": {
            "image/png": "[encoded data removed]",
            "text/plain": [
              "<Figure size 432x288 with 1 Axes>"
            ]
          },
          "metadata": {
            "tags": [],
            "needs_background": "light"
          }
        }
      ]
    },
    {
      "cell_type": "code",
      "metadata": {
        "colab": {
          "base_uri": "https://localhost:8080/",
          "height": 282
        },
        "id": "WCXZOyEKzUax",
        "outputId": "48a8c9f8-16d2-4c3f-aabd-6d0eef33f576"
      },
      "source": [
        "plt.imshow(np.random.rand(10,10),cmap='gray')"
      ],
      "execution_count": null,
      "outputs": [
        {
          "output_type": "execute_result",
          "data": {
            "text/plain": [
              "<matplotlib.image.AxesImage at 0x7ff417706850>"
            ]
          },
          "metadata": {
            "tags": []
          },
          "execution_count": 26
        },
        {
          "output_type": "display_data",
          "data": {
            "image/png": "[encoded data removed]",
            "text/plain": [
              "<Figure size 432x288 with 1 Axes>"
            ]
          },
          "metadata": {
            "tags": [],
            "needs_background": "light"
          }
        }
      ]
    },
    {
      "cell_type": "markdown",
      "metadata": {
        "id": "iX2Yg7BwvG0K"
      },
      "source": [
        "##Seaborn\n",
        "  visualises the relationship between the points"
      ]
    },
    {
      "cell_type": "code",
      "metadata": {
        "id": "h2cY7Q6WUddE"
      },
      "source": [
        "import seaborn as sb"
      ],
      "execution_count": null,
      "outputs": []
    },
    {
      "cell_type": "code",
      "metadata": {
        "id": "zcEQuD7Ivb_f"
      },
      "source": [
        "df=sb.load_dataset('tips') #Tipps datset is inbuilt"
      ],
      "execution_count": null,
      "outputs": []
    },
    {
      "cell_type": "code",
      "metadata": {
        "colab": {
          "base_uri": "https://localhost:8080/",
          "height": 204
        },
        "id": "-wQl_eaG0cYN",
        "outputId": "3f03e740-041a-4e57-c051-2b6f88be2a3b"
      },
      "source": [
        "df.head()"
      ],
      "execution_count": null,
      "outputs": [
        {
          "output_type": "execute_result",
          "data": {
            "text/html": [
              "<div>\n",
              "<style scoped>\n",
              "    .dataframe tbody tr th:only-of-type {\n",
              "        vertical-align: middle;\n",
              "    }\n",
              "\n",
              "    .dataframe tbody tr th {\n",
              "        vertical-align: top;\n",
              "    }\n",
              "\n",
              "    .dataframe thead th {\n",
              "        text-align: right;\n",
              "    }\n",
              "</style>\n",
              "<table border=\"1\" class=\"dataframe\">\n",
              "  <thead>\n",
              "    <tr style=\"text-align: right;\">\n",
              "      <th></th>\n",
              "      <th>total_bill</th>\n",
              "      <th>tip</th>\n",
              "      <th>sex</th>\n",
              "      <th>smoker</th>\n",
              "      <th>day</th>\n",
              "      <th>time</th>\n",
              "      <th>size</th>\n",
              "    </tr>\n",
              "  </thead>\n",
              "  <tbody>\n",
              "    <tr>\n",
              "      <th>0</th>\n",
              "      <td>16.99</td>\n",
              "      <td>1.01</td>\n",
              "      <td>Female</td>\n",
              "      <td>No</td>\n",
              "      <td>Sun</td>\n",
              "      <td>Dinner</td>\n",
              "      <td>2</td>\n",
              "    </tr>\n",
              "    <tr>\n",
              "      <th>1</th>\n",
              "      <td>10.34</td>\n",
              "      <td>1.66</td>\n",
              "      <td>Male</td>\n",
              "      <td>No</td>\n",
              "      <td>Sun</td>\n",
              "      <td>Dinner</td>\n",
              "      <td>3</td>\n",
              "    </tr>\n",
              "    <tr>\n",
              "      <th>2</th>\n",
              "      <td>21.01</td>\n",
              "      <td>3.50</td>\n",
              "      <td>Male</td>\n",
              "      <td>No</td>\n",
              "      <td>Sun</td>\n",
              "      <td>Dinner</td>\n",
              "      <td>3</td>\n",
              "    </tr>\n",
              "    <tr>\n",
              "      <th>3</th>\n",
              "      <td>23.68</td>\n",
              "      <td>3.31</td>\n",
              "      <td>Male</td>\n",
              "      <td>No</td>\n",
              "      <td>Sun</td>\n",
              "      <td>Dinner</td>\n",
              "      <td>2</td>\n",
              "    </tr>\n",
              "    <tr>\n",
              "      <th>4</th>\n",
              "      <td>24.59</td>\n",
              "      <td>3.61</td>\n",
              "      <td>Female</td>\n",
              "      <td>No</td>\n",
              "      <td>Sun</td>\n",
              "      <td>Dinner</td>\n",
              "      <td>4</td>\n",
              "    </tr>\n",
              "  </tbody>\n",
              "</table>\n",
              "</div>"
            ],
            "text/plain": [
              "   total_bill   tip     sex smoker  day    time  size\n",
              "0       16.99  1.01  Female     No  Sun  Dinner     2\n",
              "1       10.34  1.66    Male     No  Sun  Dinner     3\n",
              "2       21.01  3.50    Male     No  Sun  Dinner     3\n",
              "3       23.68  3.31    Male     No  Sun  Dinner     2\n",
              "4       24.59  3.61  Female     No  Sun  Dinner     4"
            ]
          },
          "metadata": {
            "tags": []
          },
          "execution_count": 30
        }
      ]
    },
    {
      "cell_type": "code",
      "metadata": {
        "colab": {
          "base_uri": "https://localhost:8080/"
        },
        "id": "QSuR_DpK0o-9",
        "outputId": "72d7e56a-ab91-4921-f7fd-31ff51162e24"
      },
      "source": [
        "df.dtypes"
      ],
      "execution_count": null,
      "outputs": [
        {
          "output_type": "execute_result",
          "data": {
            "text/plain": [
              "total_bill     float64\n",
              "tip            float64\n",
              "sex           category\n",
              "smoker        category\n",
              "day           category\n",
              "time          category\n",
              "size             int64\n",
              "dtype: object"
            ]
          },
          "metadata": {
            "tags": []
          },
          "execution_count": 31
        }
      ]
    },
    {
      "cell_type": "code",
      "metadata": {
        "colab": {
          "base_uri": "https://localhost:8080/",
          "height": 142
        },
        "id": "STRFRDWq0rAv",
        "outputId": "1506b554-c79d-4a3c-a102-e4a8caa780da"
      },
      "source": [
        "df.corr()"
      ],
      "execution_count": null,
      "outputs": [
        {
          "output_type": "execute_result",
          "data": {
            "text/html": [
              "<div>\n",
              "<style scoped>\n",
              "    .dataframe tbody tr th:only-of-type {\n",
              "        vertical-align: middle;\n",
              "    }\n",
              "\n",
              "    .dataframe tbody tr th {\n",
              "        vertical-align: top;\n",
              "    }\n",
              "\n",
              "    .dataframe thead th {\n",
              "        text-align: right;\n",
              "    }\n",
              "</style>\n",
              "<table border=\"1\" class=\"dataframe\">\n",
              "  <thead>\n",
              "    <tr style=\"text-align: right;\">\n",
              "      <th></th>\n",
              "      <th>total_bill</th>\n",
              "      <th>tip</th>\n",
              "      <th>size</th>\n",
              "    </tr>\n",
              "  </thead>\n",
              "  <tbody>\n",
              "    <tr>\n",
              "      <th>total_bill</th>\n",
              "      <td>1.000000</td>\n",
              "      <td>0.675734</td>\n",
              "      <td>0.598315</td>\n",
              "    </tr>\n",
              "    <tr>\n",
              "      <th>tip</th>\n",
              "      <td>0.675734</td>\n",
              "      <td>1.000000</td>\n",
              "      <td>0.489299</td>\n",
              "    </tr>\n",
              "    <tr>\n",
              "      <th>size</th>\n",
              "      <td>0.598315</td>\n",
              "      <td>0.489299</td>\n",
              "      <td>1.000000</td>\n",
              "    </tr>\n",
              "  </tbody>\n",
              "</table>\n",
              "</div>"
            ],
            "text/plain": [
              "            total_bill       tip      size\n",
              "total_bill    1.000000  0.675734  0.598315\n",
              "tip           0.675734  1.000000  0.489299\n",
              "size          0.598315  0.489299  1.000000"
            ]
          },
          "metadata": {
            "tags": []
          },
          "execution_count": 32
        }
      ]
    },
    {
      "cell_type": "code",
      "metadata": {
        "colab": {
          "base_uri": "https://localhost:8080/",
          "height": 287
        },
        "id": "U2uhxqu70u5x",
        "outputId": "7021ee3f-22bf-410b-e8e2-0ea2b234f3e0"
      },
      "source": [
        "sb.heatmap(df.corr())"
      ],
      "execution_count": null,
      "outputs": [
        {
          "output_type": "execute_result",
          "data": {
            "text/plain": [
              "<matplotlib.axes._subplots.AxesSubplot at 0x7ff417155310>"
            ]
          },
          "metadata": {
            "tags": []
          },
          "execution_count": 33
        },
        {
          "output_type": "display_data",
          "data": {
            "image/png": "[encoded data removed]",
            "text/plain": [
              "<Figure size 432x288 with 2 Axes>"
            ]
          },
          "metadata": {
            "tags": [],
            "needs_background": "light"
          }
        }
      ]
    },
    {
      "cell_type": "code",
      "metadata": {
        "colab": {
          "base_uri": "https://localhost:8080/",
          "height": 458
        },
        "id": "SjpBhtn40yGl",
        "outputId": "51c5744f-1037-44fa-aa9d-95028212db3f"
      },
      "source": [
        "sb.jointplot(x='tip',y='total_bill',data=df,kind='reg')"
      ],
      "execution_count": null,
      "outputs": [
        {
          "output_type": "execute_result",
          "data": {
            "text/plain": [
              "<seaborn.axisgrid.JointGrid at 0x7ff417003790>"
            ]
          },
          "metadata": {
            "tags": []
          },
          "execution_count": 34
        },
        {
          "output_type": "display_data",
          "data": {
            "image/png": "[encoded data removed]",
            "text/plain": [
              "<Figure size 432x432 with 3 Axes>"
            ]
          },
          "metadata": {
            "tags": [],
            "needs_background": "light"
          }
        }
      ]
    },
    {
      "cell_type": "code",
      "metadata": {
        "colab": {
          "base_uri": "https://localhost:8080/",
          "height": 458
        },
        "id": "mId-YEC101aB",
        "outputId": "c82237a4-b554-4609-c139-f5a4941330b0"
      },
      "source": [
        "sb.jointplot(y='tip',x='total_bill',data=df,kind='hex')"
      ],
      "execution_count": null,
      "outputs": [
        {
          "output_type": "execute_result",
          "data": {
            "text/plain": [
              "<seaborn.axisgrid.JointGrid at 0x7ff4170037d0>"
            ]
          },
          "metadata": {
            "tags": []
          },
          "execution_count": 35
        },
        {
          "output_type": "display_data",
          "data": {
            "image/png": "[encoded data removed]",
            "text/plain": [
              "<Figure size 432x432 with 3 Axes>"
            ]
          },
          "metadata": {
            "tags": [],
            "needs_background": "light"
          }
        }
      ]
    },
    {
      "cell_type": "code",
      "metadata": {
        "colab": {
          "base_uri": "https://localhost:8080/",
          "height": 567
        },
        "id": "xltK-g9X0548",
        "outputId": "ed9e6923-9d89-4af7-9998-84e1d68aaee3"
      },
      "source": [
        "sb.pairplot(df)"
      ],
      "execution_count": null,
      "outputs": [
        {
          "output_type": "execute_result",
          "data": {
            "text/plain": [
              "<seaborn.axisgrid.PairGrid at 0x7ff40ca1fe10>"
            ]
          },
          "metadata": {
            "tags": []
          },
          "execution_count": 36
        },
        {
          "output_type": "display_data",
          "data": {
            "image/png": "[encoded data removed]",
            "text/plain": [
              "<Figure size 540x540 with 12 Axes>"
            ]
          },
          "metadata": {
            "tags": [],
            "needs_background": "light"
          }
        }
      ]
    },
    {
      "cell_type": "code",
      "metadata": {
        "colab": {
          "base_uri": "https://localhost:8080/",
          "height": 567
        },
        "id": "OEKEB98_09BK",
        "outputId": "c7f6a7bf-4f9c-41dd-826e-da51edc66549"
      },
      "source": [
        "sb.pairplot(df,hue='smoker')  #inside hue  we have to give categorical data"
      ],
      "execution_count": null,
      "outputs": [
        {
          "output_type": "execute_result",
          "data": {
            "text/plain": [
              "<seaborn.axisgrid.PairGrid at 0x7ff40c5ba5d0>"
            ]
          },
          "metadata": {
            "tags": []
          },
          "execution_count": 37
        },
        {
          "output_type": "display_data",
          "data": {
            "image/png": "[encoded data removed]",
            "text/plain": [
              "<Figure size 592x540 with 12 Axes>"
            ]
          },
          "metadata": {
            "tags": [],
            "needs_background": "light"
          }
        }
      ]
    },
    {
      "cell_type": "code",
      "metadata": {
        "colab": {
          "base_uri": "https://localhost:8080/",
          "height": 567
        },
        "id": "2px76bLA1Aw0",
        "outputId": "08b5006a-40ef-4956-b676-f3083a87a760"
      },
      "source": [
        "sb.pairplot(df,hue='day')"
      ],
      "execution_count": null,
      "outputs": [
        {
          "output_type": "execute_result",
          "data": {
            "text/plain": [
              "<seaborn.axisgrid.PairGrid at 0x7ff40c10b190>"
            ]
          },
          "metadata": {
            "tags": []
          },
          "execution_count": 38
        },
        {
          "output_type": "display_data",
          "data": {
            "image/png": "[encoded data removed]",
            "text/plain": [
              "<Figure size 598.875x540 with 12 Axes>"
            ]
          },
          "metadata": {
            "tags": [],
            "needs_background": "light"
          }
        }
      ]
    },
    {
      "cell_type": "code",
      "metadata": {
        "colab": {
          "base_uri": "https://localhost:8080/",
          "height": 353
        },
        "id": "5TqDF1iX1EV8",
        "outputId": "358f090d-cedb-4b95-b2b5-d56ae3655992"
      },
      "source": [
        "sb.distplot(df['total_bill'])"
      ],
      "execution_count": null,
      "outputs": [
        {
          "output_type": "stream",
          "text": [
            "/usr/local/lib/python3.7/dist-packages/seaborn/distributions.py:2557: FutureWarning: `distplot` is a deprecated function and will be removed in a future version. Please adapt your code to use either `displot` (a figure-level function with similar flexibility) or `histplot` (an axes-level function for histograms).\n",
            "  warnings.warn(msg, FutureWarning)\n"
          ],
          "name": "stderr"
        },
        {
          "output_type": "execute_result",
          "data": {
            "text/plain": [
              "<matplotlib.axes._subplots.AxesSubplot at 0x7ff40a492290>"
            ]
          },
          "metadata": {
            "tags": []
          },
          "execution_count": 39
        },
        {
          "output_type": "display_data",
          "data": {
            "image/png": "[encoded data removed]",
            "text/plain": [
              "<Figure size 432x288 with 1 Axes>"
            ]
          },
          "metadata": {
            "tags": [],
            "needs_background": "light"
          }
        }
      ]
    },
    {
      "cell_type": "code",
      "metadata": {
        "colab": {
          "base_uri": "https://localhost:8080/",
          "height": 350
        },
        "id": "wcAmqwoy1JKR",
        "outputId": "5a599285-13cc-4ec1-8864-7724a9aaf964"
      },
      "source": [
        "sb.distplot(df['tip'],kde=False)"
      ],
      "execution_count": null,
      "outputs": [
        {
          "output_type": "stream",
          "text": [
            "/usr/local/lib/python3.7/dist-packages/seaborn/distributions.py:2557: FutureWarning: `distplot` is a deprecated function and will be removed in a future version. Please adapt your code to use either `displot` (a figure-level function with similar flexibility) or `histplot` (an axes-level function for histograms).\n",
            "  warnings.warn(msg, FutureWarning)\n"
          ],
          "name": "stderr"
        },
        {
          "output_type": "execute_result",
          "data": {
            "text/plain": [
              "<matplotlib.axes._subplots.AxesSubplot at 0x7ff40a4349d0>"
            ]
          },
          "metadata": {
            "tags": []
          },
          "execution_count": 40
        },
        {
          "output_type": "display_data",
          "data": {
            "image/png": "[encoded data removed]",
            "text/plain": [
              "<Figure size 432x288 with 1 Axes>"
            ]
          },
          "metadata": {
            "tags": [],
            "needs_background": "light"
          }
        }
      ]
    },
    {
      "cell_type": "code",
      "metadata": {
        "colab": {
          "base_uri": "https://localhost:8080/",
          "height": 386
        },
        "id": "LV3TDpaf1MeZ",
        "outputId": "ed752c21-d184-4a5d-ee69-56a64bec5c29"
      },
      "source": [
        "sb.displot(df['tip'])"
      ],
      "execution_count": null,
      "outputs": [
        {
          "output_type": "execute_result",
          "data": {
            "text/plain": [
              "<seaborn.axisgrid.FacetGrid at 0x7ff40a361510>"
            ]
          },
          "metadata": {
            "tags": []
          },
          "execution_count": 41
        },
        {
          "output_type": "display_data",
          "data": {
            "image/png": "[encoded data removed]",
            "text/plain": [
              "<Figure size 360x360 with 1 Axes>"
            ]
          },
          "metadata": {
            "tags": [],
            "needs_background": "light"
          }
        }
      ]
    },
    {
      "cell_type": "code",
      "metadata": {
        "colab": {
          "base_uri": "https://localhost:8080/"
        },
        "id": "Hy3LYkkq1Pwy",
        "outputId": "aa1ac488-4143-48fb-9386-0718f5e9209a"
      },
      "source": [
        "df.median()"
      ],
      "execution_count": null,
      "outputs": [
        {
          "output_type": "execute_result",
          "data": {
            "text/plain": [
              "total_bill    17.795\n",
              "tip            2.900\n",
              "size           2.000\n",
              "dtype: float64"
            ]
          },
          "metadata": {
            "tags": []
          },
          "execution_count": 42
        }
      ]
    },
    {
      "cell_type": "code",
      "metadata": {
        "colab": {
          "base_uri": "https://localhost:8080/",
          "height": 350
        },
        "id": "T3X7TzbO1Sjn",
        "outputId": "d4612727-5dbf-45ab-e7e0-be07812bbbc4"
      },
      "source": [
        "sb.countplot('day',data=df)"
      ],
      "execution_count": null,
      "outputs": [
        {
          "output_type": "stream",
          "text": [
            "/usr/local/lib/python3.7/dist-packages/seaborn/_decorators.py:43: FutureWarning: Pass the following variable as a keyword arg: x. From version 0.12, the only valid positional argument will be `data`, and passing other arguments without an explicit keyword will result in an error or misinterpretation.\n",
            "  FutureWarning\n"
          ],
          "name": "stderr"
        },
        {
          "output_type": "execute_result",
          "data": {
            "text/plain": [
              "<matplotlib.axes._subplots.AxesSubplot at 0x7ff40a2f3510>"
            ]
          },
          "metadata": {
            "tags": []
          },
          "execution_count": 43
        },
        {
          "output_type": "display_data",
          "data": {
            "image/png": "[encoded data removed]",
            "text/plain": [
              "<Figure size 432x288 with 1 Axes>"
            ]
          },
          "metadata": {
            "tags": [],
            "needs_background": "light"
          }
        }
      ]
    },
    {
      "cell_type": "code",
      "metadata": {
        "colab": {
          "base_uri": "https://localhost:8080/",
          "height": 350
        },
        "id": "iEn9zWl91U0q",
        "outputId": "6beeb35a-86cc-488c-f3c5-7da84adb8263"
      },
      "source": [
        "sb.countplot('smoker',data=df,hue='sex')"
      ],
      "execution_count": null,
      "outputs": [
        {
          "output_type": "stream",
          "text": [
            "/usr/local/lib/python3.7/dist-packages/seaborn/_decorators.py:43: FutureWarning: Pass the following variable as a keyword arg: x. From version 0.12, the only valid positional argument will be `data`, and passing other arguments without an explicit keyword will result in an error or misinterpretation.\n",
            "  FutureWarning\n"
          ],
          "name": "stderr"
        },
        {
          "output_type": "execute_result",
          "data": {
            "text/plain": [
              "<matplotlib.axes._subplots.AxesSubplot at 0x7ff40a261a90>"
            ]
          },
          "metadata": {
            "tags": []
          },
          "execution_count": 44
        },
        {
          "output_type": "display_data",
          "data": {
            "image/png": "[encoded data removed]",
            "text/plain": [
              "<Figure size 432x288 with 1 Axes>"
            ]
          },
          "metadata": {
            "tags": [],
            "needs_background": "light"
          }
        }
      ]
    },
    {
      "cell_type": "code",
      "metadata": {
        "colab": {
          "base_uri": "https://localhost:8080/",
          "height": 350
        },
        "id": "3BxEZBDu1YQm",
        "outputId": "f15e1efd-7362-40e9-c709-bfaca3e00e2a"
      },
      "source": [
        "sb.countplot('time',data=df,hue='sex')"
      ],
      "execution_count": null,
      "outputs": [
        {
          "output_type": "stream",
          "text": [
            "/usr/local/lib/python3.7/dist-packages/seaborn/_decorators.py:43: FutureWarning: Pass the following variable as a keyword arg: x. From version 0.12, the only valid positional argument will be `data`, and passing other arguments without an explicit keyword will result in an error or misinterpretation.\n",
            "  FutureWarning\n"
          ],
          "name": "stderr"
        },
        {
          "output_type": "execute_result",
          "data": {
            "text/plain": [
              "<matplotlib.axes._subplots.AxesSubplot at 0x7ff40a1d56d0>"
            ]
          },
          "metadata": {
            "tags": []
          },
          "execution_count": 45
        },
        {
          "output_type": "display_data",
          "data": {
            "image/png": "[encoded data removed]",
            "text/plain": [
              "<Figure size 432x288 with 1 Axes>"
            ]
          },
          "metadata": {
            "tags": [],
            "needs_background": "light"
          }
        }
      ]
    },
    {
      "cell_type": "code",
      "metadata": {
        "colab": {
          "base_uri": "https://localhost:8080/",
          "height": 350
        },
        "id": "n8mBRHui1bIY",
        "outputId": "207b242d-7fce-463f-9055-49efb5432675"
      },
      "source": [
        "sb.countplot('time',data=df,hue='sex',palette=\"PuBuGn_r\")"
      ],
      "execution_count": null,
      "outputs": [
        {
          "output_type": "stream",
          "text": [
            "/usr/local/lib/python3.7/dist-packages/seaborn/_decorators.py:43: FutureWarning: Pass the following variable as a keyword arg: x. From version 0.12, the only valid positional argument will be `data`, and passing other arguments without an explicit keyword will result in an error or misinterpretation.\n",
            "  FutureWarning\n"
          ],
          "name": "stderr"
        },
        {
          "output_type": "execute_result",
          "data": {
            "text/plain": [
              "<matplotlib.axes._subplots.AxesSubplot at 0x7ff40c595450>"
            ]
          },
          "metadata": {
            "tags": []
          },
          "execution_count": 46
        },
        {
          "output_type": "display_data",
          "data": {
            "image/png": "[encoded data removed]",
            "text/plain": [
              "<Figure size 432x288 with 1 Axes>"
            ]
          },
          "metadata": {
            "tags": [],
            "needs_background": "light"
          }
        }
      ]
    },
    {
      "cell_type": "code",
      "metadata": {
        "colab": {
          "base_uri": "https://localhost:8080/",
          "height": 350
        },
        "id": "yP1_bwYp1eN4",
        "outputId": "ef7e42dd-1b78-4cb2-c801-3210f48577d7"
      },
      "source": [
        "sb.countplot('time',data = df,hue = 'day',palette = 'PuBuGn')"
      ],
      "execution_count": null,
      "outputs": [
        {
          "output_type": "stream",
          "text": [
            "/usr/local/lib/python3.7/dist-packages/seaborn/_decorators.py:43: FutureWarning: Pass the following variable as a keyword arg: x. From version 0.12, the only valid positional argument will be `data`, and passing other arguments without an explicit keyword will result in an error or misinterpretation.\n",
            "  FutureWarning\n"
          ],
          "name": "stderr"
        },
        {
          "output_type": "execute_result",
          "data": {
            "text/plain": [
              "<matplotlib.axes._subplots.AxesSubplot at 0x7ff417078b90>"
            ]
          },
          "metadata": {
            "tags": []
          },
          "execution_count": 47
        },
        {
          "output_type": "display_data",
          "data": {
            "image/png": "[encoded data removed]",
            "text/plain": [
              "<Figure size 432x288 with 1 Axes>"
            ]
          },
          "metadata": {
            "tags": [],
            "needs_background": "light"
          }
        }
      ]
    },
    {
      "cell_type": "code",
      "metadata": {
        "colab": {
          "base_uri": "https://localhost:8080/",
          "height": 296
        },
        "id": "k5dAM1IZ1hfe",
        "outputId": "5e2e8ff8-f89e-443b-e802-8df580cfdc3a"
      },
      "source": [
        "sb.violinplot(x='tip',y='day',data=df)"
      ],
      "execution_count": null,
      "outputs": [
        {
          "output_type": "execute_result",
          "data": {
            "text/plain": [
              "<matplotlib.axes._subplots.AxesSubplot at 0x7ff40a0d62d0>"
            ]
          },
          "metadata": {
            "tags": []
          },
          "execution_count": 48
        },
        {
          "output_type": "display_data",
          "data": {
            "image/png": "[encoded data removed]",
            "text/plain": [
              "<Figure size 432x288 with 1 Axes>"
            ]
          },
          "metadata": {
            "tags": [],
            "needs_background": "light"
          }
        }
      ]
    },
    {
      "cell_type": "code",
      "metadata": {
        "colab": {
          "base_uri": "https://localhost:8080/",
          "height": 296
        },
        "id": "tULWjKAz1knE",
        "outputId": "e0df9549-8a13-40a5-e95e-ce0490cce44c"
      },
      "source": [
        "sb.boxplot(x='tip',y='day',data=df)"
      ],
      "execution_count": null,
      "outputs": [
        {
          "output_type": "execute_result",
          "data": {
            "text/plain": [
              "<matplotlib.axes._subplots.AxesSubplot at 0x7ff40a040590>"
            ]
          },
          "metadata": {
            "tags": []
          },
          "execution_count": 49
        },
        {
          "output_type": "display_data",
          "data": {
            "image/png": "[encoded data removed]",
            "text/plain": [
              "<Figure size 432x288 with 1 Axes>"
            ]
          },
          "metadata": {
            "tags": [],
            "needs_background": "light"
          }
        }
      ]
    },
    {
      "cell_type": "code",
      "metadata": {
        "colab": {
          "base_uri": "https://localhost:8080/",
          "height": 400
        },
        "id": "QYjHbcn91m-c",
        "outputId": "d0a945ab-1681-4232-908f-2f8051ff35b9"
      },
      "source": [
        "sb.catplot(x='tip',y='day',data=df)"
      ],
      "execution_count": null,
      "outputs": [
        {
          "output_type": "execute_result",
          "data": {
            "text/plain": [
              "<seaborn.axisgrid.FacetGrid at 0x7ff409fbaad0>"
            ]
          },
          "metadata": {
            "tags": []
          },
          "execution_count": 50
        },
        {
          "output_type": "display_data",
          "data": {
            "image/png": "[encoded data removed]",
            "text/plain": [
              "<Figure size 360x360 with 1 Axes>"
            ]
          },
          "metadata": {
            "tags": [],
            "needs_background": "light"
          }
        }
      ]
    },
    {
      "cell_type": "code",
      "metadata": {
        "colab": {
          "base_uri": "https://localhost:8080/",
          "height": 418
        },
        "id": "PTufaBgb1p6j",
        "outputId": "be0fb879-b10d-45a4-cdfe-4cd2e84167ba"
      },
      "source": [
        "sb.swarmplot(x='tip',y='day',data=df)"
      ],
      "execution_count": null,
      "outputs": [
        {
          "output_type": "stream",
          "text": [
            "/usr/local/lib/python3.7/dist-packages/seaborn/categorical.py:1296: UserWarning: 11.3% of the points cannot be placed; you may want to decrease the size of the markers or use stripplot.\n",
            "  warnings.warn(msg, UserWarning)\n",
            "/usr/local/lib/python3.7/dist-packages/seaborn/categorical.py:1296: UserWarning: 11.5% of the points cannot be placed; you may want to decrease the size of the markers or use stripplot.\n",
            "  warnings.warn(msg, UserWarning)\n",
            "/usr/local/lib/python3.7/dist-packages/seaborn/categorical.py:1296: UserWarning: 6.6% of the points cannot be placed; you may want to decrease the size of the markers or use stripplot.\n",
            "  warnings.warn(msg, UserWarning)\n"
          ],
          "name": "stderr"
        },
        {
          "output_type": "execute_result",
          "data": {
            "text/plain": [
              "<matplotlib.axes._subplots.AxesSubplot at 0x7ff409ff2750>"
            ]
          },
          "metadata": {
            "tags": []
          },
          "execution_count": 51
        },
        {
          "output_type": "display_data",
          "data": {
            "image/png": "[encoded data removed]",
            "text/plain": [
              "<Figure size 432x288 with 1 Axes>"
            ]
          },
          "metadata": {
            "tags": [],
            "needs_background": "light"
          }
        }
      ]
    },
    {
      "cell_type": "code",
      "metadata": {
        "colab": {
          "base_uri": "https://localhost:8080/",
          "height": 296
        },
        "id": "07yiFE6L1s0X",
        "outputId": "ec36d2b7-fb16-4a82-8fee-4b3eeabf913d"
      },
      "source": [
        "sb.boxenplot(x='tip',y='day',data=df)"
      ],
      "execution_count": null,
      "outputs": [
        {
          "output_type": "execute_result",
          "data": {
            "text/plain": [
              "<matplotlib.axes._subplots.AxesSubplot at 0x7ff409e3d310>"
            ]
          },
          "metadata": {
            "tags": []
          },
          "execution_count": 52
        },
        {
          "output_type": "display_data",
          "data": {
            "image/png": "[encoded data removed]",
            "text/plain": [
              "<Figure size 432x288 with 1 Axes>"
            ]
          },
          "metadata": {
            "tags": [],
            "needs_background": "light"
          }
        }
      ]
    },
    {
      "cell_type": "markdown",
      "metadata": {
        "id": "2FJvi4yc3I-k"
      },
      "source": [
        "##Sympy"
      ]
    },
    {
      "cell_type": "code",
      "metadata": {
        "colab": {
          "base_uri": "https://localhost:8080/"
        },
        "id": "OGPV5W-71x1f",
        "outputId": "577506fd-9e34-4a17-e5ed-d21a2e54ff3d"
      },
      "source": [
        "pip install sympy"
      ],
      "execution_count": null,
      "outputs": [
        {
          "output_type": "stream",
          "text": [
            "Requirement already satisfied: sympy in /usr/local/lib/python3.7/dist-packages (1.7.1)\n",
            "Requirement already satisfied: mpmath>=0.19 in /usr/local/lib/python3.7/dist-packages (from sympy) (1.2.1)\n"
          ],
          "name": "stdout"
        }
      ]
    },
    {
      "cell_type": "code",
      "metadata": {
        "colab": {
          "base_uri": "https://localhost:8080/",
          "height": 35
        },
        "id": "jLtGEi7_3N4u",
        "outputId": "ff9de4fd-fea0-490a-fdf8-26362b9bd82f"
      },
      "source": [
        "import sympy\n",
        "sympy.__version__"
      ],
      "execution_count": null,
      "outputs": [
        {
          "output_type": "execute_result",
          "data": {
            "application/vnd.google.colaboratory.intrinsic+json": {
              "type": "string"
            },
            "text/plain": [
              "'1.7.1'"
            ]
          },
          "metadata": {
            "tags": []
          },
          "execution_count": 54
        }
      ]
    },
    {
      "cell_type": "markdown",
      "metadata": {
        "id": "strKvQ893YXA"
      },
      "source": [
        "Symbolic computation refers to development of algorithms for manipulating \n",
        "mathematical expressions and other mathematical objects. \n",
        "\n",
        "Symbolic computation integrates mathematics with computer science to solve mathematical expressions using mathematical symbols.\n",
        "\n",
        "A Computer Algebra System (CAS) such as SymPy evaluates algebraic expressions exactly (not approximately) using the same symbols that are used in traditional manual method."
      ]
    },
    {
      "cell_type": "code",
      "metadata": {
        "colab": {
          "base_uri": "https://localhost:8080/"
        },
        "id": "HP7mPxDi3SOe",
        "outputId": "16a8f9a1-21d1-481d-8bdd-818adc813ed1"
      },
      "source": [
        "import math\n",
        "print (math.sqrt(25), math.sqrt(7))\n"
      ],
      "execution_count": null,
      "outputs": [
        {
          "output_type": "stream",
          "text": [
            "5.0 2.6457513110645907\n"
          ],
          "name": "stdout"
        }
      ]
    },
    {
      "cell_type": "code",
      "metadata": {
        "colab": {
          "base_uri": "https://localhost:8080/"
        },
        "id": "OkT9L0ww3dnS",
        "outputId": "d3964d83-07bf-4e9b-c424-5923dd7c4163"
      },
      "source": [
        "math.sqrt(144)"
      ],
      "execution_count": null,
      "outputs": [
        {
          "output_type": "execute_result",
          "data": {
            "text/plain": [
              "12.0"
            ]
          },
          "metadata": {
            "tags": []
          },
          "execution_count": 56
        }
      ]
    },
    {
      "cell_type": "code",
      "metadata": {
        "colab": {
          "base_uri": "https://localhost:8080/"
        },
        "id": "4E7Zhplo3fpu",
        "outputId": "a743307c-78e8-4a24-f958-8ccb87419616"
      },
      "source": [
        "import sympy\n",
        "print (sympy.sqrt(7))"
      ],
      "execution_count": null,
      "outputs": [
        {
          "output_type": "stream",
          "text": [
            "sqrt(7)\n"
          ],
          "name": "stdout"
        }
      ]
    },
    {
      "cell_type": "markdown",
      "metadata": {
        "id": "6isadhOn3sV8"
      },
      "source": [
        "SymPy code, when run in Jupyter notebook, makes use of MathJax library to render mathematical symbols in LatEx form."
      ]
    },
    {
      "cell_type": "code",
      "metadata": {
        "colab": {
          "base_uri": "https://localhost:8080/",
          "height": 55
        },
        "id": "mEErdj6e3jUc",
        "outputId": "6b767e7d-58f9-4966-acec-8f0c3be62dfc"
      },
      "source": [
        "from sympy import * \n",
        "x=Symbol ('x') \n",
        "expr = integrate(x**x, x) \n",
        "expr"
      ],
      "execution_count": null,
      "outputs": [
        {
          "output_type": "execute_result",
          "data": {
            "text/latex": "$\\displaystyle \\int x^{x}\\, dx$",
            "text/plain": [
              "Integral(x**x, x)"
            ]
          },
          "metadata": {
            "tags": []
          },
          "execution_count": 59
        }
      ]
    },
    {
      "cell_type": "markdown",
      "metadata": {
        "id": "jyzdkKHT37UR"
      },
      "source": [
        "A symbolic computation system such as SymPy does all sorts of computations (such as derivatives, integrals, and limits, solve equations, work with matrices) symbolically. \n",
        "SymPy package has different modules that support plotting, printing (like LATEX), physics, statistics, combinatorics, number theory, geometry, logic, etc."
      ]
    },
    {
      "cell_type": "code",
      "metadata": {
        "id": "FtcHvnjg3n4p"
      },
      "source": [
        ""
      ],
      "execution_count": null,
      "outputs": []
    },
    {
      "cell_type": "markdown",
      "metadata": {
        "id": "wOUMrUQ43_IC"
      },
      "source": [
        "The core module in SymPy package contains Number class which represents atomic numbers. \n",
        "This class has two subclasses: Float and Rational class. Rational class is further extended by Integer class."
      ]
    },
    {
      "cell_type": "code",
      "metadata": {
        "id": "WQW6MqSt300k"
      },
      "source": [
        "from sympy import Float\n",
        "\n",
        "\n",
        "\n"
      ],
      "execution_count": null,
      "outputs": []
    },
    {
      "cell_type": "code",
      "metadata": {
        "colab": {
          "base_uri": "https://localhost:8080/",
          "height": 37
        },
        "id": "gCP1_5ta4Cgd",
        "outputId": "fbc60f4e-1779-460e-c8d3-811327aeb8e1"
      },
      "source": [
        "Float(6.32)"
      ],
      "execution_count": null,
      "outputs": [
        {
          "output_type": "execute_result",
          "data": {
            "text/latex": "$\\displaystyle 6.32$",
            "text/plain": [
              "6.32000000000000"
            ]
          },
          "metadata": {
            "tags": []
          },
          "execution_count": 62
        }
      ]
    },
    {
      "cell_type": "code",
      "metadata": {
        "colab": {
          "base_uri": "https://localhost:8080/",
          "height": 37
        },
        "id": "A4zf1Nxy4FFY",
        "outputId": "b08dc343-f9f3-4c17-ca0e-0d6a031e70d6"
      },
      "source": [
        "Float(10)"
      ],
      "execution_count": null,
      "outputs": [
        {
          "output_type": "execute_result",
          "data": {
            "text/latex": "$\\displaystyle 10.0$",
            "text/plain": [
              "10.0000000000000"
            ]
          },
          "metadata": {
            "tags": []
          },
          "execution_count": 63
        }
      ]
    },
    {
      "cell_type": "code",
      "metadata": {
        "colab": {
          "base_uri": "https://localhost:8080/",
          "height": 37
        },
        "id": "0m6qqNtl4M3M",
        "outputId": "04087d34-8124-4951-d8c9-c5f25d9727f9"
      },
      "source": [
        "Float('1.33E5')"
      ],
      "execution_count": null,
      "outputs": [
        {
          "output_type": "execute_result",
          "data": {
            "text/latex": "$\\displaystyle 133000.0$",
            "text/plain": [
              "133000.000000000"
            ]
          },
          "metadata": {
            "tags": []
          },
          "execution_count": 64
        }
      ]
    },
    {
      "cell_type": "markdown",
      "metadata": {
        "id": "5uRlFUgn4bh6"
      },
      "source": [
        "A representation of a number (p/q) is represented as object of Rational class with q being a non-zero number"
      ]
    },
    {
      "cell_type": "code",
      "metadata": {
        "colab": {
          "base_uri": "https://localhost:8080/",
          "height": 51
        },
        "id": "NnsgFYXX4RFm",
        "outputId": "b6c82e8a-f573-42b5-b08a-7e4f7b513fcf"
      },
      "source": [
        "Rational(3/4)"
      ],
      "execution_count": null,
      "outputs": [
        {
          "output_type": "execute_result",
          "data": {
            "text/latex": "$\\displaystyle \\frac{3}{4}$",
            "text/plain": [
              "3/4"
            ]
          },
          "metadata": {
            "tags": []
          },
          "execution_count": 65
        }
      ]
    },
    {
      "cell_type": "markdown",
      "metadata": {
        "id": "ulwNdOia4idz"
      },
      "source": [
        "If a floating point number is passed to Rational() constructor, it returns underlying value of its binary representation"
      ]
    },
    {
      "cell_type": "code",
      "metadata": {
        "colab": {
          "base_uri": "https://localhost:8080/",
          "height": 51
        },
        "id": "7fO9Zv5N4ewb",
        "outputId": "f7626c6f-17c9-4d75-d227-17c626b83af7"
      },
      "source": [
        "Rational(0.2)"
      ],
      "execution_count": null,
      "outputs": [
        {
          "output_type": "execute_result",
          "data": {
            "text/latex": "$\\displaystyle \\frac{3602879701896397}{18014398509481984}$",
            "text/plain": [
              "3602879701896397/18014398509481984"
            ]
          },
          "metadata": {
            "tags": []
          },
          "execution_count": 66
        }
      ]
    },
    {
      "cell_type": "code",
      "metadata": {
        "colab": {
          "base_uri": "https://localhost:8080/",
          "height": 51
        },
        "id": "pdzKbwM54lLz",
        "outputId": "f58ec275-cc23-48b5-fb8b-3e74f3532994"
      },
      "source": [
        "Rational(0.2).limit_denominator(100)"
      ],
      "execution_count": null,
      "outputs": [
        {
          "output_type": "execute_result",
          "data": {
            "text/latex": "$\\displaystyle \\frac{1}{5}$",
            "text/plain": [
              "1/5"
            ]
          },
          "metadata": {
            "tags": []
          },
          "execution_count": 67
        }
      ]
    },
    {
      "cell_type": "code",
      "metadata": {
        "colab": {
          "base_uri": "https://localhost:8080/",
          "height": 51
        },
        "id": "ODXgtbxw4n-L",
        "outputId": "4f23dfcf-a633-4a2d-da95-2c51efc56714"
      },
      "source": [
        "Rational(\"3.65\")"
      ],
      "execution_count": null,
      "outputs": [
        {
          "output_type": "execute_result",
          "data": {
            "text/latex": "$\\displaystyle \\frac{73}{20}$",
            "text/plain": [
              "73/20"
            ]
          },
          "metadata": {
            "tags": []
          },
          "execution_count": 68
        }
      ]
    },
    {
      "cell_type": "code",
      "metadata": {
        "colab": {
          "base_uri": "https://localhost:8080/"
        },
        "id": "oLFg5Mjt4uQx",
        "outputId": "6905ee18-1e99-4ebd-c6e6-e5be903273d7"
      },
      "source": [
        "a=Rational(3,5)\n",
        "print (a)\n",
        "print (\"numerator:{}, denominator:{}\".format(a.p, a.q))"
      ],
      "execution_count": null,
      "outputs": [
        {
          "output_type": "stream",
          "text": [
            "3/5\n",
            "numerator:3, denominator:5\n"
          ],
          "name": "stdout"
        }
      ]
    },
    {
      "cell_type": "code",
      "metadata": {
        "colab": {
          "base_uri": "https://localhost:8080/",
          "height": 51
        },
        "id": "GBtFF-NT4w4B",
        "outputId": "a8cd3d99-c200-4154-9b28-008552e56c76"
      },
      "source": [
        "a"
      ],
      "execution_count": null,
      "outputs": [
        {
          "output_type": "execute_result",
          "data": {
            "text/latex": "$\\displaystyle \\frac{3}{5}$",
            "text/plain": [
              "3/5"
            ]
          },
          "metadata": {
            "tags": []
          },
          "execution_count": 70
        }
      ]
    },
    {
      "cell_type": "code",
      "metadata": {
        "colab": {
          "base_uri": "https://localhost:8080/",
          "height": 37
        },
        "id": "sp9N6RM44xuG",
        "outputId": "9cba7556-dc35-41bf-9058-d60057fee81a"
      },
      "source": [
        "Integer(10)"
      ],
      "execution_count": null,
      "outputs": [
        {
          "output_type": "execute_result",
          "data": {
            "text/latex": "$\\displaystyle 10$",
            "text/plain": [
              "10"
            ]
          },
          "metadata": {
            "tags": []
          },
          "execution_count": 71
        }
      ]
    },
    {
      "cell_type": "code",
      "metadata": {
        "colab": {
          "base_uri": "https://localhost:8080/",
          "height": 37
        },
        "id": "iBUyAsPR41yn",
        "outputId": "c053e6e8-1e13-46dd-c48e-9a785e32d7f7"
      },
      "source": [
        "Integer(3.4)"
      ],
      "execution_count": null,
      "outputs": [
        {
          "output_type": "execute_result",
          "data": {
            "text/latex": "$\\displaystyle 3$",
            "text/plain": [
              "3"
            ]
          },
          "metadata": {
            "tags": []
          },
          "execution_count": 72
        }
      ]
    },
    {
      "cell_type": "code",
      "metadata": {
        "colab": {
          "base_uri": "https://localhost:8080/",
          "height": 37
        },
        "id": "lgvJN4IH46CC",
        "outputId": "f9c052ee-6e75-4830-e73a-4f32d87caa4c"
      },
      "source": [
        "Integer(2/7)"
      ],
      "execution_count": null,
      "outputs": [
        {
          "output_type": "execute_result",
          "data": {
            "text/latex": "$\\displaystyle 0$",
            "text/plain": [
              "0"
            ]
          },
          "metadata": {
            "tags": []
          },
          "execution_count": 73
        }
      ]
    },
    {
      "cell_type": "markdown",
      "metadata": {
        "id": "xs9-OoT349gC"
      },
      "source": [
        "SymPy has a RealNumber class that acts as alias for Float. SymPy also defines Zero and One as singleton classes accessible with S.Zero and S.One respectively as shown below"
      ]
    },
    {
      "cell_type": "code",
      "metadata": {
        "colab": {
          "base_uri": "https://localhost:8080/",
          "height": 37
        },
        "id": "kV1uqI2F47rU",
        "outputId": "23de4f7b-7f92-45a7-b5e8-bb7616b078c4"
      },
      "source": [
        "S.Zero\n",
        "S.One"
      ],
      "execution_count": null,
      "outputs": [
        {
          "output_type": "execute_result",
          "data": {
            "text/latex": "$\\displaystyle 1$",
            "text/plain": [
              "1"
            ]
          },
          "metadata": {
            "tags": []
          },
          "execution_count": 74
        }
      ]
    },
    {
      "cell_type": "code",
      "metadata": {
        "colab": {
          "base_uri": "https://localhost:8080/"
        },
        "id": "JDYoUWFA4_dw",
        "outputId": "449850e2-5df6-46a1-beb7-23fc5e55054b"
      },
      "source": [
        "from sympy import S \n",
        "print (S.Half)"
      ],
      "execution_count": null,
      "outputs": [
        {
          "output_type": "stream",
          "text": [
            "1/2\n"
          ],
          "name": "stdout"
        }
      ]
    },
    {
      "cell_type": "code",
      "metadata": {
        "colab": {
          "base_uri": "https://localhost:8080/"
        },
        "id": "VaM90P0i5CUD",
        "outputId": "fcc43f4b-8d89-4b36-bad4-99507e7e2b41"
      },
      "source": [
        "print (S.NaN)"
      ],
      "execution_count": null,
      "outputs": [
        {
          "output_type": "stream",
          "text": [
            "nan\n"
          ],
          "name": "stdout"
        }
      ]
    },
    {
      "cell_type": "code",
      "metadata": {
        "id": "c2Ef2Ybc5Iff"
      },
      "source": [
        "from sympy import oo"
      ],
      "execution_count": null,
      "outputs": []
    },
    {
      "cell_type": "code",
      "metadata": {
        "colab": {
          "base_uri": "https://localhost:8080/",
          "height": 37
        },
        "id": "BSY9T9vM5KfK",
        "outputId": "104471e6-b2cb-4380-c6c9-c63cc4f242d7"
      },
      "source": [
        "S.Infinity"
      ],
      "execution_count": null,
      "outputs": [
        {
          "output_type": "execute_result",
          "data": {
            "text/latex": "$\\displaystyle \\infty$",
            "text/plain": [
              "oo"
            ]
          },
          "metadata": {
            "tags": []
          },
          "execution_count": 78
        }
      ]
    },
    {
      "cell_type": "markdown",
      "metadata": {
        "id": "-Y_Atq3n5PmU"
      },
      "source": [
        "ImaginaryUnit number can be imported as I symbol or accessed as S.ImaginaryUnit and represents square root of -1"
      ]
    },
    {
      "cell_type": "code",
      "metadata": {
        "id": "XEMONfFz5MLp"
      },
      "source": [
        "from sympy import I"
      ],
      "execution_count": null,
      "outputs": []
    },
    {
      "cell_type": "code",
      "metadata": {
        "colab": {
          "base_uri": "https://localhost:8080/",
          "height": 38
        },
        "id": "tbI_-YBE5SgS",
        "outputId": "0af2cd7f-a239-44af-8166-65aa1c43c087"
      },
      "source": [
        "S.ImaginaryUnit"
      ],
      "execution_count": null,
      "outputs": [
        {
          "output_type": "execute_result",
          "data": {
            "text/latex": "$\\displaystyle i$",
            "text/plain": [
              "I"
            ]
          },
          "metadata": {
            "tags": []
          },
          "execution_count": 80
        }
      ]
    },
    {
      "cell_type": "code",
      "metadata": {
        "colab": {
          "base_uri": "https://localhost:8080/",
          "height": 37
        },
        "id": "BxNtQBU25UGA",
        "outputId": "9087a555-882c-45c2-e18f-2f2f6bb199c0"
      },
      "source": [
        "from sympy import sqrt\n",
        "i=sqrt(-1)\n",
        "i*i"
      ],
      "execution_count": null,
      "outputs": [
        {
          "output_type": "execute_result",
          "data": {
            "text/latex": "$\\displaystyle -1$",
            "text/plain": [
              "-1"
            ]
          },
          "metadata": {
            "tags": []
          },
          "execution_count": 81
        }
      ]
    },
    {
      "cell_type": "markdown",
      "metadata": {
        "id": "XMCyKoYG5ZVu"
      },
      "source": [
        "Symbol is the most important class in symPy library. As mentioned earlier, symbolic computations are done with symbols. \n",
        "SymPy variables are objects of Symbols class.\n",
        "Symbol() function's argument is a string containing symbol which can be assigned to a variable"
      ]
    },
    {
      "cell_type": "code",
      "metadata": {
        "id": "MF9znPea5W9_"
      },
      "source": [
        "from sympy import Symbol\n",
        "x=Symbol('x')\n",
        "y=Symbol('y')\n",
        "expr=x**2+y**2\n"
      ],
      "execution_count": null,
      "outputs": []
    },
    {
      "cell_type": "code",
      "metadata": {
        "colab": {
          "base_uri": "https://localhost:8080/",
          "height": 38
        },
        "id": "NCQzp3mj5cdq",
        "outputId": "45c59a90-401c-4349-d7e6-57f8544047e3"
      },
      "source": [
        "s=Symbol('side')\n",
        "s**3"
      ],
      "execution_count": null,
      "outputs": [
        {
          "output_type": "execute_result",
          "data": {
            "text/latex": "$\\displaystyle side^{3}$",
            "text/plain": [
              "side**3"
            ]
          },
          "metadata": {
            "tags": []
          },
          "execution_count": 83
        }
      ]
    },
    {
      "cell_type": "markdown",
      "metadata": {
        "id": "dfnSvncO50CR"
      },
      "source": [
        "SymPy also has a Symbols() function that can define multiple symbols at once. String contains names of variables separated by comma or space."
      ]
    },
    {
      "cell_type": "code",
      "metadata": {
        "id": "c3INvZKP5wXp"
      },
      "source": [
        "from sympy import symbols\n",
        "x,y,z=symbols(\"x,y,z\")"
      ],
      "execution_count": null,
      "outputs": []
    },
    {
      "cell_type": "markdown",
      "metadata": {
        "id": "e6I51Opz592e"
      },
      "source": [
        "Substitution"
      ]
    },
    {
      "cell_type": "code",
      "metadata": {
        "id": "pDEkkQW_57sl"
      },
      "source": [
        "from sympy.abc import x,a"
      ],
      "execution_count": null,
      "outputs": []
    },
    {
      "cell_type": "code",
      "metadata": {
        "colab": {
          "base_uri": "https://localhost:8080/",
          "height": 38
        },
        "id": "LYFq-8RY6A4-",
        "outputId": "ca985cea-66ba-4e78-807f-fdb66613da4e"
      },
      "source": [
        "expr=sin(x)*sin(x)+cos(x)*cos(x)\n",
        "expr"
      ],
      "execution_count": null,
      "outputs": [
        {
          "output_type": "execute_result",
          "data": {
            "text/latex": "$\\displaystyle \\sin^{2}{\\left(x \\right)} + \\cos^{2}{\\left(x \\right)}$",
            "text/plain": [
              "sin(x)**2 + cos(x)**2"
            ]
          },
          "metadata": {
            "tags": []
          },
          "execution_count": 86
        }
      ]
    },
    {
      "cell_type": "code",
      "metadata": {
        "colab": {
          "base_uri": "https://localhost:8080/"
        },
        "id": "zcQQuk1u6C--",
        "outputId": "699548c6-309e-4af3-8d9e-0492622064a2"
      },
      "source": [
        "expr=a*a + 2*a + 5\n",
        "print(expr)"
      ],
      "execution_count": null,
      "outputs": [
        {
          "output_type": "stream",
          "text": [
            "a**2 + 2*a + 5\n"
          ],
          "name": "stdout"
        }
      ]
    },
    {
      "cell_type": "code",
      "metadata": {
        "colab": {
          "base_uri": "https://localhost:8080/",
          "height": 38
        },
        "id": "ZN-WJXw_6Fjb",
        "outputId": "4e684377-a992-4194-b078-34caf4c37a3d"
      },
      "source": [
        "expr.subs(x,a)"
      ],
      "execution_count": null,
      "outputs": [
        {
          "output_type": "execute_result",
          "data": {
            "text/latex": "$\\displaystyle a^{2} + 2 a + 5$",
            "text/plain": [
              "a**2 + 2*a + 5"
            ]
          },
          "metadata": {
            "tags": []
          },
          "execution_count": 88
        }
      ]
    },
    {
      "cell_type": "code",
      "metadata": {
        "colab": {
          "base_uri": "https://localhost:8080/",
          "height": 38
        },
        "id": "V28lLpVJ6JG5",
        "outputId": "4472ef44-2a94-4094-bc88-3a97ebbd49bd"
      },
      "source": [
        "expr"
      ],
      "execution_count": null,
      "outputs": [
        {
          "output_type": "execute_result",
          "data": {
            "text/latex": "$\\displaystyle a^{2} + 2 a + 5$",
            "text/plain": [
              "a**2 + 2*a + 5"
            ]
          },
          "metadata": {
            "tags": []
          },
          "execution_count": 89
        }
      ]
    },
    {
      "cell_type": "code",
      "metadata": {
        "colab": {
          "base_uri": "https://localhost:8080/",
          "height": 37
        },
        "id": "kUVNAl3u6SX1",
        "outputId": "7b5da8cf-32e6-4b2b-9828-08900e3e0f34"
      },
      "source": [
        "expr.subs(a,5)"
      ],
      "execution_count": null,
      "outputs": [
        {
          "output_type": "execute_result",
          "data": {
            "text/latex": "$\\displaystyle 40$",
            "text/plain": [
              "40"
            ]
          },
          "metadata": {
            "tags": []
          },
          "execution_count": 90
        }
      ]
    },
    {
      "cell_type": "code",
      "metadata": {
        "colab": {
          "base_uri": "https://localhost:8080/",
          "height": 37
        },
        "id": "6nprj6kU6Upk",
        "outputId": "e6ce5bd4-19e2-4536-b712-b6f10cc7c8ae"
      },
      "source": [
        "from sympy import sin, pi\n",
        "from sympy.abc import x\n",
        "ex= sin(x)\n",
        "ex= ex.subs(x,45)\n",
        "ex"
      ],
      "execution_count": null,
      "outputs": [
        {
          "output_type": "execute_result",
          "data": {
            "text/latex": "$\\displaystyle \\sin{\\left(45 \\right)}$",
            "text/plain": [
              "sin(45)"
            ]
          },
          "metadata": {
            "tags": []
          },
          "execution_count": 91
        }
      ]
    },
    {
      "cell_type": "code",
      "metadata": {
        "colab": {
          "base_uri": "https://localhost:8080/",
          "height": 39
        },
        "id": "_dS8tQ6r6XEJ",
        "outputId": "da08af45-e947-42c0-deab-44952e1f79c3"
      },
      "source": [
        "from sympy.abc import a,b\n",
        "expr=(a+b)**2 \n",
        "\n",
        "expr1 = expr.subs(a,a+b)\n",
        "expr1"
      ],
      "execution_count": null,
      "outputs": [
        {
          "output_type": "execute_result",
          "data": {
            "text/latex": "$\\displaystyle \\left(a + 2 b\\right)^{2}$",
            "text/plain": [
              "(a + 2*b)**2"
            ]
          },
          "metadata": {
            "tags": []
          },
          "execution_count": 92
        }
      ]
    },
    {
      "cell_type": "code",
      "metadata": {
        "colab": {
          "base_uri": "https://localhost:8080/"
        },
        "id": "RE7ft45-6akh",
        "outputId": "f9203feb-6b87-4a00-86d5-db90dcd14444"
      },
      "source": [
        "from sympy.abc import a,b\n",
        "expr=(a+b)**2 \n",
        "\n",
        "expr1 = expr.subs(a,4)\n",
        "expr2= expr.subs(b,5)\n",
        "\n",
        "print(expr1)\n",
        "print(expr2)"
      ],
      "execution_count": null,
      "outputs": [
        {
          "output_type": "stream",
          "text": [
            "(b + 4)**2\n",
            "(a + 5)**2\n"
          ],
          "name": "stdout"
        }
      ]
    },
    {
      "cell_type": "code",
      "metadata": {
        "colab": {
          "base_uri": "https://localhost:8080/",
          "height": 39
        },
        "id": "d2-4v25n6dl_",
        "outputId": "0a12e358-5557-4f5a-d251-84161132a53a"
      },
      "source": [
        "from sympy.abc import a,b\n",
        "expr=(a+b)**2 \n",
        "expr1=expr.subs(a,a+b)\n",
        "expr1"
      ],
      "execution_count": null,
      "outputs": [
        {
          "output_type": "execute_result",
          "data": {
            "text/latex": "$\\displaystyle \\left(a + 2 b\\right)^{2}$",
            "text/plain": [
              "(a + 2*b)**2"
            ]
          },
          "metadata": {
            "tags": []
          },
          "execution_count": 94
        }
      ]
    },
    {
      "cell_type": "markdown",
      "metadata": {
        "id": "P0CKaPdW6lhk"
      },
      "source": [
        "**Sympify():**\n",
        "The sympify() function is used to convert any arbitrary expression such that it can be used as a SymPy expression. Normal Python objects such as integer objects are converted in SymPy. Integer, etc..,"
      ]
    },
    {
      "cell_type": "code",
      "metadata": {
        "colab": {
          "base_uri": "https://localhost:8080/",
          "height": 54
        },
        "id": "Lp1RNaLP6hN_",
        "outputId": "71adddd4-d6ad-4ba1-acf4-5010bf81ca01"
      },
      "source": [
        "from sympy import sympify \n",
        "from sympy.abc import x\n",
        "expr = \"x**2+3*x+2\"\n",
        "expr1=sympify(expr)\n",
        "print(expr1)\n",
        "expr1.subs(x,2)"
      ],
      "execution_count": null,
      "outputs": [
        {
          "output_type": "stream",
          "text": [
            "x**2 + 3*x + 2\n"
          ],
          "name": "stdout"
        },
        {
          "output_type": "execute_result",
          "data": {
            "text/latex": "$\\displaystyle 12$",
            "text/plain": [
              "12"
            ]
          },
          "metadata": {
            "tags": []
          },
          "execution_count": 95
        }
      ]
    },
    {
      "cell_type": "code",
      "metadata": {
        "colab": {
          "base_uri": "https://localhost:8080/"
        },
        "id": "3uHJbMuk6olv",
        "outputId": "96aeb942-6f99-4cd9-f485-e0295ccbaa6f"
      },
      "source": [
        "from sympy import sympify \n",
        "from sympy.abc import x\n",
        "expr1= x**2 +2*x+5\n",
        "print(expr1)"
      ],
      "execution_count": null,
      "outputs": [
        {
          "output_type": "stream",
          "text": [
            "x**2 + 2*x + 5\n"
          ],
          "name": "stdout"
        }
      ]
    },
    {
      "cell_type": "code",
      "metadata": {
        "colab": {
          "base_uri": "https://localhost:8080/"
        },
        "id": "LeroMeAJ6r6h",
        "outputId": "cd596e04-9158-4728-cc51-f863a70339f8"
      },
      "source": [
        "from sympy import sympify\n",
        "eq = \"x**2\"\n",
        "eq1= sympify(eq)\n",
        "print(eq1)"
      ],
      "execution_count": null,
      "outputs": [
        {
          "output_type": "stream",
          "text": [
            "x**2\n"
          ],
          "name": "stdout"
        }
      ]
    },
    {
      "cell_type": "code",
      "metadata": {
        "colab": {
          "base_uri": "https://localhost:8080/",
          "height": 51
        },
        "id": "7sfLOLuL6w_g",
        "outputId": "95a435b4-3606-4e36-f79c-77b86052b947"
      },
      "source": [
        "sympify(\"10/5+4/2\", evaluate=False)"
      ],
      "execution_count": null,
      "outputs": [
        {
          "output_type": "execute_result",
          "data": {
            "text/latex": "$\\displaystyle \\frac{10}{5} + \\frac{4}{2}$",
            "text/plain": [
              "10/5 + 4/2"
            ]
          },
          "metadata": {
            "tags": []
          },
          "execution_count": 98
        }
      ]
    },
    {
      "cell_type": "markdown",
      "metadata": {
        "id": "2O-InXzo63IS"
      },
      "source": [
        "This function evaluates a given numerical expression upto a given floating point precision upto 100 digits"
      ]
    },
    {
      "cell_type": "code",
      "metadata": {
        "colab": {
          "base_uri": "https://localhost:8080/",
          "height": 38
        },
        "id": "6smCDUnr60qa",
        "outputId": "5f7b53bd-7554-41c8-c72c-037a5acd6020"
      },
      "source": [
        "from sympy.abc import r \n",
        "from sympy import pi\n",
        "expr=pi*r**2\n",
        "expr"
      ],
      "execution_count": null,
      "outputs": [
        {
          "output_type": "execute_result",
          "data": {
            "text/latex": "$\\displaystyle \\pi r^{2}$",
            "text/plain": [
              "pi*r**2"
            ]
          },
          "metadata": {
            "tags": []
          },
          "execution_count": 99
        }
      ]
    },
    {
      "cell_type": "code",
      "metadata": {
        "colab": {
          "base_uri": "https://localhost:8080/",
          "height": 37
        },
        "id": "CJHRLWSn66mZ",
        "outputId": "2aa37b4c-d245-4c71-fef9-8bfdde3fe0c8"
      },
      "source": [
        "expr.evalf(subs={r:5})\n",
        "# by default the total digits we get is 15 digits"
      ],
      "execution_count": null,
      "outputs": [
        {
          "output_type": "execute_result",
          "data": {
            "text/latex": "$\\displaystyle 78.5398163397448$",
            "text/plain": [
              "78.5398163397448"
            ]
          },
          "metadata": {
            "tags": []
          },
          "execution_count": 100
        }
      ]
    },
    {
      "cell_type": "code",
      "metadata": {
        "colab": {
          "base_uri": "https://localhost:8080/",
          "height": 37
        },
        "id": "EHI01GiP7Fir",
        "outputId": "ba804517-f197-4384-bb90-7e213da87102"
      },
      "source": [
        "from sympy.abc import a,b\n",
        "expr=a/b\n",
        "expr.evalf(10, subs={a:100, b:3})\n",
        "# first argument is no.of digits we are expecting here total value is 10 digits"
      ],
      "execution_count": null,
      "outputs": [
        {
          "output_type": "execute_result",
          "data": {
            "text/latex": "$\\displaystyle 33.33333333$",
            "text/plain": [
              "33.33333333"
            ]
          },
          "metadata": {
            "tags": []
          },
          "execution_count": 101
        }
      ]
    },
    {
      "cell_type": "markdown",
      "metadata": {
        "id": "Yyf_WkXc7N_A"
      },
      "source": [
        "The lambdify function translates SymPy expressions into Python functions. If an expression is to be evaluated over a large range of values, the evalf() function is not efficient. lambdify acts like a lambda function, except it converts the SymPy names to the names of the given numerical library, usually NumPy"
      ]
    },
    {
      "cell_type": "code",
      "metadata": {
        "colab": {
          "base_uri": "https://localhost:8080/"
        },
        "id": "TU3GB6Q77IZN",
        "outputId": "9965bdb6-44f6-47ef-a597-080af6fe286c"
      },
      "source": [
        "from sympy import sin\n",
        "from sympy.abc import x\n",
        "from sympy import lambdify\n",
        "expr=1/sin(x)\n",
        "f=lambdify(x, expr) \n",
        "f(3.14) #function call"
      ],
      "execution_count": null,
      "outputs": [
        {
          "output_type": "execute_result",
          "data": {
            "text/plain": [
              "627.8831939138764"
            ]
          },
          "metadata": {
            "tags": []
          },
          "execution_count": 102
        }
      ]
    },
    {
      "cell_type": "code",
      "metadata": {
        "colab": {
          "base_uri": "https://localhost:8080/"
        },
        "id": "9bnKPCXX7QsZ",
        "outputId": "77da2a09-95dc-427d-b2b2-1ba02ac8bda5"
      },
      "source": [
        "expr=a**2+b**2\n",
        "f=lambdify([a,b],expr) # If expression having two variables\n",
        "f(2,3)"
      ],
      "execution_count": null,
      "outputs": [
        {
          "output_type": "execute_result",
          "data": {
            "text/plain": [
              "13"
            ]
          },
          "metadata": {
            "tags": []
          },
          "execution_count": 103
        }
      ]
    },
    {
      "cell_type": "markdown",
      "metadata": {
        "id": "hvr52aA77VzV"
      },
      "source": [
        "Boolean functions are defined in sympy.basic.booleanarg module. It is possible to build Boolean expressions with the standard python operators & (And), | (Or), ~ (Not) as well as with >> and <<. Boolean expressions inherit from Basic class defined in SymPy's core module."
      ]
    },
    {
      "cell_type": "code",
      "metadata": {
        "colab": {
          "base_uri": "https://localhost:8080/"
        },
        "id": "pBBBVyAr7TqW",
        "outputId": "a807d167-674c-499d-d7dd-6d9bd9221529"
      },
      "source": [
        "from sympy import *\n",
        "x=sympify(true)\n",
        "x, "
      ],
      "execution_count": null,
      "outputs": [
        {
          "output_type": "execute_result",
          "data": {
            "text/plain": [
              "(True,)"
            ]
          },
          "metadata": {
            "tags": []
          },
          "execution_count": 104
        }
      ]
    },
    {
      "cell_type": "code",
      "metadata": {
        "colab": {
          "base_uri": "https://localhost:8080/"
        },
        "id": "JztFjeOx7Yva",
        "outputId": "9340f74f-5c54-4665-d1db-1d4b14d85e8f"
      },
      "source": [
        "from sympy import * \n",
        "from sympy.logic.boolalg import Nand \n",
        "a,b,c=symbols('a b c') \n",
        "a,b,c=(True, False, True) \n",
        "Nand(a,b,c), Nand(a,c)"
      ],
      "execution_count": null,
      "outputs": [
        {
          "output_type": "execute_result",
          "data": {
            "text/plain": [
              "(True, False)"
            ]
          },
          "metadata": {
            "tags": []
          },
          "execution_count": 105
        }
      ]
    },
    {
      "cell_type": "code",
      "metadata": {
        "colab": {
          "base_uri": "https://localhost:8080/"
        },
        "id": "gNkFe3277f3y",
        "outputId": "2d88a4cd-2969-44af-de9c-703bd22ce3e6"
      },
      "source": [
        "from sympy import * \n",
        "x=Symbol('x') \n",
        "x=10 \n",
        "ask(Q.algebraic(pi))"
      ],
      "execution_count": null,
      "outputs": [
        {
          "output_type": "execute_result",
          "data": {
            "text/plain": [
              "False"
            ]
          },
          "metadata": {
            "tags": []
          },
          "execution_count": 107
        }
      ]
    },
    {
      "cell_type": "code",
      "metadata": {
        "colab": {
          "base_uri": "https://localhost:8080/"
        },
        "id": "h48J1EMz7qf6",
        "outputId": "4b9fe4e2-f2f5-4422-d7f7-8268c2541177"
      },
      "source": [
        "ask(Q.complex(5-4*I)), ask( Q.complex(100))\n"
      ],
      "execution_count": null,
      "outputs": [
        {
          "output_type": "execute_result",
          "data": {
            "text/plain": [
              "(True, True)"
            ]
          },
          "metadata": {
            "tags": []
          },
          "execution_count": 108
        }
      ]
    },
    {
      "cell_type": "code",
      "metadata": {
        "colab": {
          "base_uri": "https://localhost:8080/"
        },
        "id": "SerDE99U7ydM",
        "outputId": "968a5156-64f6-4eee-ee2d-7f6a958615ca"
      },
      "source": [
        "x,y=symbols(\"x y\")\n",
        "x,y=5,10 \n",
        "ask(Q.composite(x)), ask(Q.composite(y))\n",
        "\n"
      ],
      "execution_count": null,
      "outputs": [
        {
          "output_type": "execute_result",
          "data": {
            "text/plain": [
              "(False, True)"
            ]
          },
          "metadata": {
            "tags": []
          },
          "execution_count": 109
        }
      ]
    },
    {
      "cell_type": "code",
      "metadata": {
        "colab": {
          "base_uri": "https://localhost:8080/"
        },
        "id": "zPSrfL9P73By",
        "outputId": "de203dfa-0711-445d-ad0f-1e68235a6c44"
      },
      "source": [
        "x,y= 2*I, 4+5*I\n",
        "ask(Q.imaginary(x)), ask(Q.imaginary(y))"
      ],
      "execution_count": null,
      "outputs": [
        {
          "output_type": "execute_result",
          "data": {
            "text/plain": [
              "(True, False)"
            ]
          },
          "metadata": {
            "tags": []
          },
          "execution_count": 110
        }
      ]
    },
    {
      "cell_type": "code",
      "metadata": {
        "colab": {
          "base_uri": "https://localhost:8080/"
        },
        "id": "GTC6Lad277TR",
        "outputId": "dfba946a-2d59-44b8-8c38-0dc95489d0a6"
      },
      "source": [
        "x,y=5,10 \n",
        "ask(Q.even(x)), ask(Q.even(y)), ask(Q.odd(x)), ask(Q.odd(y))"
      ],
      "execution_count": null,
      "outputs": [
        {
          "output_type": "execute_result",
          "data": {
            "text/plain": [
              "(False, True, True, False)"
            ]
          },
          "metadata": {
            "tags": []
          },
          "execution_count": 111
        }
      ]
    },
    {
      "cell_type": "code",
      "metadata": {
        "colab": {
          "base_uri": "https://localhost:8080/"
        },
        "id": "x3qMa6t-8GIC",
        "outputId": "098c0faf-1d00-4738-957f-dc316f895028"
      },
      "source": [
        "ask(Q.zero(oo)), ask(Q.nonzero(I))\n"
      ],
      "execution_count": null,
      "outputs": [
        {
          "output_type": "execute_result",
          "data": {
            "text/plain": [
              "(False, False)"
            ]
          },
          "metadata": {
            "tags": []
          },
          "execution_count": 113
        }
      ]
    },
    {
      "cell_type": "markdown",
      "metadata": {
        "id": "21BPIDZ58MyM"
      },
      "source": [
        "The integrals module in SymPy implements methods to calculate definite and indefinite integrals of expressions."
      ]
    },
    {
      "cell_type": "code",
      "metadata": {
        "colab": {
          "base_uri": "https://localhost:8080/",
          "height": 54
        },
        "id": "qNIr1hi_8KVl",
        "outputId": "46e0b080-49ec-4c6d-8d92-1f5f39c57112"
      },
      "source": [
        "from sympy import *\n",
        "x = Symbol('x')\n",
        "integrate(x**2 + x + 1, x)"
      ],
      "execution_count": null,
      "outputs": [
        {
          "output_type": "execute_result",
          "data": {
            "text/latex": "$\\displaystyle \\frac{x^{3}}{3} + \\frac{x^{2}}{2} + x$",
            "text/plain": [
              "x**3/3 + x**2/2 + x"
            ]
          },
          "metadata": {
            "tags": []
          },
          "execution_count": 114
        }
      ]
    },
    {
      "cell_type": "code",
      "metadata": {
        "colab": {
          "base_uri": "https://localhost:8080/",
          "height": 52
        },
        "id": "QGbiwwqe8Qa3",
        "outputId": "e3a96490-aebc-4f8c-e6f7-5c76ce23801a"
      },
      "source": [
        "integrate(x/(x**2+2*x+1), x)"
      ],
      "execution_count": null,
      "outputs": [
        {
          "output_type": "execute_result",
          "data": {
            "text/latex": "$\\displaystyle \\log{\\left(x + 1 \\right)} + \\frac{1}{x + 1}$",
            "text/plain": [
              "log(x + 1) + 1/(x + 1)"
            ]
          },
          "metadata": {
            "tags": []
          },
          "execution_count": 115
        }
      ]
    },
    {
      "cell_type": "code",
      "metadata": {
        "colab": {
          "base_uri": "https://localhost:8080/",
          "height": 54
        },
        "id": "Czr97U0g8Tmt",
        "outputId": "d3855749-4f1d-47f5-9558-c67507052b09"
      },
      "source": [
        " integrate(x**2 * exp(x) * cos(x), x)"
      ],
      "execution_count": null,
      "outputs": [
        {
          "output_type": "execute_result",
          "data": {
            "text/latex": "$\\displaystyle \\frac{x^{2} e^{x} \\sin{\\left(x \\right)}}{2} + \\frac{x^{2} e^{x} \\cos{\\left(x \\right)}}{2} - x e^{x} \\sin{\\left(x \\right)} + \\frac{e^{x} \\sin{\\left(x \\right)}}{2} - \\frac{e^{x} \\cos{\\left(x \\right)}}{2}$",
            "text/plain": [
              "x**2*exp(x)*sin(x)/2 + x**2*exp(x)*cos(x)/2 - x*exp(x)*sin(x) + exp(x)*sin(x)/2 - exp(x)*cos(x)/2"
            ]
          },
          "metadata": {
            "tags": []
          },
          "execution_count": 116
        }
      ]
    },
    {
      "cell_type": "code",
      "metadata": {
        "colab": {
          "base_uri": "https://localhost:8080/"
        },
        "id": "b1rcFf1d8VN-",
        "outputId": "c25cf771-1740-4476-b45d-de69cf1f4286"
      },
      "source": [
        "from sympy.integrals.transforms import mellin_transform\n",
        "from sympy import exp\n",
        "from sympy.abc import x, s\n",
        "mellin_transform(exp(-x), x, s)"
      ],
      "execution_count": null,
      "outputs": [
        {
          "output_type": "execute_result",
          "data": {
            "text/plain": [
              "(gamma(s), (0, oo), True)"
            ]
          },
          "metadata": {
            "tags": []
          },
          "execution_count": 117
        }
      ]
    },
    {
      "cell_type": "code",
      "metadata": {
        "id": "DwhPFnJj8ZWd"
      },
      "source": [
        "from sympy import *\n",
        "x, y, z = symbols('x y z')\n",
        "init_printing(use_unicode=True)"
      ],
      "execution_count": null,
      "outputs": []
    },
    {
      "cell_type": "code",
      "metadata": {
        "colab": {
          "base_uri": "https://localhost:8080/",
          "height": 38
        },
        "id": "6DekNReP8bh8",
        "outputId": "82f044cc-9529-4bde-8ba7-b3cdeb81cb17"
      },
      "source": [
        "diff(cos(x), x)"
      ],
      "execution_count": null,
      "outputs": [
        {
          "output_type": "execute_result",
          "data": {
            "image/png": "[encoded data removed]",
            "text/latex": "$\\displaystyle - \\sin{\\left(x \\right)}$",
            "text/plain": [
              "-sin(x)"
            ]
          },
          "metadata": {
            "tags": []
          },
          "execution_count": 119
        }
      ]
    },
    {
      "cell_type": "code",
      "metadata": {
        "colab": {
          "base_uri": "https://localhost:8080/",
          "height": 41
        },
        "id": "rUmMmmiB8dqE",
        "outputId": "0ae4295d-6baa-415d-bd56-4c2448db23a2"
      },
      "source": [
        "diff(exp(x**2), x)"
      ],
      "execution_count": null,
      "outputs": [
        {
          "output_type": "execute_result",
          "data": {
            "image/png": "[encoded data removed]",
            "text/latex": "$\\displaystyle 2 x e^{x^{2}}$",
            "text/plain": [
              "     ⎛ 2⎞\n",
              "     ⎝x ⎠\n",
              "2⋅x⋅ℯ    "
            ]
          },
          "metadata": {
            "tags": []
          },
          "execution_count": 120
        }
      ]
    },
    {
      "cell_type": "code",
      "metadata": {
        "colab": {
          "base_uri": "https://localhost:8080/",
          "height": 38
        },
        "id": "N_FjdugL8hwM",
        "outputId": "9412b838-281a-451c-c75d-306e035116d9"
      },
      "source": [
        "diff(x**4, x, x, x)"
      ],
      "execution_count": null,
      "outputs": [
        {
          "output_type": "execute_result",
          "data": {
            "image/png": "[encoded data removed]",
            "text/latex": "$\\displaystyle 24 x$",
            "text/plain": [
              "24⋅x"
            ]
          },
          "metadata": {
            "tags": []
          },
          "execution_count": 121
        }
      ]
    },
    {
      "cell_type": "code",
      "metadata": {
        "colab": {
          "base_uri": "https://localhost:8080/",
          "height": 38
        },
        "id": "Zk8_84VR8kyy",
        "outputId": "5e676890-d74a-4f37-cc85-b2109d4873e5"
      },
      "source": [
        "expr = exp(x*y*z)\n",
        "expr\n",
        "ex= x**2+x+2\n",
        "ex\n",
        "e= x**2 + y**2+2*x+2*y\n",
        "e"
      ],
      "execution_count": null,
      "outputs": [
        {
          "output_type": "execute_result",
          "data": {
            "image/png": "[encoded data removed]",
            "text/latex": "$\\displaystyle x^{2} + 2 x + y^{2} + 2 y$",
            "text/plain": [
              " 2          2      \n",
              "x  + 2⋅x + y  + 2⋅y"
            ]
          },
          "metadata": {
            "tags": []
          },
          "execution_count": 122
        }
      ]
    },
    {
      "cell_type": "code",
      "metadata": {
        "colab": {
          "base_uri": "https://localhost:8080/",
          "height": 38
        },
        "id": "R0H50Ntv8pQn",
        "outputId": "a3ba2016-5999-41fc-9459-e7a78e5be854"
      },
      "source": [
        "diff(expr, x, y, y, z, z, z, z)"
      ],
      "execution_count": null,
      "outputs": [
        {
          "output_type": "execute_result",
          "data": {
            "image/png": "[encoded data removed]",
            "text/latex": "$\\displaystyle x^{3} y^{2} \\left(x^{3} y^{3} z^{3} + 14 x^{2} y^{2} z^{2} + 52 x y z + 48\\right) e^{x y z}$",
            "text/plain": [
              " 3  2 ⎛ 3  3  3       2  2  2                ⎞  x⋅y⋅z\n",
              "x ⋅y ⋅⎝x ⋅y ⋅z  + 14⋅x ⋅y ⋅z  + 52⋅x⋅y⋅z + 48⎠⋅ℯ     "
            ]
          },
          "metadata": {
            "tags": []
          },
          "execution_count": 123
        }
      ]
    },
    {
      "cell_type": "code",
      "metadata": {
        "colab": {
          "base_uri": "https://localhost:8080/",
          "height": 37
        },
        "id": "XwyRDzgl8rgO",
        "outputId": "a0c1ef88-784d-43ba-ac1c-d40c582e1b69"
      },
      "source": [
        "diff(ex, x,x)"
      ],
      "execution_count": null,
      "outputs": [
        {
          "output_type": "execute_result",
          "data": {
            "image/png": "[encoded data removed]",
            "text/latex": "$\\displaystyle 2$",
            "text/plain": [
              "2"
            ]
          },
          "metadata": {
            "tags": []
          },
          "execution_count": 124
        }
      ]
    },
    {
      "cell_type": "code",
      "metadata": {
        "colab": {
          "base_uri": "https://localhost:8080/",
          "height": 37
        },
        "id": "M0fAetKC8utF",
        "outputId": "cfa32394-15c8-4192-ed47-16f3ddbfacb7"
      },
      "source": [
        "diff(e,x,y)"
      ],
      "execution_count": null,
      "outputs": [
        {
          "output_type": "execute_result",
          "data": {
            "image/png": "[encoded data removed]",
            "text/latex": "$\\displaystyle 0$",
            "text/plain": [
              "0"
            ]
          },
          "metadata": {
            "tags": []
          },
          "execution_count": 125
        }
      ]
    },
    {
      "cell_type": "code",
      "metadata": {
        "colab": {
          "base_uri": "https://localhost:8080/",
          "height": 38
        },
        "id": "heqAtaxW8yUA",
        "outputId": "0b198415-8d91-4a30-f9d5-4a440ff47950"
      },
      "source": [
        "diff(expr, x, y, 2, z, 4)"
      ],
      "execution_count": null,
      "outputs": [
        {
          "output_type": "execute_result",
          "data": {
            "image/png": "[encoded data removed]",
            "text/latex": "$\\displaystyle x^{3} y^{2} \\left(x^{3} y^{3} z^{3} + 14 x^{2} y^{2} z^{2} + 52 x y z + 48\\right) e^{x y z}$",
            "text/plain": [
              " 3  2 ⎛ 3  3  3       2  2  2                ⎞  x⋅y⋅z\n",
              "x ⋅y ⋅⎝x ⋅y ⋅z  + 14⋅x ⋅y ⋅z  + 52⋅x⋅y⋅z + 48⎠⋅ℯ     "
            ]
          },
          "metadata": {
            "tags": []
          },
          "execution_count": 126
        }
      ]
    },
    {
      "cell_type": "code",
      "metadata": {
        "colab": {
          "base_uri": "https://localhost:8080/",
          "height": 52
        },
        "id": "43KY0xre81dY",
        "outputId": "76e25e2f-72ec-4b85-e189-06594e502097"
      },
      "source": [
        "m, n, a, b = symbols('m n a b')\n",
        "expr = (a*x + b)**m\n",
        "expr.diff((x, n))"
      ],
      "execution_count": null,
      "outputs": [
        {
          "output_type": "execute_result",
          "data": {
            "image/png": "[encoded data removed]",
            "text/latex": "$\\displaystyle \\frac{\\partial^{n}}{\\partial x^{n}} \\left(a x + b\\right)^{m}$",
            "text/plain": [
              "  n            \n",
              " ∂ ⎛         m⎞\n",
              "───⎝(a⋅x + b) ⎠\n",
              "  n            \n",
              "∂x             "
            ]
          },
          "metadata": {
            "tags": []
          },
          "execution_count": 127
        }
      ]
    },
    {
      "cell_type": "code",
      "metadata": {
        "id": "DDYZm2Ei83xv"
      },
      "source": [
        ""
      ],
      "execution_count": null,
      "outputs": []
    }
  ]
}